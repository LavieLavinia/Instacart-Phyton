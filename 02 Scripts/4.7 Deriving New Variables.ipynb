{
 "cells": [
  {
   "cell_type": "markdown",
   "id": "cfd2cd40",
   "metadata": {},
   "source": [
    "## 01. Import Libraries"
   ]
  },
  {
   "cell_type": "code",
   "execution_count": 78,
   "id": "f9898ea6",
   "metadata": {},
   "outputs": [],
   "source": [
    "import pandas as pd\n",
    "import numpy as np\n",
    "import os"
   ]
  },
  {
   "cell_type": "markdown",
   "id": "6587cde7",
   "metadata": {},
   "source": [
    "## 02. Import Data"
   ]
  },
  {
   "cell_type": "code",
   "execution_count": 79,
   "id": "e71c7a1f",
   "metadata": {},
   "outputs": [],
   "source": [
    "# folder path\n",
    "path = r'/Users/lavinia/Documents/04-2020 Instacart Basket Analysis'"
   ]
  },
  {
   "cell_type": "code",
   "execution_count": 80,
   "id": "22fd7bb8",
   "metadata": {},
   "outputs": [],
   "source": [
    "# import ords_prods_merged\n",
    "df_ords_prods = pd.read_pickle(os.path.join(path,'02 Data', 'Prepared Data', 'orders_products_merged.pkl'))"
   ]
  },
  {
   "cell_type": "code",
   "execution_count": 81,
   "id": "79ae18f9",
   "metadata": {},
   "outputs": [],
   "source": [
    "# create a subset data from ords_prods_merged\n",
    "df = df_ords_prods [:1000000]"
   ]
  },
  {
   "cell_type": "markdown",
   "id": "ce07d85c",
   "metadata": {},
   "source": [
    "## 03. Derive New Variables"
   ]
  },
  {
   "cell_type": "code",
   "execution_count": 82,
   "id": "2c0becb1",
   "metadata": {},
   "outputs": [],
   "source": [
    "# create new function name price_label\n",
    "def price_label(row): # tell the function to look at each row within df\n",
    "\n",
    "        if row['prices'] <= 5:\n",
    "            return 'Low-range product'\n",
    "        elif (row['prices'] > 5) and (row['prices'] <= 15):\n",
    "            return 'Mid-range product'\n",
    "        elif (row['prices'] > 15):\n",
    "            return 'High range'\n",
    "        else: return 'Not enough data'"
   ]
  },
  {
   "cell_type": "code",
   "execution_count": 83,
   "id": "298e0f03",
   "metadata": {},
   "outputs": [
    {
     "name": "stderr",
     "output_type": "stream",
     "text": [
      "<ipython-input-83-d143fdbf2942>:2: SettingWithCopyWarning: \n",
      "A value is trying to be set on a copy of a slice from a DataFrame.\n",
      "Try using .loc[row_indexer,col_indexer] = value instead\n",
      "\n",
      "See the caveats in the documentation: https://pandas.pydata.org/pandas-docs/stable/user_guide/indexing.html#returning-a-view-versus-a-copy\n",
      "  df['price_range'] = df.apply(price_label, axis =1)\n"
     ]
    }
   ],
   "source": [
    "# to apply the price_label to all rows within the dataframe (axis =1)\n",
    "df['price_range'] = df.apply(price_label, axis =1)"
   ]
  },
  {
   "cell_type": "code",
   "execution_count": 84,
   "id": "660ccbc0",
   "metadata": {},
   "outputs": [
    {
     "data": {
      "text/plain": [
       "Mid-range product    756450\n",
       "Low-range product    243550\n",
       "Name: price_range, dtype: int64"
      ]
     },
     "execution_count": 84,
     "metadata": {},
     "output_type": "execute_result"
    }
   ],
   "source": [
    "# count number of occurences using value_counts\n",
    "df['price_range'].value_counts(dropna = False)"
   ]
  },
  {
   "cell_type": "code",
   "execution_count": 85,
   "id": "728b98c0",
   "metadata": {},
   "outputs": [
    {
     "data": {
      "text/plain": [
       "14.8"
      ]
     },
     "execution_count": 85,
     "metadata": {},
     "output_type": "execute_result"
    }
   ],
   "source": [
    "# checking the most expensive product within the subset\n",
    "df['prices'].max()"
   ]
  },
  {
   "cell_type": "markdown",
   "id": "e1083cd0",
   "metadata": {},
   "source": [
    "## 04. If-Statements"
   ]
  },
  {
   "cell_type": "markdown",
   "id": "368088fc",
   "metadata": {},
   "source": [
    "## If-Statements with the loc() Function"
   ]
  },
  {
   "cell_type": "code",
   "execution_count": 86,
   "id": "6523e09e",
   "metadata": {},
   "outputs": [
    {
     "name": "stderr",
     "output_type": "stream",
     "text": [
      "/opt/anaconda3/lib/python3.8/site-packages/pandas/core/indexing.py:1599: SettingWithCopyWarning: \n",
      "A value is trying to be set on a copy of a slice from a DataFrame.\n",
      "Try using .loc[row_indexer,col_indexer] = value instead\n",
      "\n",
      "See the caveats in the documentation: https://pandas.pydata.org/pandas-docs/stable/user_guide/indexing.html#returning-a-view-versus-a-copy\n",
      "  self.obj[key] = infer_fill_value(value)\n",
      "/opt/anaconda3/lib/python3.8/site-packages/pandas/core/indexing.py:1720: SettingWithCopyWarning: \n",
      "A value is trying to be set on a copy of a slice from a DataFrame.\n",
      "Try using .loc[row_indexer,col_indexer] = value instead\n",
      "\n",
      "See the caveats in the documentation: https://pandas.pydata.org/pandas-docs/stable/user_guide/indexing.html#returning-a-view-versus-a-copy\n",
      "  self._setitem_single_column(loc, value, pi)\n"
     ]
    }
   ],
   "source": [
    "# create the condition\n",
    "df.loc[df['prices'] > 15, 'price_range_loc'] = 'High range product'"
   ]
  },
  {
   "cell_type": "code",
   "execution_count": 87,
   "id": "cac1d6eb",
   "metadata": {},
   "outputs": [
    {
     "name": "stderr",
     "output_type": "stream",
     "text": [
      "/opt/anaconda3/lib/python3.8/site-packages/pandas/core/indexing.py:1720: SettingWithCopyWarning: \n",
      "A value is trying to be set on a copy of a slice from a DataFrame.\n",
      "Try using .loc[row_indexer,col_indexer] = value instead\n",
      "\n",
      "See the caveats in the documentation: https://pandas.pydata.org/pandas-docs/stable/user_guide/indexing.html#returning-a-view-versus-a-copy\n",
      "  self._setitem_single_column(loc, value, pi)\n"
     ]
    }
   ],
   "source": [
    "df.loc[(df['prices'] <= 15) & (df['prices'] > 5), 'price_range_loc'] = 'Mid range product'"
   ]
  },
  {
   "cell_type": "code",
   "execution_count": 88,
   "id": "e86dc3d5",
   "metadata": {},
   "outputs": [
    {
     "name": "stderr",
     "output_type": "stream",
     "text": [
      "/opt/anaconda3/lib/python3.8/site-packages/pandas/core/indexing.py:1720: SettingWithCopyWarning: \n",
      "A value is trying to be set on a copy of a slice from a DataFrame.\n",
      "Try using .loc[row_indexer,col_indexer] = value instead\n",
      "\n",
      "See the caveats in the documentation: https://pandas.pydata.org/pandas-docs/stable/user_guide/indexing.html#returning-a-view-versus-a-copy\n",
      "  self._setitem_single_column(loc, value, pi)\n"
     ]
    }
   ],
   "source": [
    "df.loc[df['prices'] <= 5, 'price_range_loc'] = 'Low range product'"
   ]
  },
  {
   "cell_type": "code",
   "execution_count": 89,
   "id": "7fb5e462",
   "metadata": {},
   "outputs": [
    {
     "data": {
      "text/plain": [
       "Mid range product    756450\n",
       "Low range product    243550\n",
       "Name: price_range_loc, dtype: int64"
      ]
     },
     "execution_count": 89,
     "metadata": {},
     "output_type": "execute_result"
    }
   ],
   "source": [
    "df['price_range_loc'].value_counts(dropna = False)"
   ]
  },
  {
   "cell_type": "code",
   "execution_count": 90,
   "id": "3c584864",
   "metadata": {},
   "outputs": [],
   "source": [
    "# using df_ords_prods instead of df\n",
    "df_ords_prods.loc[df_ords_prods['prices'] > 15, 'price_range_loc'] = 'Higher-range product'"
   ]
  },
  {
   "cell_type": "code",
   "execution_count": 91,
   "id": "de95e241",
   "metadata": {},
   "outputs": [],
   "source": [
    "df_ords_prods.loc[(df_ords_prods['prices'] <= 15) & (df_ords_prods['prices'] > 5), 'price_range_loc'] = 'Mid-range product'"
   ]
  },
  {
   "cell_type": "code",
   "execution_count": 92,
   "id": "36651486",
   "metadata": {},
   "outputs": [],
   "source": [
    "df_ords_prods.loc[df_ords_prods['prices'] <=5 , 'price_range_loc'] = 'Low-range product'"
   ]
  },
  {
   "cell_type": "code",
   "execution_count": 93,
   "id": "826fefaa",
   "metadata": {},
   "outputs": [
    {
     "data": {
      "text/plain": [
       "Mid-range product       21860860\n",
       "Low-range product       10126321\n",
       "Higher-range product      417678\n",
       "Name: price_range_loc, dtype: int64"
      ]
     },
     "execution_count": 93,
     "metadata": {},
     "output_type": "execute_result"
    }
   ],
   "source": [
    "df_ords_prods['price_range_loc'].value_counts(dropna = False)"
   ]
  },
  {
   "cell_type": "markdown",
   "id": "84f22ad1",
   "metadata": {},
   "source": [
    "## If-Statements with For_Loops"
   ]
  },
  {
   "cell_type": "code",
   "execution_count": 94,
   "id": "58a8d75f",
   "metadata": {},
   "outputs": [
    {
     "data": {
      "text/plain": [
       "0    6204182\n",
       "1    5660230\n",
       "6    4496490\n",
       "2    4213830\n",
       "5    4205791\n",
       "3    3840534\n",
       "4    3783802\n",
       "Name: order_day_of_week, dtype: int64"
      ]
     },
     "execution_count": 94,
     "metadata": {},
     "output_type": "execute_result"
    }
   ],
   "source": [
    "# print the frequency of the \"order_day_of_week\" column\n",
    "df_ords_prods['order_day_of_week'].value_counts(dropna = False)"
   ]
  },
  {
   "cell_type": "markdown",
   "id": "1a3a1f3e",
   "metadata": {},
   "source": [
    "Saturday is the busiest day, Wednesday is the slowest day when it comes to Instacart app orders. To use this information to create a new column, \"busiest day\", that will contain one of three different values: \"Busiest day\", \"Least busy\", \"Regularly busy\" using for-loop"
   ]
  },
  {
   "cell_type": "code",
   "execution_count": 95,
   "id": "71796784",
   "metadata": {},
   "outputs": [],
   "source": [
    "result = []\n",
    "\n",
    "for value in df_ords_prods[\"order_day_of_week\"]:\n",
    "    if value == 0:\n",
    "        result.append(\"Busiest day\")\n",
    "    elif value == 4:\n",
    "        result.append(\"Least busy\")\n",
    "    else:\n",
    "        result.append(\"Regularly busy\")"
   ]
  },
  {
   "cell_type": "code",
   "execution_count": 96,
   "id": "93600c1d",
   "metadata": {},
   "outputs": [],
   "source": [
    "# combining \"result\" with df_ords_prods dataframe\n",
    "df_ords_prods['busiest_day'] = result"
   ]
  },
  {
   "cell_type": "code",
   "execution_count": 97,
   "id": "0f39c836",
   "metadata": {},
   "outputs": [
    {
     "data": {
      "text/plain": [
       "Regularly busy    22416875\n",
       "Busiest day        6204182\n",
       "Least busy         3783802\n",
       "Name: busiest_day, dtype: int64"
      ]
     },
     "execution_count": 97,
     "metadata": {},
     "output_type": "execute_result"
    }
   ],
   "source": [
    "df_ords_prods['busiest_day'].value_counts(dropna = False)"
   ]
  },
  {
   "cell_type": "markdown",
   "id": "9f29eb47",
   "metadata": {},
   "source": [
    "# A4, E7"
   ]
  },
  {
   "cell_type": "markdown",
   "id": "b9b3db2c",
   "metadata": {},
   "source": [
    "## 2) Suppose your clients have changed their minds about the labels you created in your “busiest_day” column. Now, they want “Busiest day” to become “Busiest days” (plural). This label should correspond with the two busiest days of the week as opposed to the single busiest day. At the same time, they’d also like to know the two slowest days. Create a new column for this using a suitable method."
   ]
  },
  {
   "cell_type": "code",
   "execution_count": 98,
   "id": "bd3db24d",
   "metadata": {},
   "outputs": [],
   "source": [
    "result_client = []\n",
    "\n",
    "for value in df_ords_prods['order_day_of_week']:\n",
    "    if (value == 0) or (value == 1):\n",
    "        result_client.append('Busiest days')\n",
    "    elif (value == 4) or (value == 3):\n",
    "        result_client.append('Slowest days')\n",
    "    else:\n",
    "        result_client.append('Regular busy days')"
   ]
  },
  {
   "cell_type": "code",
   "execution_count": 99,
   "id": "5d900d50",
   "metadata": {},
   "outputs": [],
   "source": [
    "# combining \"result_client\" with df_ords_prods dataframe\n",
    "df_ords_prods['busiest_days'] = result_client"
   ]
  },
  {
   "cell_type": "markdown",
   "id": "70bd4b08",
   "metadata": {},
   "source": [
    "## 3) Check the values of this new column for accuracy. "
   ]
  },
  {
   "cell_type": "code",
   "execution_count": 100,
   "id": "62529e7c",
   "metadata": {},
   "outputs": [
    {
     "data": {
      "text/plain": [
       "Regular busy days    12916111\n",
       "Busiest days         11864412\n",
       "Slowest days          7624336\n",
       "Name: busiest_days, dtype: int64"
      ]
     },
     "execution_count": 100,
     "metadata": {},
     "output_type": "execute_result"
    }
   ],
   "source": [
    "df_ords_prods['busiest_days'].value_counts(dropna = False)"
   ]
  },
  {
   "cell_type": "markdown",
   "id": "5a777007",
   "metadata": {},
   "source": [
    "## 4) When too many users make Instacart orders at the same time, the app freezes. The senior technical officer at Instacart wants you to identify the busiest hours of the day. Rather than by hour, they want periods of time labeled “Most orders,” “Average orders,” and “Fewest orders.” Create a new column containing these labels called “busiest_period_of_day.”"
   ]
  },
  {
   "cell_type": "code",
   "execution_count": 101,
   "id": "1e06983e",
   "metadata": {
    "scrolled": false
   },
   "outputs": [
    {
     "data": {
      "text/html": [
       "<div>\n",
       "<style scoped>\n",
       "    .dataframe tbody tr th:only-of-type {\n",
       "        vertical-align: middle;\n",
       "    }\n",
       "\n",
       "    .dataframe tbody tr th {\n",
       "        vertical-align: top;\n",
       "    }\n",
       "\n",
       "    .dataframe thead th {\n",
       "        text-align: right;\n",
       "    }\n",
       "</style>\n",
       "<table border=\"1\" class=\"dataframe\">\n",
       "  <thead>\n",
       "    <tr style=\"text-align: right;\">\n",
       "      <th></th>\n",
       "      <th>order_id</th>\n",
       "      <th>user_id</th>\n",
       "      <th>order_number</th>\n",
       "      <th>order_day_of_week</th>\n",
       "      <th>order_hour_of_day</th>\n",
       "      <th>days_since_prior_order</th>\n",
       "      <th>product_id</th>\n",
       "      <th>add_to_cart_order</th>\n",
       "      <th>reordered</th>\n",
       "      <th>product_name</th>\n",
       "      <th>aisle_id</th>\n",
       "      <th>department_id</th>\n",
       "      <th>prices</th>\n",
       "      <th>_merge</th>\n",
       "      <th>price_range_loc</th>\n",
       "      <th>busiest_day</th>\n",
       "      <th>busiest_days</th>\n",
       "    </tr>\n",
       "  </thead>\n",
       "  <tbody>\n",
       "    <tr>\n",
       "      <th>60725</th>\n",
       "      <td>2539329</td>\n",
       "      <td>1</td>\n",
       "      <td>1</td>\n",
       "      <td>2</td>\n",
       "      <td>8</td>\n",
       "      <td>NaN</td>\n",
       "      <td>26405</td>\n",
       "      <td>5</td>\n",
       "      <td>0</td>\n",
       "      <td>XL Pick-A-Size Paper Towel Rolls</td>\n",
       "      <td>54</td>\n",
       "      <td>17</td>\n",
       "      <td>1.0</td>\n",
       "      <td>both</td>\n",
       "      <td>Low-range product</td>\n",
       "      <td>Regularly busy</td>\n",
       "      <td>Regular busy days</td>\n",
       "    </tr>\n",
       "    <tr>\n",
       "      <th>58202</th>\n",
       "      <td>2539329</td>\n",
       "      <td>1</td>\n",
       "      <td>1</td>\n",
       "      <td>2</td>\n",
       "      <td>8</td>\n",
       "      <td>NaN</td>\n",
       "      <td>26088</td>\n",
       "      <td>4</td>\n",
       "      <td>0</td>\n",
       "      <td>Aged White Cheddar Popcorn</td>\n",
       "      <td>23</td>\n",
       "      <td>19</td>\n",
       "      <td>4.7</td>\n",
       "      <td>both</td>\n",
       "      <td>Low-range product</td>\n",
       "      <td>Regularly busy</td>\n",
       "      <td>Regular busy days</td>\n",
       "    </tr>\n",
       "    <tr>\n",
       "      <th>35791</th>\n",
       "      <td>2539329</td>\n",
       "      <td>1</td>\n",
       "      <td>1</td>\n",
       "      <td>2</td>\n",
       "      <td>8</td>\n",
       "      <td>NaN</td>\n",
       "      <td>14084</td>\n",
       "      <td>2</td>\n",
       "      <td>0</td>\n",
       "      <td>Organic Unsweetened Vanilla Almond Milk</td>\n",
       "      <td>91</td>\n",
       "      <td>16</td>\n",
       "      <td>12.5</td>\n",
       "      <td>both</td>\n",
       "      <td>Mid-range product</td>\n",
       "      <td>Regularly busy</td>\n",
       "      <td>Regular busy days</td>\n",
       "    </tr>\n",
       "    <tr>\n",
       "      <th>51726</th>\n",
       "      <td>2539329</td>\n",
       "      <td>1</td>\n",
       "      <td>1</td>\n",
       "      <td>2</td>\n",
       "      <td>8</td>\n",
       "      <td>NaN</td>\n",
       "      <td>12427</td>\n",
       "      <td>3</td>\n",
       "      <td>0</td>\n",
       "      <td>Original Beef Jerky</td>\n",
       "      <td>23</td>\n",
       "      <td>19</td>\n",
       "      <td>4.4</td>\n",
       "      <td>both</td>\n",
       "      <td>Low-range product</td>\n",
       "      <td>Regularly busy</td>\n",
       "      <td>Regular busy days</td>\n",
       "    </tr>\n",
       "    <tr>\n",
       "      <th>0</th>\n",
       "      <td>2539329</td>\n",
       "      <td>1</td>\n",
       "      <td>1</td>\n",
       "      <td>2</td>\n",
       "      <td>8</td>\n",
       "      <td>NaN</td>\n",
       "      <td>196</td>\n",
       "      <td>1</td>\n",
       "      <td>0</td>\n",
       "      <td>Soda</td>\n",
       "      <td>77</td>\n",
       "      <td>7</td>\n",
       "      <td>9.0</td>\n",
       "      <td>both</td>\n",
       "      <td>Mid-range product</td>\n",
       "      <td>Regularly busy</td>\n",
       "      <td>Regular busy days</td>\n",
       "    </tr>\n",
       "    <tr>\n",
       "      <th>529593</th>\n",
       "      <td>2550362</td>\n",
       "      <td>1</td>\n",
       "      <td>10</td>\n",
       "      <td>4</td>\n",
       "      <td>8</td>\n",
       "      <td>30.0</td>\n",
       "      <td>46149</td>\n",
       "      <td>2</td>\n",
       "      <td>1</td>\n",
       "      <td>Zero Calorie Cola</td>\n",
       "      <td>77</td>\n",
       "      <td>7</td>\n",
       "      <td>13.4</td>\n",
       "      <td>both</td>\n",
       "      <td>Mid-range product</td>\n",
       "      <td>Least busy</td>\n",
       "      <td>Slowest days</td>\n",
       "    </tr>\n",
       "    <tr>\n",
       "      <th>614509</th>\n",
       "      <td>2550362</td>\n",
       "      <td>1</td>\n",
       "      <td>10</td>\n",
       "      <td>4</td>\n",
       "      <td>8</td>\n",
       "      <td>30.0</td>\n",
       "      <td>39657</td>\n",
       "      <td>3</td>\n",
       "      <td>0</td>\n",
       "      <td>Milk Chocolate Almonds</td>\n",
       "      <td>45</td>\n",
       "      <td>19</td>\n",
       "      <td>6.8</td>\n",
       "      <td>both</td>\n",
       "      <td>Mid-range product</td>\n",
       "      <td>Least busy</td>\n",
       "      <td>Slowest days</td>\n",
       "    </tr>\n",
       "    <tr>\n",
       "      <th>619528</th>\n",
       "      <td>2550362</td>\n",
       "      <td>1</td>\n",
       "      <td>10</td>\n",
       "      <td>4</td>\n",
       "      <td>8</td>\n",
       "      <td>30.0</td>\n",
       "      <td>38928</td>\n",
       "      <td>4</td>\n",
       "      <td>0</td>\n",
       "      <td>0% Greek Strained Yogurt</td>\n",
       "      <td>120</td>\n",
       "      <td>16</td>\n",
       "      <td>12.6</td>\n",
       "      <td>both</td>\n",
       "      <td>Mid-range product</td>\n",
       "      <td>Least busy</td>\n",
       "      <td>Slowest days</td>\n",
       "    </tr>\n",
       "    <tr>\n",
       "      <th>632766</th>\n",
       "      <td>2550362</td>\n",
       "      <td>1</td>\n",
       "      <td>10</td>\n",
       "      <td>4</td>\n",
       "      <td>8</td>\n",
       "      <td>30.0</td>\n",
       "      <td>35951</td>\n",
       "      <td>7</td>\n",
       "      <td>0</td>\n",
       "      <td>Organic Unsweetened Almond Milk</td>\n",
       "      <td>91</td>\n",
       "      <td>16</td>\n",
       "      <td>1.3</td>\n",
       "      <td>both</td>\n",
       "      <td>Low-range product</td>\n",
       "      <td>Least busy</td>\n",
       "      <td>Slowest days</td>\n",
       "    </tr>\n",
       "    <tr>\n",
       "      <th>447093</th>\n",
       "      <td>2550362</td>\n",
       "      <td>1</td>\n",
       "      <td>10</td>\n",
       "      <td>4</td>\n",
       "      <td>8</td>\n",
       "      <td>30.0</td>\n",
       "      <td>25133</td>\n",
       "      <td>5</td>\n",
       "      <td>1</td>\n",
       "      <td>Organic String Cheese</td>\n",
       "      <td>21</td>\n",
       "      <td>16</td>\n",
       "      <td>8.6</td>\n",
       "      <td>both</td>\n",
       "      <td>Mid-range product</td>\n",
       "      <td>Least busy</td>\n",
       "      <td>Slowest days</td>\n",
       "    </tr>\n",
       "    <tr>\n",
       "      <th>443337</th>\n",
       "      <td>2550362</td>\n",
       "      <td>1</td>\n",
       "      <td>10</td>\n",
       "      <td>4</td>\n",
       "      <td>8</td>\n",
       "      <td>30.0</td>\n",
       "      <td>13032</td>\n",
       "      <td>8</td>\n",
       "      <td>1</td>\n",
       "      <td>Cinnamon Toast Crunch</td>\n",
       "      <td>121</td>\n",
       "      <td>14</td>\n",
       "      <td>4.0</td>\n",
       "      <td>both</td>\n",
       "      <td>Low-range product</td>\n",
       "      <td>Least busy</td>\n",
       "      <td>Slowest days</td>\n",
       "    </tr>\n",
       "    <tr>\n",
       "      <th>51735</th>\n",
       "      <td>2550362</td>\n",
       "      <td>1</td>\n",
       "      <td>10</td>\n",
       "      <td>4</td>\n",
       "      <td>8</td>\n",
       "      <td>30.0</td>\n",
       "      <td>12427</td>\n",
       "      <td>9</td>\n",
       "      <td>1</td>\n",
       "      <td>Original Beef Jerky</td>\n",
       "      <td>23</td>\n",
       "      <td>19</td>\n",
       "      <td>4.4</td>\n",
       "      <td>both</td>\n",
       "      <td>Low-range product</td>\n",
       "      <td>Least busy</td>\n",
       "      <td>Slowest days</td>\n",
       "    </tr>\n",
       "    <tr>\n",
       "      <th>61947</th>\n",
       "      <td>2550362</td>\n",
       "      <td>1</td>\n",
       "      <td>10</td>\n",
       "      <td>4</td>\n",
       "      <td>8</td>\n",
       "      <td>30.0</td>\n",
       "      <td>10258</td>\n",
       "      <td>6</td>\n",
       "      <td>1</td>\n",
       "      <td>Pistachios</td>\n",
       "      <td>117</td>\n",
       "      <td>19</td>\n",
       "      <td>3.0</td>\n",
       "      <td>both</td>\n",
       "      <td>Low-range product</td>\n",
       "      <td>Least busy</td>\n",
       "      <td>Slowest days</td>\n",
       "    </tr>\n",
       "    <tr>\n",
       "      <th>9</th>\n",
       "      <td>2550362</td>\n",
       "      <td>1</td>\n",
       "      <td>10</td>\n",
       "      <td>4</td>\n",
       "      <td>8</td>\n",
       "      <td>30.0</td>\n",
       "      <td>196</td>\n",
       "      <td>1</td>\n",
       "      <td>1</td>\n",
       "      <td>Soda</td>\n",
       "      <td>77</td>\n",
       "      <td>7</td>\n",
       "      <td>9.0</td>\n",
       "      <td>both</td>\n",
       "      <td>Mid-range product</td>\n",
       "      <td>Least busy</td>\n",
       "      <td>Slowest days</td>\n",
       "    </tr>\n",
       "  </tbody>\n",
       "</table>\n",
       "</div>"
      ],
      "text/plain": [
       "        order_id  user_id  order_number  order_day_of_week  order_hour_of_day  \\\n",
       "60725    2539329        1             1                  2                  8   \n",
       "58202    2539329        1             1                  2                  8   \n",
       "35791    2539329        1             1                  2                  8   \n",
       "51726    2539329        1             1                  2                  8   \n",
       "0        2539329        1             1                  2                  8   \n",
       "529593   2550362        1            10                  4                  8   \n",
       "614509   2550362        1            10                  4                  8   \n",
       "619528   2550362        1            10                  4                  8   \n",
       "632766   2550362        1            10                  4                  8   \n",
       "447093   2550362        1            10                  4                  8   \n",
       "443337   2550362        1            10                  4                  8   \n",
       "51735    2550362        1            10                  4                  8   \n",
       "61947    2550362        1            10                  4                  8   \n",
       "9        2550362        1            10                  4                  8   \n",
       "\n",
       "        days_since_prior_order  product_id  add_to_cart_order  reordered  \\\n",
       "60725                      NaN       26405                  5          0   \n",
       "58202                      NaN       26088                  4          0   \n",
       "35791                      NaN       14084                  2          0   \n",
       "51726                      NaN       12427                  3          0   \n",
       "0                          NaN         196                  1          0   \n",
       "529593                    30.0       46149                  2          1   \n",
       "614509                    30.0       39657                  3          0   \n",
       "619528                    30.0       38928                  4          0   \n",
       "632766                    30.0       35951                  7          0   \n",
       "447093                    30.0       25133                  5          1   \n",
       "443337                    30.0       13032                  8          1   \n",
       "51735                     30.0       12427                  9          1   \n",
       "61947                     30.0       10258                  6          1   \n",
       "9                         30.0         196                  1          1   \n",
       "\n",
       "                                   product_name  aisle_id  department_id  \\\n",
       "60725          XL Pick-A-Size Paper Towel Rolls        54             17   \n",
       "58202                Aged White Cheddar Popcorn        23             19   \n",
       "35791   Organic Unsweetened Vanilla Almond Milk        91             16   \n",
       "51726                       Original Beef Jerky        23             19   \n",
       "0                                          Soda        77              7   \n",
       "529593                        Zero Calorie Cola        77              7   \n",
       "614509                   Milk Chocolate Almonds        45             19   \n",
       "619528                 0% Greek Strained Yogurt       120             16   \n",
       "632766          Organic Unsweetened Almond Milk        91             16   \n",
       "447093                    Organic String Cheese        21             16   \n",
       "443337                    Cinnamon Toast Crunch       121             14   \n",
       "51735                       Original Beef Jerky        23             19   \n",
       "61947                                Pistachios       117             19   \n",
       "9                                          Soda        77              7   \n",
       "\n",
       "        prices _merge    price_range_loc     busiest_day       busiest_days  \n",
       "60725      1.0   both  Low-range product  Regularly busy  Regular busy days  \n",
       "58202      4.7   both  Low-range product  Regularly busy  Regular busy days  \n",
       "35791     12.5   both  Mid-range product  Regularly busy  Regular busy days  \n",
       "51726      4.4   both  Low-range product  Regularly busy  Regular busy days  \n",
       "0          9.0   both  Mid-range product  Regularly busy  Regular busy days  \n",
       "529593    13.4   both  Mid-range product      Least busy       Slowest days  \n",
       "614509     6.8   both  Mid-range product      Least busy       Slowest days  \n",
       "619528    12.6   both  Mid-range product      Least busy       Slowest days  \n",
       "632766     1.3   both  Low-range product      Least busy       Slowest days  \n",
       "447093     8.6   both  Mid-range product      Least busy       Slowest days  \n",
       "443337     4.0   both  Low-range product      Least busy       Slowest days  \n",
       "51735      4.4   both  Low-range product      Least busy       Slowest days  \n",
       "61947      3.0   both  Low-range product      Least busy       Slowest days  \n",
       "9          9.0   both  Mid-range product      Least busy       Slowest days  "
      ]
     },
     "execution_count": 101,
     "metadata": {},
     "output_type": "execute_result"
    }
   ],
   "source": [
    "# create subset dataframe for testing on user_id = 1\n",
    "df_ords_prods[(df_ords_prods['user_id'] == 1) & (df_ords_prods['order_hour_of_day'] == 8)].sort_values(by =['order_id','product_id'], ascending =[True, False])"
   ]
  },
  {
   "cell_type": "code",
   "execution_count": 102,
   "id": "d840a49c",
   "metadata": {},
   "outputs": [],
   "source": [
    "df_test = df_ords_prods[df_ords_prods['user_id'] == 1]"
   ]
  },
  {
   "cell_type": "code",
   "execution_count": 103,
   "id": "4bf84025",
   "metadata": {},
   "outputs": [
    {
     "data": {
      "text/plain": [
       "7     15\n",
       "8     14\n",
       "15     8\n",
       "14     6\n",
       "16     6\n",
       "9      5\n",
       "12     5\n",
       "Name: order_hour_of_day, dtype: int64"
      ]
     },
     "execution_count": 103,
     "metadata": {},
     "output_type": "execute_result"
    }
   ],
   "source": [
    "df_test['order_hour_of_day'].value_counts(dropna = False)"
   ]
  },
  {
   "cell_type": "code",
   "execution_count": 104,
   "id": "d6e264f0",
   "metadata": {},
   "outputs": [
    {
     "data": {
      "text/plain": [
       "order_hour_of_day\n",
       "7     3\n",
       "8     2\n",
       "9     1\n",
       "12    1\n",
       "14    1\n",
       "15    1\n",
       "16    1\n",
       "Name: order_id, dtype: int64"
      ]
     },
     "execution_count": 104,
     "metadata": {},
     "output_type": "execute_result"
    }
   ],
   "source": [
    "# count the number of orders placed during each hour of the day regardless the number of products placed by each user_id\n",
    "df_test.groupby('order_hour_of_day')['order_id'].nunique()\n",
    "# to understand number of orders being placed during each hour of the day in order to identify the peak hours where there are too many users making orders at the same time"
   ]
  },
  {
   "cell_type": "code",
   "execution_count": 105,
   "id": "0e09d238",
   "metadata": {},
   "outputs": [
    {
     "data": {
      "text/plain": [
       "order_hour_of_day\n",
       "8     60\n",
       "7     46\n",
       "15    36\n",
       "14    21\n",
       "16    21\n",
       "9     15\n",
       "12    15\n",
       "Name: add_to_cart_order, dtype: int64"
      ]
     },
     "execution_count": 105,
     "metadata": {},
     "output_type": "execute_result"
    }
   ],
   "source": [
    "# looking at number of products sold by hour of the day\n",
    "df_test.groupby('order_hour_of_day')['add_to_cart_order'].sum().sort_values(ascending = False)\n",
    "# to identify whether users placing small or big orders during certain hour of the day"
   ]
  },
  {
   "cell_type": "code",
   "execution_count": 111,
   "id": "cbe3f98e",
   "metadata": {},
   "outputs": [
    {
     "name": "stderr",
     "output_type": "stream",
     "text": [
      "<ipython-input-111-24cb29f964ce>:2: SettingWithCopyWarning: \n",
      "A value is trying to be set on a copy of a slice from a DataFrame.\n",
      "Try using .loc[row_indexer,col_indexer] = value instead\n",
      "\n",
      "See the caveats in the documentation: https://pandas.pydata.org/pandas-docs/stable/user_guide/indexing.html#returning-a-view-versus-a-copy\n",
      "  df_test['total_sales'] = df_test['prices'] * df_test['add_to_cart_order']\n"
     ]
    }
   ],
   "source": [
    "# looking at sales by hour of the day \n",
    "df_test['total_sales'] = df_test['prices'] * df_test['add_to_cart_order']"
   ]
  },
  {
   "cell_type": "code",
   "execution_count": 107,
   "id": "04ab36cf",
   "metadata": {},
   "outputs": [
    {
     "data": {
      "text/plain": [
       "order_hour_of_day\n",
       "8     319.3\n",
       "15    276.1\n",
       "7     244.3\n",
       "14    143.6\n",
       "16    131.8\n",
       "9      82.6\n",
       "12     77.2\n",
       "Name: total_sales, dtype: float64"
      ]
     },
     "execution_count": 107,
     "metadata": {},
     "output_type": "execute_result"
    }
   ],
   "source": [
    "df_test.groupby('order_hour_of_day')['total_sales'].sum().sort_values(ascending = False)\n",
    "# to identify whether user buying more expensive items during certain hour of the day"
   ]
  },
  {
   "cell_type": "markdown",
   "id": "3df13a88",
   "metadata": {},
   "source": [
    "Answer for Q4: \n",
    "The 24 hours of the day can be split into following in column \"busiest_period_of_day\":\n",
    "“Most orders” : 10, 11, 15, 14, 13, 12, 16, 9\n",
    "“Average orders”: 17, 18, 8, 19, 20, 7, 21, 22\n",
    "“Fewest orders” : 23, 6, 0, 1, 5, 2, 4, 3"
   ]
  },
  {
   "cell_type": "code",
   "execution_count": 113,
   "id": "14783b5f",
   "metadata": {},
   "outputs": [
    {
     "data": {
      "text/plain": [
       "order_hour_of_day\n",
       "10    271871\n",
       "11    267989\n",
       "15    266117\n",
       "14    265544\n",
       "13    261160\n",
       "12    256188\n",
       "16    255936\n",
       "9     243473\n",
       "17    214074\n",
       "18    170992\n",
       "8     168307\n",
       "19    131611\n",
       "20     98102\n",
       "7      86646\n",
       "21     73433\n",
       "22     57538\n",
       "23     37613\n",
       "6      28791\n",
       "0      21371\n",
       "1      11595\n",
       "5       8970\n",
       "2       7070\n",
       "4       5174\n",
       "3       5120\n",
       "Name: order_id, dtype: int64"
      ]
     },
     "execution_count": 113,
     "metadata": {},
     "output_type": "execute_result"
    }
   ],
   "source": [
    "# Identify number of hours based on order_hour_of_day\n",
    "df_ords_prods.groupby('order_hour_of_day')['order_id'].nunique().sort_values(ascending = False)"
   ]
  },
  {
   "cell_type": "code",
   "execution_count": 115,
   "id": "27b6ee3e",
   "metadata": {},
   "outputs": [],
   "source": [
    "# using if-statements with for-loops\n",
    "\n",
    "result_q4 = []\n",
    "\n",
    "for value in df_ords_prods['order_hour_of_day']:\n",
    "    if value in [10, 11, 15, 14, 13, 12, 16, 9]:\n",
    "        result_q4.append('Most orders')\n",
    "    elif value in [23, 6, 0, 1, 5, 2, 4, 3]:\n",
    "        result_q4.append('Fewest orders')\n",
    "    else:\n",
    "        result_q4.append('Average orders')"
   ]
  },
  {
   "cell_type": "code",
   "execution_count": 116,
   "id": "1ca82599",
   "metadata": {},
   "outputs": [],
   "source": [
    "# combining result_q4 with the df_ords_prods dataframe\n",
    "df_ords_prods['busiest_period_of_day'] = result_q4"
   ]
  },
  {
   "cell_type": "markdown",
   "id": "d797406f",
   "metadata": {},
   "source": [
    "## 5) Print the frequency for this new column"
   ]
  },
  {
   "cell_type": "code",
   "execution_count": 120,
   "id": "29fe269a",
   "metadata": {},
   "outputs": [
    {
     "data": {
      "text/plain": [
       "Most orders       21118071\n",
       "Average orders     9997651\n",
       "Fewest orders      1289137\n",
       "Name: busiest_period_of_day, dtype: int64"
      ]
     },
     "execution_count": 120,
     "metadata": {},
     "output_type": "execute_result"
    }
   ],
   "source": [
    "df_ords_prods['busiest_period_of_day'].value_counts(dropna = False)"
   ]
  },
  {
   "cell_type": "markdown",
   "id": "56f5ff36",
   "metadata": {},
   "source": [
    "## 6) Export your dataframe as a pickle file (since you added new columns) and store it correctly in your “Prepared Data” folder."
   ]
  },
  {
   "cell_type": "code",
   "execution_count": 122,
   "id": "e40da6e5",
   "metadata": {},
   "outputs": [],
   "source": [
    "df_ords_prods.to_pickle(os.path.join(path, '02 Data', 'Prepared Data', 'orders_products_merged_updated.pkl'))"
   ]
  }
 ],
 "metadata": {
  "kernelspec": {
   "display_name": "Python 3 (ipykernel)",
   "language": "python",
   "name": "python3"
  },
  "language_info": {
   "codemirror_mode": {
    "name": "ipython",
    "version": 3
   },
   "file_extension": ".py",
   "mimetype": "text/x-python",
   "name": "python",
   "nbconvert_exporter": "python",
   "pygments_lexer": "ipython3",
   "version": "3.10.9"
  }
 },
 "nbformat": 4,
 "nbformat_minor": 5
}
