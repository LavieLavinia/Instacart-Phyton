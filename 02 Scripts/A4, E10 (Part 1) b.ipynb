{
 "cells": [
  {
   "cell_type": "markdown",
   "id": "0a55c0c2",
   "metadata": {},
   "source": [
    "# Contents:\n",
    "01. Import Libraries\n",
    "02. Import Data\n",
    "06. Customer Profile\n",
    "    - Segmentation by Age\n",
    "    - Segmentation by Income\n",
    "    - Segmentation by Marital Status & Number of Dependants\n",
    "    - Segmentation by Department ID\n",
    "07. Visualization of Profiles Distribution\n",
    "    - Customer Profiles by Age\n",
    "    - Customer Profiles by Income\n",
    "    - Customer Profiles by Marital Status & Number of Dependants\n",
    "    - Customer Profiles by Department ID\n",
    "08. Aggregation Max, Mean, and Min Variables for Usage Frequency and Expenditure \n",
    "    - Segmentation by Age\n",
    "    - Segmentation by Income\n",
    "    - Segmentation by Marital Status & Number of Dependants\n",
    "    - Segmentation by Department ID\n",
    "09. Customer Profiles by Regions and Departments\n",
    "    - Age-based Segmentation Profile\n",
    "        - Age Profiles by Region \n",
    "        - Age Profiles by Department\n",
    "    - Income-based Segmentation Profile\n",
    "        - Income Profiles by Region \n",
    "        - Income Profiles by Department\n",
    "    - Family Status-based Segmentation Profile\n",
    "        - Family Profiles by Region \n",
    "        - Family Profiles by Department\n",
    "    - Department based Segmentation Profile\n",
    "        - Department Profiles by Region \n",
    "        - Department Profiles by Department"
   ]
  },
  {
   "cell_type": "markdown",
   "id": "2aece094",
   "metadata": {},
   "source": [
    "# 01. Import Libraries"
   ]
  },
  {
   "cell_type": "code",
   "execution_count": 4,
   "id": "88a17a63",
   "metadata": {},
   "outputs": [],
   "source": [
    "import pandas as pd\n",
    "import numpy as np\n",
    "import os\n",
    "import matplotlib.pyplot as plt\n",
    "import seaborn as sns\n",
    "import scipy"
   ]
  },
  {
   "cell_type": "markdown",
   "id": "914f8ea2",
   "metadata": {},
   "source": [
    "# 02. Import Data"
   ]
  },
  {
   "cell_type": "code",
   "execution_count": 5,
   "id": "5c2a2140",
   "metadata": {},
   "outputs": [],
   "source": [
    "# define path\n",
    "path = r'/Users/lavinia/Documents/04-2020 Instacart Basket Analysis'"
   ]
  },
  {
   "cell_type": "code",
   "execution_count": 6,
   "id": "85bb137a",
   "metadata": {},
   "outputs": [],
   "source": [
    "# import project_file that excludes low-activities customer\n",
    "df_project_excl = pd.read_pickle(os.path.join(path, '02 Data', 'Prepared Data', 'project_file_excllowactcust.pkl'))"
   ]
  },
  {
   "cell_type": "code",
   "execution_count": 7,
   "id": "1d60253d",
   "metadata": {},
   "outputs": [],
   "source": [
    "# import department file\n",
    "df_dept = pd.read_csv(os.path.join(path, '02 Data', 'Prepared data', 'df_dep_wrangled.csv'), index_col = False)"
   ]
  },
  {
   "cell_type": "markdown",
   "id": "f7e71a98",
   "metadata": {},
   "source": [
    "# 06. Customer Profile"
   ]
  },
  {
   "cell_type": "markdown",
   "id": "a7824ce9",
   "metadata": {},
   "source": [
    "### Segmentation by Age"
   ]
  },
  {
   "cell_type": "code",
   "execution_count": 8,
   "id": "55312cec",
   "metadata": {},
   "outputs": [
    {
     "data": {
      "text/plain": [
       "(30964564, 33)"
      ]
     },
     "execution_count": 8,
     "metadata": {},
     "output_type": "execute_result"
    }
   ],
   "source": [
    "# display the dimension of the df_project_excl\n",
    "df_project_excl.shape"
   ]
  },
  {
   "cell_type": "code",
   "execution_count": 9,
   "id": "54d5940c",
   "metadata": {},
   "outputs": [
    {
     "data": {
      "image/png": "[encoded data removed]",
      "text/plain": [
       "<Figure size 640x480 with 1 Axes>"
      ]
     },
     "metadata": {},
     "output_type": "display_data"
    }
   ],
   "source": [
    "# create histogram to understand the age distribution\n",
    "hist_age = df_project_excl['Age'].plot.hist(bins=7)"
   ]
  },
  {
   "cell_type": "code",
   "execution_count": 10,
   "id": "a5de4f89",
   "metadata": {},
   "outputs": [],
   "source": [
    "# create age_flag for age group classification : \"Young Adults\" (18-35), \"Middle-aged Adults\" (36-55), \"Senior Adults\" (>56)\n",
    "df_project_excl.loc[df_project_excl['Age'] <= 35, 'age_flag'] = 'Young Adults'\n",
    "df_project_excl.loc[(df_project_excl['Age'] > 35) & (df_project_excl['Age'] < 56), 'age_flag'] = 'Middle-aged Adults'\n",
    "df_project_excl.loc[df_project_excl['Age'] >= 56, 'age_flag'] = 'Senior Adults'"
   ]
  },
  {
   "cell_type": "code",
   "execution_count": 11,
   "id": "9b9715e9",
   "metadata": {},
   "outputs": [
    {
     "data": {
      "text/plain": [
       "Senior Adults         12508298\n",
       "Middle-aged Adults     9717461\n",
       "Young Adults           8738805\n",
       "Name: age_flag, dtype: int64"
      ]
     },
     "execution_count": 11,
     "metadata": {},
     "output_type": "execute_result"
    }
   ],
   "source": [
    "# count the frequency for each age group category\n",
    "df_project_excl['age_flag'].value_counts(dropna = False)"
   ]
  },
  {
   "cell_type": "code",
   "execution_count": 12,
   "id": "b1b78a59",
   "metadata": {},
   "outputs": [
    {
     "data": {
      "text/plain": [
       "30964564"
      ]
     },
     "execution_count": 12,
     "metadata": {},
     "output_type": "execute_result"
    }
   ],
   "source": [
    "# count the total frequency\n",
    "df_project_excl['age_flag'].value_counts().sum()"
   ]
  },
  {
   "cell_type": "markdown",
   "id": "806ced5a",
   "metadata": {},
   "source": [
    "### Segmentation by Income"
   ]
  },
  {
   "cell_type": "code",
   "execution_count": 13,
   "id": "9f6ae8e8",
   "metadata": {},
   "outputs": [
    {
     "data": {
      "text/plain": [
       "count    3.096456e+07\n",
       "mean     9.967587e+04\n",
       "std      4.314187e+04\n",
       "min      2.590300e+04\n",
       "25%      6.729200e+04\n",
       "50%      9.676500e+04\n",
       "75%      1.281020e+05\n",
       "max      5.939010e+05\n",
       "Name: income, dtype: float64"
      ]
     },
     "execution_count": 13,
     "metadata": {},
     "output_type": "execute_result"
    }
   ],
   "source": [
    "# perform descriptive statistics for income variable\n",
    "df_project_excl['income'].describe()"
   ]
  },
  {
   "cell_type": "code",
   "execution_count": 14,
   "id": "5aa5df0f",
   "metadata": {},
   "outputs": [
    {
     "data": {
      "image/png": "[encoded data removed]",
      "text/plain": [
       "<Figure size 640x480 with 1 Axes>"
      ]
     },
     "metadata": {},
     "output_type": "display_data"
    }
   ],
   "source": [
    "# create the histogram to understand the income distribution\n",
    "hist_inc = df_project_excl['income'].plot.hist(bins = 15)"
   ]
  },
  {
   "cell_type": "code",
   "execution_count": 15,
   "id": "e92c4599",
   "metadata": {},
   "outputs": [],
   "source": [
    "# create income_flag for income group classification : \"Low-income\" (<35k), \"Moderate-income\" (35-75k), \"High-income\" (75-180k), \"Affluent-income\" (>=180k)\n",
    "df_project_excl.loc[df_project_excl['income'] < 35000, 'income_flag'] = 'Low-income'\n",
    "df_project_excl.loc[(df_project_excl['income'] >= 35000) & (df_project_excl['income'] < 75000), 'income_flag'] = 'Moderate-income'\n",
    "df_project_excl.loc[(df_project_excl['income'] >= 75000) & (df_project_excl['income'] < 180000), 'income_flag'] = 'High-income'\n",
    "df_project_excl.loc[df_project_excl['income'] >= 180000, 'income_flag'] = 'Affluent-income'"
   ]
  },
  {
   "cell_type": "code",
   "execution_count": 16,
   "id": "a49e6960",
   "metadata": {},
   "outputs": [
    {
     "data": {
      "text/plain": [
       "High-income        20767000\n",
       "Moderate-income     9008755\n",
       "Low-income           897925\n",
       "Affluent-income      290884\n",
       "Name: income_flag, dtype: int64"
      ]
     },
     "execution_count": 16,
     "metadata": {},
     "output_type": "execute_result"
    }
   ],
   "source": [
    "# count the frequency for each income group category\n",
    "df_project_excl['income_flag'].value_counts(dropna = False)"
   ]
  },
  {
   "cell_type": "code",
   "execution_count": 17,
   "id": "e0cbcfa7",
   "metadata": {},
   "outputs": [
    {
     "data": {
      "text/plain": [
       "30964564"
      ]
     },
     "execution_count": 17,
     "metadata": {},
     "output_type": "execute_result"
    }
   ],
   "source": [
    "# count the total frequency\n",
    "df_project_excl['income_flag'].value_counts().sum()"
   ]
  },
  {
   "cell_type": "markdown",
   "id": "50787d9b",
   "metadata": {},
   "source": [
    "### Segmentation by Marital Status & Number of Dependents "
   ]
  },
  {
   "cell_type": "code",
   "execution_count": 18,
   "id": "41a76964",
   "metadata": {},
   "outputs": [],
   "source": [
    "# create a crosstab between the \"marital_status\" and \"n_dependants\"\n",
    "crosstab_ms_nde = pd.crosstab(df_project_excl['marital_status'], df_project_excl['n_dependants'], dropna = False)"
   ]
  },
  {
   "cell_type": "code",
   "execution_count": 19,
   "id": "7f9a3403",
   "metadata": {},
   "outputs": [
    {
     "data": {
      "text/html": [
       "<div>\n",
       "<style scoped>\n",
       "    .dataframe tbody tr th:only-of-type {\n",
       "        vertical-align: middle;\n",
       "    }\n",
       "\n",
       "    .dataframe tbody tr th {\n",
       "        vertical-align: top;\n",
       "    }\n",
       "\n",
       "    .dataframe thead th {\n",
       "        text-align: right;\n",
       "    }\n",
       "</style>\n",
       "<table border=\"1\" class=\"dataframe\">\n",
       "  <thead>\n",
       "    <tr style=\"text-align: right;\">\n",
       "      <th>n_dependants</th>\n",
       "      <th>0</th>\n",
       "      <th>1</th>\n",
       "      <th>2</th>\n",
       "      <th>3</th>\n",
       "    </tr>\n",
       "    <tr>\n",
       "      <th>marital_status</th>\n",
       "      <th></th>\n",
       "      <th></th>\n",
       "      <th></th>\n",
       "      <th></th>\n",
       "    </tr>\n",
       "  </thead>\n",
       "  <tbody>\n",
       "    <tr>\n",
       "      <th>divorced/widowed</th>\n",
       "      <td>2645271</td>\n",
       "      <td>0</td>\n",
       "      <td>0</td>\n",
       "      <td>0</td>\n",
       "    </tr>\n",
       "    <tr>\n",
       "      <th>living with parents and siblings</th>\n",
       "      <td>0</td>\n",
       "      <td>508045</td>\n",
       "      <td>484658</td>\n",
       "      <td>488469</td>\n",
       "    </tr>\n",
       "    <tr>\n",
       "      <th>married</th>\n",
       "      <td>0</td>\n",
       "      <td>7211061</td>\n",
       "      <td>7248603</td>\n",
       "      <td>7284047</td>\n",
       "    </tr>\n",
       "    <tr>\n",
       "      <th>single</th>\n",
       "      <td>5094410</td>\n",
       "      <td>0</td>\n",
       "      <td>0</td>\n",
       "      <td>0</td>\n",
       "    </tr>\n",
       "  </tbody>\n",
       "</table>\n",
       "</div>"
      ],
      "text/plain": [
       "n_dependants                            0        1        2        3\n",
       "marital_status                                                      \n",
       "divorced/widowed                  2645271        0        0        0\n",
       "living with parents and siblings        0   508045   484658   488469\n",
       "married                                 0  7211061  7248603  7284047\n",
       "single                            5094410        0        0        0"
      ]
     },
     "execution_count": 19,
     "metadata": {},
     "output_type": "execute_result"
    }
   ],
   "source": [
    "# display crosstab\n",
    "crosstab_ms_nde"
   ]
  },
  {
   "cell_type": "code",
   "execution_count": 20,
   "id": "e285d576",
   "metadata": {},
   "outputs": [],
   "source": [
    "# create status_flag for each customer: \n",
    "# label customer as \"Single no dependants\" where ('marital_status' in (divorced/widowed, living with parents and siblings, single)) & (n_dependants == 0)\n",
    "df_project_excl.loc[(df_project_excl['marital_status'].isin(['divorced/widowed', 'living with parents and siblings', 'single'])) & (df_project_excl['n_dependants']==0), 'status_flag'] = 'Single no dependants'\n",
    "# label customer as \"Single with dependants\" where ('marital_status' in (divorced/widowed, living with parents and siblings, single)) & (n_dependants >= 1)\n",
    "df_project_excl.loc[(df_project_excl['marital_status'].isin(['divorced/widowed', 'living with parents and siblings', 'single'])) & (df_project_excl['n_dependants'] >=1), 'status_flag'] = 'Single with dependants'\n",
    "# label customer as \"Married no dependants\" (assumption: 1 dependant is a spouse) where ('marital_status' == 'married') & (n_dependants == 1)\n",
    "df_project_excl.loc[(df_project_excl['marital_status'] == 'married') & (df_project_excl['n_dependants'] == 1), 'status_flag'] = 'Married no dependants'\n",
    "# label customer as \"Married with dependants\" where ('marital_status' == 'married') & (n_dependants > 1)\n",
    "df_project_excl.loc[(df_project_excl['marital_status'] == 'married') & (df_project_excl['n_dependants'] > 1), 'status_flag'] = 'Married with dependants'"
   ]
  },
  {
   "cell_type": "code",
   "execution_count": 21,
   "id": "949f6a01",
   "metadata": {},
   "outputs": [
    {
     "data": {
      "text/plain": [
       "Married with dependants    14532650\n",
       "Single no dependants        7739681\n",
       "Married no dependants       7211061\n",
       "Single with dependants      1481172\n",
       "Name: status_flag, dtype: int64"
      ]
     },
     "execution_count": 21,
     "metadata": {},
     "output_type": "execute_result"
    }
   ],
   "source": [
    "# count the frequency for each status_category\n",
    "df_project_excl['status_flag'].value_counts(dropna = False)"
   ]
  },
  {
   "cell_type": "code",
   "execution_count": 22,
   "id": "7b301f1d",
   "metadata": {},
   "outputs": [
    {
     "data": {
      "text/plain": [
       "30964564"
      ]
     },
     "execution_count": 22,
     "metadata": {},
     "output_type": "execute_result"
    }
   ],
   "source": [
    "# count the total frequency\n",
    "df_project_excl['status_flag'].value_counts().sum()"
   ]
  },
  {
   "cell_type": "markdown",
   "id": "fec25a61",
   "metadata": {},
   "source": [
    "### Segmentation by Department ID"
   ]
  },
  {
   "cell_type": "code",
   "execution_count": 23,
   "id": "0463e83c",
   "metadata": {},
   "outputs": [
    {
     "data": {
      "text/html": [
       "<div>\n",
       "<style scoped>\n",
       "    .dataframe tbody tr th:only-of-type {\n",
       "        vertical-align: middle;\n",
       "    }\n",
       "\n",
       "    .dataframe tbody tr th {\n",
       "        vertical-align: top;\n",
       "    }\n",
       "\n",
       "    .dataframe thead th {\n",
       "        text-align: right;\n",
       "    }\n",
       "</style>\n",
       "<table border=\"1\" class=\"dataframe\">\n",
       "  <thead>\n",
       "    <tr style=\"text-align: right;\">\n",
       "      <th></th>\n",
       "      <th>department_id</th>\n",
       "      <th>department</th>\n",
       "    </tr>\n",
       "  </thead>\n",
       "  <tbody>\n",
       "    <tr>\n",
       "      <th>0</th>\n",
       "      <td>1</td>\n",
       "      <td>frozen</td>\n",
       "    </tr>\n",
       "    <tr>\n",
       "      <th>1</th>\n",
       "      <td>2</td>\n",
       "      <td>other</td>\n",
       "    </tr>\n",
       "    <tr>\n",
       "      <th>2</th>\n",
       "      <td>3</td>\n",
       "      <td>bakery</td>\n",
       "    </tr>\n",
       "    <tr>\n",
       "      <th>3</th>\n",
       "      <td>4</td>\n",
       "      <td>produce</td>\n",
       "    </tr>\n",
       "    <tr>\n",
       "      <th>4</th>\n",
       "      <td>5</td>\n",
       "      <td>alcohol</td>\n",
       "    </tr>\n",
       "  </tbody>\n",
       "</table>\n",
       "</div>"
      ],
      "text/plain": [
       "   department_id department\n",
       "0              1     frozen\n",
       "1              2      other\n",
       "2              3     bakery\n",
       "3              4    produce\n",
       "4              5    alcohol"
      ]
     },
     "execution_count": 23,
     "metadata": {},
     "output_type": "execute_result"
    }
   ],
   "source": [
    "# view the top 5 df_dept\n",
    "df_dept.head()"
   ]
  },
  {
   "cell_type": "code",
   "execution_count": 24,
   "id": "b3d7fe10",
   "metadata": {},
   "outputs": [],
   "source": [
    "# merge the df_project_excl with df_dept\n",
    "df_project_excl_merged = df_project_excl.merge(df_dept, on = 'department_id', how = 'left')"
   ]
  },
  {
   "cell_type": "code",
   "execution_count": 25,
   "id": "f358d449",
   "metadata": {},
   "outputs": [
    {
     "data": {
      "text/plain": [
       "array(['Strained Non-Fat Strawberry Icelandic Style Skyr Yogurt',\n",
       "       'Cilantro Bunch', 'Whole Grain Thin Spaghetti', ...,\n",
       "       'Salted Caramel Craze Ice Cream',\n",
       "       'Organic Unpasteurized Brown Rice Miso',\n",
       "       'Organic Chickpea Fusilli Pasta'], dtype=object)"
      ]
     },
     "execution_count": 25,
     "metadata": {},
     "output_type": "execute_result"
    }
   ],
   "source": [
    "# to show the unique products from \"missing\" department \n",
    "df_project_excl_merged.loc[df_project_excl_merged['department_id']==21, 'product_name'].unique()"
   ]
  },
  {
   "cell_type": "code",
   "execution_count": 26,
   "id": "91cd1942",
   "metadata": {},
   "outputs": [
    {
     "data": {
      "text/html": [
       "<div>\n",
       "<style scoped>\n",
       "    .dataframe tbody tr th:only-of-type {\n",
       "        vertical-align: middle;\n",
       "    }\n",
       "\n",
       "    .dataframe tbody tr th {\n",
       "        vertical-align: top;\n",
       "    }\n",
       "\n",
       "    .dataframe thead th {\n",
       "        text-align: right;\n",
       "    }\n",
       "</style>\n",
       "<table border=\"1\" class=\"dataframe\">\n",
       "  <thead>\n",
       "    <tr style=\"text-align: right;\">\n",
       "      <th></th>\n",
       "      <th>department_id</th>\n",
       "      <th>department</th>\n",
       "      <th>count</th>\n",
       "    </tr>\n",
       "  </thead>\n",
       "  <tbody>\n",
       "    <tr>\n",
       "      <th>3</th>\n",
       "      <td>4</td>\n",
       "      <td>produce</td>\n",
       "      <td>9079273</td>\n",
       "    </tr>\n",
       "    <tr>\n",
       "      <th>15</th>\n",
       "      <td>16</td>\n",
       "      <td>dairy eggs</td>\n",
       "      <td>5177182</td>\n",
       "    </tr>\n",
       "    <tr>\n",
       "      <th>18</th>\n",
       "      <td>19</td>\n",
       "      <td>snacks</td>\n",
       "      <td>2766406</td>\n",
       "    </tr>\n",
       "    <tr>\n",
       "      <th>6</th>\n",
       "      <td>7</td>\n",
       "      <td>beverages</td>\n",
       "      <td>2571901</td>\n",
       "    </tr>\n",
       "    <tr>\n",
       "      <th>0</th>\n",
       "      <td>1</td>\n",
       "      <td>frozen</td>\n",
       "      <td>2121731</td>\n",
       "    </tr>\n",
       "    <tr>\n",
       "      <th>12</th>\n",
       "      <td>13</td>\n",
       "      <td>pantry</td>\n",
       "      <td>1782705</td>\n",
       "    </tr>\n",
       "    <tr>\n",
       "      <th>2</th>\n",
       "      <td>3</td>\n",
       "      <td>bakery</td>\n",
       "      <td>1120828</td>\n",
       "    </tr>\n",
       "    <tr>\n",
       "      <th>14</th>\n",
       "      <td>15</td>\n",
       "      <td>canned goods</td>\n",
       "      <td>1012074</td>\n",
       "    </tr>\n",
       "    <tr>\n",
       "      <th>19</th>\n",
       "      <td>20</td>\n",
       "      <td>deli</td>\n",
       "      <td>1003834</td>\n",
       "    </tr>\n",
       "    <tr>\n",
       "      <th>8</th>\n",
       "      <td>9</td>\n",
       "      <td>dry goods pasta</td>\n",
       "      <td>822136</td>\n",
       "    </tr>\n",
       "    <tr>\n",
       "      <th>16</th>\n",
       "      <td>17</td>\n",
       "      <td>household</td>\n",
       "      <td>699857</td>\n",
       "    </tr>\n",
       "    <tr>\n",
       "      <th>11</th>\n",
       "      <td>12</td>\n",
       "      <td>meat seafood</td>\n",
       "      <td>674781</td>\n",
       "    </tr>\n",
       "    <tr>\n",
       "      <th>13</th>\n",
       "      <td>14</td>\n",
       "      <td>breakfast</td>\n",
       "      <td>670850</td>\n",
       "    </tr>\n",
       "    <tr>\n",
       "      <th>10</th>\n",
       "      <td>11</td>\n",
       "      <td>personal care</td>\n",
       "      <td>424306</td>\n",
       "    </tr>\n",
       "    <tr>\n",
       "      <th>17</th>\n",
       "      <td>18</td>\n",
       "      <td>babies</td>\n",
       "      <td>410392</td>\n",
       "    </tr>\n",
       "    <tr>\n",
       "      <th>5</th>\n",
       "      <td>6</td>\n",
       "      <td>international</td>\n",
       "      <td>255991</td>\n",
       "    </tr>\n",
       "    <tr>\n",
       "      <th>4</th>\n",
       "      <td>5</td>\n",
       "      <td>alcohol</td>\n",
       "      <td>144627</td>\n",
       "    </tr>\n",
       "    <tr>\n",
       "      <th>7</th>\n",
       "      <td>8</td>\n",
       "      <td>pets</td>\n",
       "      <td>93060</td>\n",
       "    </tr>\n",
       "    <tr>\n",
       "      <th>20</th>\n",
       "      <td>21</td>\n",
       "      <td>missing</td>\n",
       "      <td>64768</td>\n",
       "    </tr>\n",
       "    <tr>\n",
       "      <th>1</th>\n",
       "      <td>2</td>\n",
       "      <td>other</td>\n",
       "      <td>34411</td>\n",
       "    </tr>\n",
       "    <tr>\n",
       "      <th>9</th>\n",
       "      <td>10</td>\n",
       "      <td>bulk</td>\n",
       "      <td>33451</td>\n",
       "    </tr>\n",
       "  </tbody>\n",
       "</table>\n",
       "</div>"
      ],
      "text/plain": [
       "    department_id       department    count\n",
       "3               4          produce  9079273\n",
       "15             16       dairy eggs  5177182\n",
       "18             19           snacks  2766406\n",
       "6               7        beverages  2571901\n",
       "0               1           frozen  2121731\n",
       "12             13           pantry  1782705\n",
       "2               3           bakery  1120828\n",
       "14             15     canned goods  1012074\n",
       "19             20             deli  1003834\n",
       "8               9  dry goods pasta   822136\n",
       "16             17        household   699857\n",
       "11             12     meat seafood   674781\n",
       "13             14        breakfast   670850\n",
       "10             11    personal care   424306\n",
       "17             18           babies   410392\n",
       "5               6    international   255991\n",
       "4               5          alcohol   144627\n",
       "7               8             pets    93060\n",
       "20             21          missing    64768\n",
       "1               2            other    34411\n",
       "9              10             bulk    33451"
      ]
     },
     "execution_count": 26,
     "metadata": {},
     "output_type": "execute_result"
    }
   ],
   "source": [
    "# count the number of product in each department. The reset_index is used to reset the index and assign a new column name 'count' to the count values\n",
    "df_project_excl_merged.groupby(['department_id','department']).size().reset_index(name='count').sort_values(by='count', ascending = False)"
   ]
  },
  {
   "cell_type": "markdown",
   "id": "7535a927",
   "metadata": {},
   "source": [
    "Create customers categorization based on their purchased products:\n",
    "- Household essentials buyers: 1 (frozen), 2 (other), 3 (bakery), 4 (produce), 7 (beverages), 9 (dry goods pasta), 10 (bulk), 11 (personal care), 12 (meat seafood), 13 (pantry), 14 (breakfast), 15 (canned goods), 16 (dairy eggs), 17 (household), 19 (snacks), 21 (missing)\n",
    "    - Pet Owners: 8 (pets)\n",
    "    - Parent with babies: 18 (babies)\n",
    "    - Food Enthusiast: 5 (alcohol), 6 (international), 20 (deli)"
   ]
  },
  {
   "cell_type": "code",
   "execution_count": 27,
   "id": "f7c40efb",
   "metadata": {},
   "outputs": [],
   "source": [
    "# create a new dataframe to calculate the frequency of purchases from each department for each customer\n",
    "df_cust_dept = df_project_excl_merged.groupby(['user_id', 'department_id', 'department']).size().reset_index(name = 'product_count')"
   ]
  },
  {
   "cell_type": "code",
   "execution_count": 28,
   "id": "8d35230f",
   "metadata": {},
   "outputs": [],
   "source": [
    "# change the data type of user_id to int\n",
    "df_cust_dept['user_id'] = df_cust_dept['user_id'].astype(int)"
   ]
  },
  {
   "cell_type": "code",
   "execution_count": 29,
   "id": "9c442cb9",
   "metadata": {},
   "outputs": [],
   "source": [
    "# group all departments under household essential buyers\n",
    "household_essentials = [1, 2, 3, 4, 7, 9, 10, 11, 12, 13, 14, 15, 16, 17, 19, 21]\n",
    "pet_owners = [8]\n",
    "parent_w_babies = [18]\n",
    "food_enthusiast = [5, 6, 20]\n",
    "\n",
    "df_cust_dept.loc[df_cust_dept['department_id'].isin(household_essentials), 'category'] = 'Household essentials buyers'\n",
    "df_cust_dept.loc[df_cust_dept['department_id'].isin(pet_owners), 'category'] = 'Pet Owners'\n",
    "df_cust_dept.loc[df_cust_dept['department_id'].isin(parent_w_babies), 'category'] = 'Parent with babies'\n",
    "df_cust_dept.loc[df_cust_dept['department_id'].isin(food_enthusiast), 'category'] = 'Food enthusiast'"
   ]
  },
  {
   "cell_type": "code",
   "execution_count": 30,
   "id": "e70bba8d",
   "metadata": {},
   "outputs": [],
   "source": [
    "# count the number of purchased product of each user_id for each category\n",
    "df_cust_category = df_cust_dept.groupby(['user_id', 'category'])['product_count'].sum().reset_index()"
   ]
  },
  {
   "cell_type": "code",
   "execution_count": 31,
   "id": "fc956016",
   "metadata": {},
   "outputs": [
    {
     "data": {
      "text/html": [
       "<div>\n",
       "<style scoped>\n",
       "    .dataframe tbody tr th:only-of-type {\n",
       "        vertical-align: middle;\n",
       "    }\n",
       "\n",
       "    .dataframe tbody tr th {\n",
       "        vertical-align: top;\n",
       "    }\n",
       "\n",
       "    .dataframe thead th {\n",
       "        text-align: right;\n",
       "    }\n",
       "</style>\n",
       "<table border=\"1\" class=\"dataframe\">\n",
       "  <thead>\n",
       "    <tr style=\"text-align: right;\">\n",
       "      <th></th>\n",
       "      <th>user_id</th>\n",
       "      <th>category</th>\n",
       "      <th>product_count</th>\n",
       "    </tr>\n",
       "  </thead>\n",
       "  <tbody>\n",
       "    <tr>\n",
       "      <th>0</th>\n",
       "      <td>1</td>\n",
       "      <td>Household essentials buyers</td>\n",
       "      <td>59</td>\n",
       "    </tr>\n",
       "    <tr>\n",
       "      <th>1</th>\n",
       "      <td>2</td>\n",
       "      <td>Food enthusiast</td>\n",
       "      <td>24</td>\n",
       "    </tr>\n",
       "    <tr>\n",
       "      <th>2</th>\n",
       "      <td>2</td>\n",
       "      <td>Household essentials buyers</td>\n",
       "      <td>171</td>\n",
       "    </tr>\n",
       "    <tr>\n",
       "      <th>3</th>\n",
       "      <td>3</td>\n",
       "      <td>Food enthusiast</td>\n",
       "      <td>2</td>\n",
       "    </tr>\n",
       "    <tr>\n",
       "      <th>4</th>\n",
       "      <td>3</td>\n",
       "      <td>Household essentials buyers</td>\n",
       "      <td>86</td>\n",
       "    </tr>\n",
       "  </tbody>\n",
       "</table>\n",
       "</div>"
      ],
      "text/plain": [
       "   user_id                     category  product_count\n",
       "0        1  Household essentials buyers             59\n",
       "1        2              Food enthusiast             24\n",
       "2        2  Household essentials buyers            171\n",
       "3        3              Food enthusiast              2\n",
       "4        3  Household essentials buyers             86"
      ]
     },
     "execution_count": 31,
     "metadata": {},
     "output_type": "execute_result"
    }
   ],
   "source": [
    "# copy the table into clipboard to paste it into excel for analysis\n",
    "df_cust_category.head()"
   ]
  },
  {
   "cell_type": "code",
   "execution_count": 32,
   "id": "c3667eaf",
   "metadata": {},
   "outputs": [],
   "source": [
    "# group the df_cust_category by 'user_id' and aggregate 'category' as a list\n",
    "# apply(list) is to apply the 'list' function to each group of categories for each user in the grouped dataframe\n",
    "df_cust_group = df_cust_category.groupby('user_id')['category'].apply(list).reset_index()"
   ]
  },
  {
   "cell_type": "code",
   "execution_count": 33,
   "id": "bef25d8c",
   "metadata": {},
   "outputs": [
    {
     "data": {
      "text/html": [
       "<div>\n",
       "<style scoped>\n",
       "    .dataframe tbody tr th:only-of-type {\n",
       "        vertical-align: middle;\n",
       "    }\n",
       "\n",
       "    .dataframe tbody tr th {\n",
       "        vertical-align: top;\n",
       "    }\n",
       "\n",
       "    .dataframe thead th {\n",
       "        text-align: right;\n",
       "    }\n",
       "</style>\n",
       "<table border=\"1\" class=\"dataframe\">\n",
       "  <thead>\n",
       "    <tr style=\"text-align: right;\">\n",
       "      <th></th>\n",
       "      <th>user_id</th>\n",
       "      <th>category</th>\n",
       "    </tr>\n",
       "  </thead>\n",
       "  <tbody>\n",
       "    <tr>\n",
       "      <th>0</th>\n",
       "      <td>1</td>\n",
       "      <td>[Household essentials buyers]</td>\n",
       "    </tr>\n",
       "    <tr>\n",
       "      <th>1</th>\n",
       "      <td>2</td>\n",
       "      <td>[Food enthusiast, Household essentials buyers]</td>\n",
       "    </tr>\n",
       "    <tr>\n",
       "      <th>2</th>\n",
       "      <td>3</td>\n",
       "      <td>[Food enthusiast, Household essentials buyers]</td>\n",
       "    </tr>\n",
       "    <tr>\n",
       "      <th>3</th>\n",
       "      <td>4</td>\n",
       "      <td>[Food enthusiast, Household essentials buyers]</td>\n",
       "    </tr>\n",
       "    <tr>\n",
       "      <th>4</th>\n",
       "      <td>7</td>\n",
       "      <td>[Food enthusiast, Household essentials buyers,...</td>\n",
       "    </tr>\n",
       "  </tbody>\n",
       "</table>\n",
       "</div>"
      ],
      "text/plain": [
       "   user_id                                           category\n",
       "0        1                      [Household essentials buyers]\n",
       "1        2     [Food enthusiast, Household essentials buyers]\n",
       "2        3     [Food enthusiast, Household essentials buyers]\n",
       "3        4     [Food enthusiast, Household essentials buyers]\n",
       "4        7  [Food enthusiast, Household essentials buyers,..."
      ]
     },
     "execution_count": 33,
     "metadata": {},
     "output_type": "execute_result"
    }
   ],
   "source": [
    "df_cust_group.head()"
   ]
  },
  {
   "cell_type": "code",
   "execution_count": 34,
   "id": "f02063d6",
   "metadata": {},
   "outputs": [],
   "source": [
    "# convert the list of categories in \"category\" column into a single row with a comma-separated string\n",
    "df_cust_group['category'] = df_cust_group['category'].apply(', '.join)"
   ]
  },
  {
   "cell_type": "code",
   "execution_count": 35,
   "id": "05a17314",
   "metadata": {},
   "outputs": [
    {
     "data": {
      "text/plain": [
       "Food enthusiast, Household essentials buyers                                    91922\n",
       "Household essentials buyers                                                     30240\n",
       "Food enthusiast, Household essentials buyers, Parent with babies                24383\n",
       "Food enthusiast, Household essentials buyers, Pet Owners                         8972\n",
       "Household essentials buyers, Parent with babies                                  2877\n",
       "Food enthusiast, Household essentials buyers, Parent with babies, Pet Owners     2747\n",
       "Household essentials buyers, Pet Owners                                          1237\n",
       "Household essentials buyers, Parent with babies, Pet Owners                       219\n",
       "Food enthusiast                                                                    30\n",
       "Food enthusiast, Parent with babies                                                 3\n",
       "Parent with babies                                                                  1\n",
       "Name: category, dtype: int64"
      ]
     },
     "execution_count": 35,
     "metadata": {},
     "output_type": "execute_result"
    }
   ],
   "source": [
    "# count the frequency for each category\n",
    "df_cust_group['category'].value_counts()"
   ]
  },
  {
   "cell_type": "code",
   "execution_count": 36,
   "id": "0d505f43",
   "metadata": {
    "scrolled": false
   },
   "outputs": [
    {
     "data": {
      "text/plain": [
       "162631"
      ]
     },
     "execution_count": 36,
     "metadata": {},
     "output_type": "execute_result"
    }
   ],
   "source": [
    "# count the unique user_id in the project file\n",
    "df_project_excl['user_id'].nunique()"
   ]
  },
  {
   "cell_type": "code",
   "execution_count": 37,
   "id": "85b0ce99",
   "metadata": {},
   "outputs": [],
   "source": [
    "# convert the data type of user_id to int\n",
    "df_project_excl['user_id'] = df_project_excl['user_id'].astype(int)"
   ]
  },
  {
   "cell_type": "code",
   "execution_count": 38,
   "id": "bcabf2ca",
   "metadata": {},
   "outputs": [
    {
     "data": {
      "text/html": [
       "<div>\n",
       "<style scoped>\n",
       "    .dataframe tbody tr th:only-of-type {\n",
       "        vertical-align: middle;\n",
       "    }\n",
       "\n",
       "    .dataframe tbody tr th {\n",
       "        vertical-align: top;\n",
       "    }\n",
       "\n",
       "    .dataframe thead th {\n",
       "        text-align: right;\n",
       "    }\n",
       "</style>\n",
       "<table border=\"1\" class=\"dataframe\">\n",
       "  <thead>\n",
       "    <tr style=\"text-align: right;\">\n",
       "      <th></th>\n",
       "      <th>user_id</th>\n",
       "      <th>category</th>\n",
       "    </tr>\n",
       "  </thead>\n",
       "  <tbody>\n",
       "    <tr>\n",
       "      <th>0</th>\n",
       "      <td>1</td>\n",
       "      <td>Household essentials buyers</td>\n",
       "    </tr>\n",
       "    <tr>\n",
       "      <th>1</th>\n",
       "      <td>2</td>\n",
       "      <td>Food enthusiast, Household essentials buyers</td>\n",
       "    </tr>\n",
       "    <tr>\n",
       "      <th>2</th>\n",
       "      <td>3</td>\n",
       "      <td>Food enthusiast, Household essentials buyers</td>\n",
       "    </tr>\n",
       "    <tr>\n",
       "      <th>3</th>\n",
       "      <td>4</td>\n",
       "      <td>Food enthusiast, Household essentials buyers</td>\n",
       "    </tr>\n",
       "    <tr>\n",
       "      <th>4</th>\n",
       "      <td>7</td>\n",
       "      <td>Food enthusiast, Household essentials buyers, ...</td>\n",
       "    </tr>\n",
       "    <tr>\n",
       "      <th>...</th>\n",
       "      <td>...</td>\n",
       "      <td>...</td>\n",
       "    </tr>\n",
       "    <tr>\n",
       "      <th>162626</th>\n",
       "      <td>206203</td>\n",
       "      <td>Food enthusiast, Household essentials buyers</td>\n",
       "    </tr>\n",
       "    <tr>\n",
       "      <th>162627</th>\n",
       "      <td>206206</td>\n",
       "      <td>Food enthusiast, Household essentials buyers</td>\n",
       "    </tr>\n",
       "    <tr>\n",
       "      <th>162628</th>\n",
       "      <td>206207</td>\n",
       "      <td>Food enthusiast, Household essentials buyers, ...</td>\n",
       "    </tr>\n",
       "    <tr>\n",
       "      <th>162629</th>\n",
       "      <td>206208</td>\n",
       "      <td>Food enthusiast, Household essentials buyers, ...</td>\n",
       "    </tr>\n",
       "    <tr>\n",
       "      <th>162630</th>\n",
       "      <td>206209</td>\n",
       "      <td>Food enthusiast, Household essentials buyers</td>\n",
       "    </tr>\n",
       "  </tbody>\n",
       "</table>\n",
       "<p>162631 rows × 2 columns</p>\n",
       "</div>"
      ],
      "text/plain": [
       "        user_id                                           category\n",
       "0             1                        Household essentials buyers\n",
       "1             2       Food enthusiast, Household essentials buyers\n",
       "2             3       Food enthusiast, Household essentials buyers\n",
       "3             4       Food enthusiast, Household essentials buyers\n",
       "4             7  Food enthusiast, Household essentials buyers, ...\n",
       "...         ...                                                ...\n",
       "162626   206203       Food enthusiast, Household essentials buyers\n",
       "162627   206206       Food enthusiast, Household essentials buyers\n",
       "162628   206207  Food enthusiast, Household essentials buyers, ...\n",
       "162629   206208  Food enthusiast, Household essentials buyers, ...\n",
       "162630   206209       Food enthusiast, Household essentials buyers\n",
       "\n",
       "[162631 rows x 2 columns]"
      ]
     },
     "execution_count": 38,
     "metadata": {},
     "output_type": "execute_result"
    }
   ],
   "source": [
    "df_cust_group"
   ]
  },
  {
   "cell_type": "code",
   "execution_count": 39,
   "id": "a9ee8ed7",
   "metadata": {},
   "outputs": [],
   "source": [
    "# convert the data type of user_id to int\n",
    "df_project_excl_merged['user_id'] = df_project_excl_merged['user_id'].astype(int)"
   ]
  },
  {
   "cell_type": "code",
   "execution_count": 40,
   "id": "e8e43b2d",
   "metadata": {},
   "outputs": [],
   "source": [
    "# merge the result from segmentation by department_id with the main file\n",
    "df_project_excl_merged = df_project_excl_merged.merge(df_cust_group, on = 'user_id', how = 'left')"
   ]
  },
  {
   "cell_type": "code",
   "execution_count": 41,
   "id": "ee977c7e",
   "metadata": {},
   "outputs": [],
   "source": [
    "# rename column category to column deptcat_flag\n",
    "df_project_excl_merged.rename(columns = {'category' : 'deptcat_flag'}, inplace = True)"
   ]
  },
  {
   "cell_type": "code",
   "execution_count": 42,
   "id": "08331dec",
   "metadata": {},
   "outputs": [],
   "source": [
    "# export the merged project file\n",
    "df_project_excl_merged.to_pickle(os.path.join(path, '02 Data', 'Prepared Data', 'project_final_merged.pkl'))"
   ]
  },
  {
   "cell_type": "markdown",
   "id": "7737a746",
   "metadata": {},
   "source": [
    "# 07. Visualization of Profiles Distribution "
   ]
  },
  {
   "cell_type": "code",
   "execution_count": 43,
   "id": "bc4c5c55",
   "metadata": {},
   "outputs": [],
   "source": [
    "# drop duplicate 'user_id' values, keeping the first occurence\n",
    "unique_customer = df_project_excl_merged.drop_duplicates(subset =['user_id'])"
   ]
  },
  {
   "cell_type": "markdown",
   "id": "add62fe4",
   "metadata": {},
   "source": [
    "### Customer Profiles by Age"
   ]
  },
  {
   "cell_type": "code",
   "execution_count": 44,
   "id": "3ddfa2a9",
   "metadata": {},
   "outputs": [
    {
     "data": {
      "image/png": "[encoded data removed]",
      "text/plain": [
       "<Figure size 640x480 with 1 Axes>"
      ]
     },
     "metadata": {},
     "output_type": "display_data"
    }
   ],
   "source": [
    "# create pie chart \n",
    "age_profile_pie = unique_customer['age_flag'].value_counts().plot.pie(title = 'Profile Distribution by Age', label = '', autopct='%1.1f%%' )\n"
   ]
  },
  {
   "cell_type": "markdown",
   "id": "00600b20",
   "metadata": {},
   "source": [
    "Categorization: Young Adults (18-35), Middle-aged Adults (36-55), Senior Adults (>56). \n",
    "Based on the chart, it appears that  majority of customers are seniors, followed by middle-aged adults, with young adults being the lowest band."
   ]
  },
  {
   "cell_type": "code",
   "execution_count": 45,
   "id": "dde7607a",
   "metadata": {},
   "outputs": [],
   "source": [
    "# export the pie chart\n",
    "age_profile_pie.figure.savefig(os.path.join(path, '04 Analysis', 'Visualizations', 'age_profile_pie.png'))"
   ]
  },
  {
   "cell_type": "markdown",
   "id": "ab58bc58",
   "metadata": {},
   "source": [
    "### Customer Profiles by Income"
   ]
  },
  {
   "cell_type": "code",
   "execution_count": 46,
   "id": "89293c02",
   "metadata": {},
   "outputs": [
    {
     "data": {
      "image/png": "[encoded data removed]",
      "text/plain": [
       "<Figure size 640x480 with 1 Axes>"
      ]
     },
     "metadata": {},
     "output_type": "display_data"
    }
   ],
   "source": [
    "# create pie chart\n",
    "income_profile_pie = unique_customer['income_flag'].value_counts().plot.pie(title = 'Profile Distribution by Income', label = '', autopct='%1.1f%%')"
   ]
  },
  {
   "cell_type": "markdown",
   "id": "672fadfc",
   "metadata": {},
   "source": [
    "Categorization: Low-income (<35k), Moderate-income (35-75k), High-income (75-180k), Affluent-income (>=180k). The majority of Instacart customers earn between 75-180K while the least portion comes from customers who earn more than 180K."
   ]
  },
  {
   "cell_type": "code",
   "execution_count": 47,
   "id": "81972c84",
   "metadata": {},
   "outputs": [],
   "source": [
    "# export the pie chart\n",
    "income_profile_pie.figure.savefig(os.path.join(path, '04 Analysis', 'Visualizations', 'income_profile_pie.png'))"
   ]
  },
  {
   "cell_type": "markdown",
   "id": "80493fa1",
   "metadata": {},
   "source": [
    "### Customer Profiles by Marital Status & Number of Dependents"
   ]
  },
  {
   "cell_type": "code",
   "execution_count": 48,
   "id": "d854424b",
   "metadata": {},
   "outputs": [
    {
     "data": {
      "image/png": "[encoded data removed]",
      "text/plain": [
       "<Figure size 640x480 with 1 Axes>"
      ]
     },
     "metadata": {},
     "output_type": "display_data"
    }
   ],
   "source": [
    "# create pie chart\n",
    "family_profile_pie = unique_customer['status_flag'].value_counts().plot.pie(title = 'Profile Distribution by Family Status', label = '', autopct='%1.1f%%')"
   ]
  },
  {
   "cell_type": "markdown",
   "id": "c175dbea",
   "metadata": {},
   "source": [
    "70.2% of Instacart's customers are married couples either without dependants or with dependants, while the rest are single adults, including divorced or widowed."
   ]
  },
  {
   "cell_type": "code",
   "execution_count": 49,
   "id": "c899fbf0",
   "metadata": {},
   "outputs": [],
   "source": [
    "# export the pie chart\n",
    "family_profile_pie.figure.savefig(os.path.join(path, '04 Analysis', 'Visualizations', 'family_profile_pie.png'))"
   ]
  },
  {
   "cell_type": "markdown",
   "id": "a4a1b749",
   "metadata": {},
   "source": [
    "### Customer Profiles by Department ID"
   ]
  },
  {
   "cell_type": "code",
   "execution_count": 50,
   "id": "ec9f42ab",
   "metadata": {},
   "outputs": [
    {
     "data": {
      "image/png": "[encoded data removed]",
      "text/plain": [
       "<Figure size 640x480 with 1 Axes>"
      ]
     },
     "metadata": {},
     "output_type": "display_data"
    }
   ],
   "source": [
    "# create bar chart\n",
    "dept_bar = unique_customer['deptcat_flag'].value_counts().plot.bar(title = 'Profile Distribution by Department')"
   ]
  },
  {
   "cell_type": "markdown",
   "id": "d09c7da4",
   "metadata": {},
   "source": [
    "A combination of household essentials buyers and food enthusiasts makes up the largest segment of Instacart's customer base."
   ]
  },
  {
   "cell_type": "code",
   "execution_count": 51,
   "id": "b1cf55e4",
   "metadata": {},
   "outputs": [],
   "source": [
    "# export the bar chart\n",
    "dept_bar.figure.savefig(os.path.join(path, '04 Analysis', 'Visualizations', 'dept_bar.png'))"
   ]
  },
  {
   "cell_type": "markdown",
   "id": "d895585a",
   "metadata": {},
   "source": [
    "# 08. Aggregation Max, Mean, and Min Variables for Usage Frequency and Expenditure "
   ]
  },
  {
   "cell_type": "markdown",
   "id": "37e6b38f",
   "metadata": {},
   "source": [
    "### Segmentation by Age"
   ]
  },
  {
   "cell_type": "code",
   "execution_count": 52,
   "id": "302e6107",
   "metadata": {
    "scrolled": true
   },
   "outputs": [
    {
     "data": {
      "text/html": [
       "<div>\n",
       "<style scoped>\n",
       "    .dataframe tbody tr th:only-of-type {\n",
       "        vertical-align: middle;\n",
       "    }\n",
       "\n",
       "    .dataframe tbody tr th {\n",
       "        vertical-align: top;\n",
       "    }\n",
       "\n",
       "    .dataframe thead tr th {\n",
       "        text-align: left;\n",
       "    }\n",
       "\n",
       "    .dataframe thead tr:last-of-type th {\n",
       "        text-align: right;\n",
       "    }\n",
       "</style>\n",
       "<table border=\"1\" class=\"dataframe\">\n",
       "  <thead>\n",
       "    <tr>\n",
       "      <th></th>\n",
       "      <th colspan=\"3\" halign=\"left\">days_since_prior_order</th>\n",
       "      <th colspan=\"3\" halign=\"left\">prices</th>\n",
       "    </tr>\n",
       "    <tr>\n",
       "      <th></th>\n",
       "      <th>max</th>\n",
       "      <th>mean</th>\n",
       "      <th>min</th>\n",
       "      <th>max</th>\n",
       "      <th>mean</th>\n",
       "      <th>min</th>\n",
       "    </tr>\n",
       "    <tr>\n",
       "      <th>age_flag</th>\n",
       "      <th></th>\n",
       "      <th></th>\n",
       "      <th></th>\n",
       "      <th></th>\n",
       "      <th></th>\n",
       "      <th></th>\n",
       "    </tr>\n",
       "  </thead>\n",
       "  <tbody>\n",
       "    <tr>\n",
       "      <th>Middle-aged Adults</th>\n",
       "      <td>30.0</td>\n",
       "      <td>10.800688</td>\n",
       "      <td>0.0</td>\n",
       "      <td>25.0</td>\n",
       "      <td>7.789587</td>\n",
       "      <td>1.0</td>\n",
       "    </tr>\n",
       "    <tr>\n",
       "      <th>Senior Adults</th>\n",
       "      <td>30.0</td>\n",
       "      <td>10.804697</td>\n",
       "      <td>0.0</td>\n",
       "      <td>25.0</td>\n",
       "      <td>7.795802</td>\n",
       "      <td>1.0</td>\n",
       "    </tr>\n",
       "    <tr>\n",
       "      <th>Young Adults</th>\n",
       "      <td>30.0</td>\n",
       "      <td>10.829007</td>\n",
       "      <td>0.0</td>\n",
       "      <td>25.0</td>\n",
       "      <td>7.784246</td>\n",
       "      <td>1.0</td>\n",
       "    </tr>\n",
       "  </tbody>\n",
       "</table>\n",
       "</div>"
      ],
      "text/plain": [
       "                   days_since_prior_order                 prices            \\\n",
       "                                      max       mean  min    max      mean   \n",
       "age_flag                                                                     \n",
       "Middle-aged Adults                   30.0  10.800688  0.0   25.0  7.789587   \n",
       "Senior Adults                        30.0  10.804697  0.0   25.0  7.795802   \n",
       "Young Adults                         30.0  10.829007  0.0   25.0  7.784246   \n",
       "\n",
       "                         \n",
       "                    min  \n",
       "age_flag                 \n",
       "Middle-aged Adults  1.0  \n",
       "Senior Adults       1.0  \n",
       "Young Adults        1.0  "
      ]
     },
     "execution_count": 52,
     "metadata": {},
     "output_type": "execute_result"
    }
   ],
   "source": [
    "# age_profile statistics\n",
    "df_project_excl_merged.groupby('age_flag').agg({'days_since_prior_order':['max', 'mean', 'min'], 'prices':['max', 'mean', 'min']})"
   ]
  },
  {
   "cell_type": "markdown",
   "id": "5c94d496",
   "metadata": {},
   "source": [
    "The usage frequency and expenditure are similar across age groups, but middle-aged shoppers tend to shop a little more frequently while seniors tend to purchase slightly more expensive products.    "
   ]
  },
  {
   "cell_type": "markdown",
   "id": "27dc563c",
   "metadata": {},
   "source": [
    "### Segmentation by Income"
   ]
  },
  {
   "cell_type": "code",
   "execution_count": 53,
   "id": "fb57a70b",
   "metadata": {},
   "outputs": [
    {
     "data": {
      "text/html": [
       "<div>\n",
       "<style scoped>\n",
       "    .dataframe tbody tr th:only-of-type {\n",
       "        vertical-align: middle;\n",
       "    }\n",
       "\n",
       "    .dataframe tbody tr th {\n",
       "        vertical-align: top;\n",
       "    }\n",
       "\n",
       "    .dataframe thead tr th {\n",
       "        text-align: left;\n",
       "    }\n",
       "\n",
       "    .dataframe thead tr:last-of-type th {\n",
       "        text-align: right;\n",
       "    }\n",
       "</style>\n",
       "<table border=\"1\" class=\"dataframe\">\n",
       "  <thead>\n",
       "    <tr>\n",
       "      <th></th>\n",
       "      <th colspan=\"3\" halign=\"left\">days_since_prior_order</th>\n",
       "      <th colspan=\"3\" halign=\"left\">prices</th>\n",
       "    </tr>\n",
       "    <tr>\n",
       "      <th></th>\n",
       "      <th>max</th>\n",
       "      <th>mean</th>\n",
       "      <th>min</th>\n",
       "      <th>max</th>\n",
       "      <th>mean</th>\n",
       "      <th>min</th>\n",
       "    </tr>\n",
       "    <tr>\n",
       "      <th>income_flag</th>\n",
       "      <th></th>\n",
       "      <th></th>\n",
       "      <th></th>\n",
       "      <th></th>\n",
       "      <th></th>\n",
       "      <th></th>\n",
       "    </tr>\n",
       "  </thead>\n",
       "  <tbody>\n",
       "    <tr>\n",
       "      <th>Affluent-income</th>\n",
       "      <td>30.0</td>\n",
       "      <td>10.131962</td>\n",
       "      <td>0.0</td>\n",
       "      <td>25.0</td>\n",
       "      <td>7.789078</td>\n",
       "      <td>1.0</td>\n",
       "    </tr>\n",
       "    <tr>\n",
       "      <th>High-income</th>\n",
       "      <td>30.0</td>\n",
       "      <td>10.776709</td>\n",
       "      <td>0.0</td>\n",
       "      <td>25.0</td>\n",
       "      <td>7.956838</td>\n",
       "      <td>1.0</td>\n",
       "    </tr>\n",
       "    <tr>\n",
       "      <th>Low-income</th>\n",
       "      <td>30.0</td>\n",
       "      <td>11.374436</td>\n",
       "      <td>0.0</td>\n",
       "      <td>25.0</td>\n",
       "      <td>6.500726</td>\n",
       "      <td>1.0</td>\n",
       "    </tr>\n",
       "    <tr>\n",
       "      <th>Moderate-income</th>\n",
       "      <td>30.0</td>\n",
       "      <td>10.854022</td>\n",
       "      <td>0.0</td>\n",
       "      <td>25.0</td>\n",
       "      <td>7.536003</td>\n",
       "      <td>1.0</td>\n",
       "    </tr>\n",
       "  </tbody>\n",
       "</table>\n",
       "</div>"
      ],
      "text/plain": [
       "                days_since_prior_order                 prices               \n",
       "                                   max       mean  min    max      mean  min\n",
       "income_flag                                                                 \n",
       "Affluent-income                   30.0  10.131962  0.0   25.0  7.789078  1.0\n",
       "High-income                       30.0  10.776709  0.0   25.0  7.956838  1.0\n",
       "Low-income                        30.0  11.374436  0.0   25.0  6.500726  1.0\n",
       "Moderate-income                   30.0  10.854022  0.0   25.0  7.536003  1.0"
      ]
     },
     "execution_count": 53,
     "metadata": {},
     "output_type": "execute_result"
    }
   ],
   "source": [
    "# income_profile statistics\n",
    "df_project_excl_merged.groupby('income_flag').agg({'days_since_prior_order':['max', 'mean', 'min'], 'prices':['max', 'mean', 'min']})"
   ]
  },
  {
   "cell_type": "markdown",
   "id": "6f1b0cf5",
   "metadata": {},
   "source": [
    "The low-income shoppers shops the least frequently and purchase slightly cheaper items. In terms of expenditure, high-income shopper spend slighly more than the afluent and moderate-income customers."
   ]
  },
  {
   "cell_type": "markdown",
   "id": "4b30f5e9",
   "metadata": {},
   "source": [
    "### Segmentation by Marital Status & Number of Dependents "
   ]
  },
  {
   "cell_type": "code",
   "execution_count": 54,
   "id": "3c0d2e21",
   "metadata": {},
   "outputs": [
    {
     "data": {
      "text/html": [
       "<div>\n",
       "<style scoped>\n",
       "    .dataframe tbody tr th:only-of-type {\n",
       "        vertical-align: middle;\n",
       "    }\n",
       "\n",
       "    .dataframe tbody tr th {\n",
       "        vertical-align: top;\n",
       "    }\n",
       "\n",
       "    .dataframe thead tr th {\n",
       "        text-align: left;\n",
       "    }\n",
       "\n",
       "    .dataframe thead tr:last-of-type th {\n",
       "        text-align: right;\n",
       "    }\n",
       "</style>\n",
       "<table border=\"1\" class=\"dataframe\">\n",
       "  <thead>\n",
       "    <tr>\n",
       "      <th></th>\n",
       "      <th colspan=\"3\" halign=\"left\">days_since_prior_order</th>\n",
       "      <th colspan=\"3\" halign=\"left\">prices</th>\n",
       "    </tr>\n",
       "    <tr>\n",
       "      <th></th>\n",
       "      <th>max</th>\n",
       "      <th>mean</th>\n",
       "      <th>min</th>\n",
       "      <th>max</th>\n",
       "      <th>mean</th>\n",
       "      <th>min</th>\n",
       "    </tr>\n",
       "    <tr>\n",
       "      <th>status_flag</th>\n",
       "      <th></th>\n",
       "      <th></th>\n",
       "      <th></th>\n",
       "      <th></th>\n",
       "      <th></th>\n",
       "      <th></th>\n",
       "    </tr>\n",
       "  </thead>\n",
       "  <tbody>\n",
       "    <tr>\n",
       "      <th>Married no dependants</th>\n",
       "      <td>30.0</td>\n",
       "      <td>10.814660</td>\n",
       "      <td>0.0</td>\n",
       "      <td>25.0</td>\n",
       "      <td>7.795589</td>\n",
       "      <td>1.0</td>\n",
       "    </tr>\n",
       "    <tr>\n",
       "      <th>Married with dependants</th>\n",
       "      <td>30.0</td>\n",
       "      <td>10.823959</td>\n",
       "      <td>0.0</td>\n",
       "      <td>25.0</td>\n",
       "      <td>7.787643</td>\n",
       "      <td>1.0</td>\n",
       "    </tr>\n",
       "    <tr>\n",
       "      <th>Single no dependants</th>\n",
       "      <td>30.0</td>\n",
       "      <td>10.791951</td>\n",
       "      <td>0.0</td>\n",
       "      <td>25.0</td>\n",
       "      <td>7.789550</td>\n",
       "      <td>1.0</td>\n",
       "    </tr>\n",
       "    <tr>\n",
       "      <th>Single with dependants</th>\n",
       "      <td>30.0</td>\n",
       "      <td>10.750995</td>\n",
       "      <td>0.0</td>\n",
       "      <td>25.0</td>\n",
       "      <td>7.800604</td>\n",
       "      <td>1.0</td>\n",
       "    </tr>\n",
       "  </tbody>\n",
       "</table>\n",
       "</div>"
      ],
      "text/plain": [
       "                        days_since_prior_order                 prices  \\\n",
       "                                           max       mean  min    max   \n",
       "status_flag                                                             \n",
       "Married no dependants                     30.0  10.814660  0.0   25.0   \n",
       "Married with dependants                   30.0  10.823959  0.0   25.0   \n",
       "Single no dependants                      30.0  10.791951  0.0   25.0   \n",
       "Single with dependants                    30.0  10.750995  0.0   25.0   \n",
       "\n",
       "                                        \n",
       "                             mean  min  \n",
       "status_flag                             \n",
       "Married no dependants    7.795589  1.0  \n",
       "Married with dependants  7.787643  1.0  \n",
       "Single no dependants     7.789550  1.0  \n",
       "Single with dependants   7.800604  1.0  "
      ]
     },
     "execution_count": 54,
     "metadata": {},
     "output_type": "execute_result"
    }
   ],
   "source": [
    "# marital_status statistics\n",
    "df_project_excl_merged.groupby('status_flag').agg({'days_since_prior_order':['max', 'mean', 'min'], 'prices':['max', 'mean', 'min']})"
   ]
  },
  {
   "cell_type": "markdown",
   "id": "005737c0",
   "metadata": {},
   "source": [
    "\"Single with dependants\" customers shop most frequently and spend slightly more than their peers. \"Married with dependants\" customers shop the least frequently and spend slightly less than their peers."
   ]
  },
  {
   "cell_type": "markdown",
   "id": "e129012c",
   "metadata": {},
   "source": [
    "### Segmentation by Department ID"
   ]
  },
  {
   "cell_type": "code",
   "execution_count": 55,
   "id": "e0315085",
   "metadata": {},
   "outputs": [
    {
     "data": {
      "text/html": [
       "<div>\n",
       "<style scoped>\n",
       "    .dataframe tbody tr th:only-of-type {\n",
       "        vertical-align: middle;\n",
       "    }\n",
       "\n",
       "    .dataframe tbody tr th {\n",
       "        vertical-align: top;\n",
       "    }\n",
       "\n",
       "    .dataframe thead tr th {\n",
       "        text-align: left;\n",
       "    }\n",
       "\n",
       "    .dataframe thead tr:last-of-type th {\n",
       "        text-align: right;\n",
       "    }\n",
       "</style>\n",
       "<table border=\"1\" class=\"dataframe\">\n",
       "  <thead>\n",
       "    <tr>\n",
       "      <th></th>\n",
       "      <th colspan=\"3\" halign=\"left\">days_since_prior_order</th>\n",
       "      <th colspan=\"3\" halign=\"left\">prices</th>\n",
       "      <th>deptcat_flag</th>\n",
       "    </tr>\n",
       "    <tr>\n",
       "      <th></th>\n",
       "      <th>max</th>\n",
       "      <th>mean</th>\n",
       "      <th>min</th>\n",
       "      <th>max</th>\n",
       "      <th>mean</th>\n",
       "      <th>min</th>\n",
       "      <th>size</th>\n",
       "    </tr>\n",
       "    <tr>\n",
       "      <th>deptcat_flag</th>\n",
       "      <th></th>\n",
       "      <th></th>\n",
       "      <th></th>\n",
       "      <th></th>\n",
       "      <th></th>\n",
       "      <th></th>\n",
       "      <th></th>\n",
       "    </tr>\n",
       "  </thead>\n",
       "  <tbody>\n",
       "    <tr>\n",
       "      <th>Food enthusiast</th>\n",
       "      <td>30.0</td>\n",
       "      <td>15.130641</td>\n",
       "      <td>0.0</td>\n",
       "      <td>14.9</td>\n",
       "      <td>7.842268</td>\n",
       "      <td>1.0</td>\n",
       "      <td>485</td>\n",
       "    </tr>\n",
       "    <tr>\n",
       "      <th>Food enthusiast, Household essentials buyers</th>\n",
       "      <td>30.0</td>\n",
       "      <td>11.393260</td>\n",
       "      <td>0.0</td>\n",
       "      <td>25.0</td>\n",
       "      <td>7.792120</td>\n",
       "      <td>1.0</td>\n",
       "      <td>16684347</td>\n",
       "    </tr>\n",
       "    <tr>\n",
       "      <th>Food enthusiast, Household essentials buyers, Parent with babies</th>\n",
       "      <td>30.0</td>\n",
       "      <td>9.338601</td>\n",
       "      <td>0.0</td>\n",
       "      <td>25.0</td>\n",
       "      <td>7.840875</td>\n",
       "      <td>1.0</td>\n",
       "      <td>8321866</td>\n",
       "    </tr>\n",
       "    <tr>\n",
       "      <th>Food enthusiast, Household essentials buyers, Parent with babies, Pet Owners</th>\n",
       "      <td>30.0</td>\n",
       "      <td>8.667407</td>\n",
       "      <td>0.0</td>\n",
       "      <td>25.0</td>\n",
       "      <td>7.786193</td>\n",
       "      <td>1.0</td>\n",
       "      <td>1124710</td>\n",
       "    </tr>\n",
       "    <tr>\n",
       "      <th>Food enthusiast, Household essentials buyers, Pet Owners</th>\n",
       "      <td>30.0</td>\n",
       "      <td>10.774118</td>\n",
       "      <td>0.0</td>\n",
       "      <td>25.0</td>\n",
       "      <td>7.825095</td>\n",
       "      <td>1.0</td>\n",
       "      <td>2184613</td>\n",
       "    </tr>\n",
       "    <tr>\n",
       "      <th>Food enthusiast, Parent with babies</th>\n",
       "      <td>30.0</td>\n",
       "      <td>16.392857</td>\n",
       "      <td>3.0</td>\n",
       "      <td>13.8</td>\n",
       "      <td>9.632353</td>\n",
       "      <td>2.0</td>\n",
       "      <td>34</td>\n",
       "    </tr>\n",
       "    <tr>\n",
       "      <th>Household essentials buyers</th>\n",
       "      <td>30.0</td>\n",
       "      <td>12.959555</td>\n",
       "      <td>0.0</td>\n",
       "      <td>25.0</td>\n",
       "      <td>7.550515</td>\n",
       "      <td>1.0</td>\n",
       "      <td>2170858</td>\n",
       "    </tr>\n",
       "    <tr>\n",
       "      <th>Household essentials buyers, Parent with babies</th>\n",
       "      <td>30.0</td>\n",
       "      <td>12.000703</td>\n",
       "      <td>0.0</td>\n",
       "      <td>25.0</td>\n",
       "      <td>7.802874</td>\n",
       "      <td>1.0</td>\n",
       "      <td>335614</td>\n",
       "    </tr>\n",
       "    <tr>\n",
       "      <th>Household essentials buyers, Parent with babies, Pet Owners</th>\n",
       "      <td>30.0</td>\n",
       "      <td>12.701796</td>\n",
       "      <td>0.0</td>\n",
       "      <td>25.0</td>\n",
       "      <td>7.854766</td>\n",
       "      <td>1.0</td>\n",
       "      <td>28020</td>\n",
       "    </tr>\n",
       "    <tr>\n",
       "      <th>Household essentials buyers, Pet Owners</th>\n",
       "      <td>30.0</td>\n",
       "      <td>13.547086</td>\n",
       "      <td>0.0</td>\n",
       "      <td>25.0</td>\n",
       "      <td>7.796979</td>\n",
       "      <td>1.0</td>\n",
       "      <td>114008</td>\n",
       "    </tr>\n",
       "    <tr>\n",
       "      <th>Parent with babies</th>\n",
       "      <td>30.0</td>\n",
       "      <td>25.750000</td>\n",
       "      <td>13.0</td>\n",
       "      <td>10.3</td>\n",
       "      <td>8.311111</td>\n",
       "      <td>3.3</td>\n",
       "      <td>9</td>\n",
       "    </tr>\n",
       "  </tbody>\n",
       "</table>\n",
       "</div>"
      ],
      "text/plain": [
       "                                                   days_since_prior_order  \\\n",
       "                                                                      max   \n",
       "deptcat_flag                                                                \n",
       "Food enthusiast                                                      30.0   \n",
       "Food enthusiast, Household essentials buyers                         30.0   \n",
       "Food enthusiast, Household essentials buyers, P...                   30.0   \n",
       "Food enthusiast, Household essentials buyers, P...                   30.0   \n",
       "Food enthusiast, Household essentials buyers, P...                   30.0   \n",
       "Food enthusiast, Parent with babies                                  30.0   \n",
       "Household essentials buyers                                          30.0   \n",
       "Household essentials buyers, Parent with babies                      30.0   \n",
       "Household essentials buyers, Parent with babies...                   30.0   \n",
       "Household essentials buyers, Pet Owners                              30.0   \n",
       "Parent with babies                                                   30.0   \n",
       "\n",
       "                                                                    prices  \\\n",
       "                                                         mean   min    max   \n",
       "deptcat_flag                                                                 \n",
       "Food enthusiast                                     15.130641   0.0   14.9   \n",
       "Food enthusiast, Household essentials buyers        11.393260   0.0   25.0   \n",
       "Food enthusiast, Household essentials buyers, P...   9.338601   0.0   25.0   \n",
       "Food enthusiast, Household essentials buyers, P...   8.667407   0.0   25.0   \n",
       "Food enthusiast, Household essentials buyers, P...  10.774118   0.0   25.0   \n",
       "Food enthusiast, Parent with babies                 16.392857   3.0   13.8   \n",
       "Household essentials buyers                         12.959555   0.0   25.0   \n",
       "Household essentials buyers, Parent with babies     12.000703   0.0   25.0   \n",
       "Household essentials buyers, Parent with babies...  12.701796   0.0   25.0   \n",
       "Household essentials buyers, Pet Owners             13.547086   0.0   25.0   \n",
       "Parent with babies                                  25.750000  13.0   10.3   \n",
       "\n",
       "                                                                  deptcat_flag  \n",
       "                                                        mean  min         size  \n",
       "deptcat_flag                                                                    \n",
       "Food enthusiast                                     7.842268  1.0          485  \n",
       "Food enthusiast, Household essentials buyers        7.792120  1.0     16684347  \n",
       "Food enthusiast, Household essentials buyers, P...  7.840875  1.0      8321866  \n",
       "Food enthusiast, Household essentials buyers, P...  7.786193  1.0      1124710  \n",
       "Food enthusiast, Household essentials buyers, P...  7.825095  1.0      2184613  \n",
       "Food enthusiast, Parent with babies                 9.632353  2.0           34  \n",
       "Household essentials buyers                         7.550515  1.0      2170858  \n",
       "Household essentials buyers, Parent with babies     7.802874  1.0       335614  \n",
       "Household essentials buyers, Parent with babies...  7.854766  1.0        28020  \n",
       "Household essentials buyers, Pet Owners             7.796979  1.0       114008  \n",
       "Parent with babies                                  8.311111  3.3            9  "
      ]
     },
     "execution_count": 55,
     "metadata": {},
     "output_type": "execute_result"
    }
   ],
   "source": [
    "# department statistics\n",
    "df_project_excl_merged.groupby('deptcat_flag').agg({'days_since_prior_order':['max', 'mean', 'min'], 'prices':['max', 'mean', 'min'], 'deptcat_flag' : 'size'})"
   ]
  },
  {
   "cell_type": "markdown",
   "id": "c69bc739",
   "metadata": {},
   "source": [
    "Among the \"Household essentials\" customer profiling  combination, the combination of \"Household essential buyers and Pet owners\" have the longest frequent usage, which means they shop the least frequently while the combination of all \"Food enthusiast, Household essentials buyers, Parent with babies, Pet Owners\" shop the most frequently. In terms of average spending, \"Household essentials buyers\" spend the least compared to the rest of \"Household essentials\" customer profiling combinations."
   ]
  },
  {
   "cell_type": "markdown",
   "id": "c6ade783",
   "metadata": {},
   "source": [
    "# 09. Customer Profiles by Regions and Departments"
   ]
  },
  {
   "cell_type": "markdown",
   "id": "b130091b",
   "metadata": {},
   "source": [
    "##  Age-based Segmentation Profile"
   ]
  },
  {
   "cell_type": "markdown",
   "id": "4710ef27",
   "metadata": {},
   "source": [
    "### 1) Age Profiles by Region"
   ]
  },
  {
   "cell_type": "code",
   "execution_count": 56,
   "id": "a42a7a2b",
   "metadata": {},
   "outputs": [],
   "source": [
    "# define the desired order of age_flag categories\n",
    "age_order = ['Young Adults', 'Middle-aged Adults', 'Senior Adults']"
   ]
  },
  {
   "cell_type": "code",
   "execution_count": 57,
   "id": "47e1c803",
   "metadata": {},
   "outputs": [
    {
     "data": {
      "text/html": [
       "<div>\n",
       "<style scoped>\n",
       "    .dataframe tbody tr th:only-of-type {\n",
       "        vertical-align: middle;\n",
       "    }\n",
       "\n",
       "    .dataframe tbody tr th {\n",
       "        vertical-align: top;\n",
       "    }\n",
       "\n",
       "    .dataframe thead th {\n",
       "        text-align: right;\n",
       "    }\n",
       "</style>\n",
       "<table border=\"1\" class=\"dataframe\">\n",
       "  <thead>\n",
       "    <tr style=\"text-align: right;\">\n",
       "      <th>age_flag</th>\n",
       "      <th>Young Adults</th>\n",
       "      <th>Middle-aged Adults</th>\n",
       "      <th>Senior Adults</th>\n",
       "    </tr>\n",
       "    <tr>\n",
       "      <th>Region</th>\n",
       "      <th></th>\n",
       "      <th></th>\n",
       "      <th></th>\n",
       "    </tr>\n",
       "  </thead>\n",
       "  <tbody>\n",
       "    <tr>\n",
       "      <th>Midwest</th>\n",
       "      <td>0.277960</td>\n",
       "      <td>0.320708</td>\n",
       "      <td>0.401332</td>\n",
       "    </tr>\n",
       "    <tr>\n",
       "      <th>Northeast</th>\n",
       "      <td>0.283909</td>\n",
       "      <td>0.307304</td>\n",
       "      <td>0.408786</td>\n",
       "    </tr>\n",
       "    <tr>\n",
       "      <th>South</th>\n",
       "      <td>0.286138</td>\n",
       "      <td>0.311533</td>\n",
       "      <td>0.402328</td>\n",
       "    </tr>\n",
       "    <tr>\n",
       "      <th>West</th>\n",
       "      <td>0.279859</td>\n",
       "      <td>0.314997</td>\n",
       "      <td>0.405143</td>\n",
       "    </tr>\n",
       "  </tbody>\n",
       "</table>\n",
       "</div>"
      ],
      "text/plain": [
       "age_flag   Young Adults  Middle-aged Adults  Senior Adults\n",
       "Region                                                    \n",
       "Midwest        0.277960            0.320708       0.401332\n",
       "Northeast      0.283909            0.307304       0.408786\n",
       "South          0.286138            0.311533       0.402328\n",
       "West           0.279859            0.314997       0.405143"
      ]
     },
     "execution_count": 57,
     "metadata": {},
     "output_type": "execute_result"
    }
   ],
   "source": [
    "# create a crosstab between the \"Region\" column and \"age_flag\" column\n",
    "crosstab_region_age = pd.crosstab(df_project_excl_merged['Region'], df_project_excl_merged['age_flag'], normalize ='index', dropna = False).loc[:, age_order]\n",
    "crosstab_region_age"
   ]
  },
  {
   "cell_type": "code",
   "execution_count": 96,
   "id": "ff9d67f6",
   "metadata": {},
   "outputs": [
    {
     "data": {
      "image/png": "[encoded data removed]",
      "text/plain": [
       "<Figure size 640x480 with 1 Axes>"
      ]
     },
     "metadata": {},
     "output_type": "display_data"
    }
   ],
   "source": [
    "# create the visualization of Age Profiles by Region\n",
    "region_age = crosstab_region_age.plot(kind = 'barh', stacked = True, color = sns.color_palette('Blues', 3))\n",
    "\n",
    "# customize the plot\n",
    "plt.xlabel('Proportion')\n",
    "plt.ylabel('Region')\n",
    "plt.title('Age Profiles by Region', fontweight='bold')\n",
    "plt.legend(title ='age_category', bbox_to_anchor=(1, 1.02), loc='upper left')\n",
    "\n",
    "# show the plot\n",
    "plt.show()"
   ]
  },
  {
   "cell_type": "markdown",
   "id": "df7b80ae",
   "metadata": {},
   "source": [
    "All regions have similar age group distributions. Across all regions, young adults make up the least proportion of the customer pools while seniors make up the most."
   ]
  },
  {
   "cell_type": "code",
   "execution_count": 59,
   "id": "e22657ce",
   "metadata": {},
   "outputs": [],
   "source": [
    "# export the viz\n",
    "region_age.figure.savefig(os.path.join(path, '04 Analysis', 'Visualizations', 'region_age.png'))"
   ]
  },
  {
   "cell_type": "markdown",
   "id": "b8bd1fbe",
   "metadata": {},
   "source": [
    "### 2) Age Profiles by Department"
   ]
  },
  {
   "cell_type": "code",
   "execution_count": 121,
   "id": "4b95642c",
   "metadata": {},
   "outputs": [
    {
     "data": {
      "text/html": [
       "<div>\n",
       "<style scoped>\n",
       "    .dataframe tbody tr th:only-of-type {\n",
       "        vertical-align: middle;\n",
       "    }\n",
       "\n",
       "    .dataframe tbody tr th {\n",
       "        vertical-align: top;\n",
       "    }\n",
       "\n",
       "    .dataframe thead th {\n",
       "        text-align: right;\n",
       "    }\n",
       "</style>\n",
       "<table border=\"1\" class=\"dataframe\">\n",
       "  <thead>\n",
       "    <tr style=\"text-align: right;\">\n",
       "      <th>age_flag</th>\n",
       "      <th>Young Adults</th>\n",
       "      <th>Middle-aged Adults</th>\n",
       "      <th>Senior Adults</th>\n",
       "    </tr>\n",
       "    <tr>\n",
       "      <th>department</th>\n",
       "      <th></th>\n",
       "      <th></th>\n",
       "      <th></th>\n",
       "    </tr>\n",
       "  </thead>\n",
       "  <tbody>\n",
       "    <tr>\n",
       "      <th>alcohol</th>\n",
       "      <td>0.004850</td>\n",
       "      <td>0.004621</td>\n",
       "      <td>0.004584</td>\n",
       "    </tr>\n",
       "    <tr>\n",
       "      <th>babies</th>\n",
       "      <td>0.012984</td>\n",
       "      <td>0.013793</td>\n",
       "      <td>0.013023</td>\n",
       "    </tr>\n",
       "    <tr>\n",
       "      <th>bakery</th>\n",
       "      <td>0.036279</td>\n",
       "      <td>0.036170</td>\n",
       "      <td>0.036161</td>\n",
       "    </tr>\n",
       "    <tr>\n",
       "      <th>beverages</th>\n",
       "      <td>0.082092</td>\n",
       "      <td>0.083140</td>\n",
       "      <td>0.083673</td>\n",
       "    </tr>\n",
       "    <tr>\n",
       "      <th>breakfast</th>\n",
       "      <td>0.021904</td>\n",
       "      <td>0.021681</td>\n",
       "      <td>0.021485</td>\n",
       "    </tr>\n",
       "    <tr>\n",
       "      <th>bulk</th>\n",
       "      <td>0.001101</td>\n",
       "      <td>0.001067</td>\n",
       "      <td>0.001076</td>\n",
       "    </tr>\n",
       "    <tr>\n",
       "      <th>canned goods</th>\n",
       "      <td>0.032863</td>\n",
       "      <td>0.032620</td>\n",
       "      <td>0.032612</td>\n",
       "    </tr>\n",
       "    <tr>\n",
       "      <th>dairy eggs</th>\n",
       "      <td>0.168390</td>\n",
       "      <td>0.166864</td>\n",
       "      <td>0.166622</td>\n",
       "    </tr>\n",
       "    <tr>\n",
       "      <th>deli</th>\n",
       "      <td>0.032483</td>\n",
       "      <td>0.032294</td>\n",
       "      <td>0.032471</td>\n",
       "    </tr>\n",
       "    <tr>\n",
       "      <th>dry goods pasta</th>\n",
       "      <td>0.026615</td>\n",
       "      <td>0.026540</td>\n",
       "      <td>0.026515</td>\n",
       "    </tr>\n",
       "    <tr>\n",
       "      <th>frozen</th>\n",
       "      <td>0.068320</td>\n",
       "      <td>0.068310</td>\n",
       "      <td>0.068826</td>\n",
       "    </tr>\n",
       "    <tr>\n",
       "      <th>household</th>\n",
       "      <td>0.022423</td>\n",
       "      <td>0.022655</td>\n",
       "      <td>0.022685</td>\n",
       "    </tr>\n",
       "    <tr>\n",
       "      <th>international</th>\n",
       "      <td>0.008344</td>\n",
       "      <td>0.008331</td>\n",
       "      <td>0.008165</td>\n",
       "    </tr>\n",
       "    <tr>\n",
       "      <th>meat seafood</th>\n",
       "      <td>0.021673</td>\n",
       "      <td>0.021610</td>\n",
       "      <td>0.022017</td>\n",
       "    </tr>\n",
       "    <tr>\n",
       "      <th>missing</th>\n",
       "      <td>0.002145</td>\n",
       "      <td>0.002099</td>\n",
       "      <td>0.002048</td>\n",
       "    </tr>\n",
       "    <tr>\n",
       "      <th>other</th>\n",
       "      <td>0.001138</td>\n",
       "      <td>0.001109</td>\n",
       "      <td>0.001094</td>\n",
       "    </tr>\n",
       "    <tr>\n",
       "      <th>pantry</th>\n",
       "      <td>0.057542</td>\n",
       "      <td>0.057448</td>\n",
       "      <td>0.057691</td>\n",
       "    </tr>\n",
       "    <tr>\n",
       "      <th>personal care</th>\n",
       "      <td>0.013583</td>\n",
       "      <td>0.013847</td>\n",
       "      <td>0.013675</td>\n",
       "    </tr>\n",
       "    <tr>\n",
       "      <th>pets</th>\n",
       "      <td>0.003024</td>\n",
       "      <td>0.002933</td>\n",
       "      <td>0.003049</td>\n",
       "    </tr>\n",
       "    <tr>\n",
       "      <th>produce</th>\n",
       "      <td>0.292419</td>\n",
       "      <td>0.293575</td>\n",
       "      <td>0.293491</td>\n",
       "    </tr>\n",
       "    <tr>\n",
       "      <th>snacks</th>\n",
       "      <td>0.089828</td>\n",
       "      <td>0.089294</td>\n",
       "      <td>0.089038</td>\n",
       "    </tr>\n",
       "  </tbody>\n",
       "</table>\n",
       "</div>"
      ],
      "text/plain": [
       "age_flag         Young Adults  Middle-aged Adults  Senior Adults\n",
       "department                                                      \n",
       "alcohol              0.004850            0.004621       0.004584\n",
       "babies               0.012984            0.013793       0.013023\n",
       "bakery               0.036279            0.036170       0.036161\n",
       "beverages            0.082092            0.083140       0.083673\n",
       "breakfast            0.021904            0.021681       0.021485\n",
       "bulk                 0.001101            0.001067       0.001076\n",
       "canned goods         0.032863            0.032620       0.032612\n",
       "dairy eggs           0.168390            0.166864       0.166622\n",
       "deli                 0.032483            0.032294       0.032471\n",
       "dry goods pasta      0.026615            0.026540       0.026515\n",
       "frozen               0.068320            0.068310       0.068826\n",
       "household            0.022423            0.022655       0.022685\n",
       "international        0.008344            0.008331       0.008165\n",
       "meat seafood         0.021673            0.021610       0.022017\n",
       "missing              0.002145            0.002099       0.002048\n",
       "other                0.001138            0.001109       0.001094\n",
       "pantry               0.057542            0.057448       0.057691\n",
       "personal care        0.013583            0.013847       0.013675\n",
       "pets                 0.003024            0.002933       0.003049\n",
       "produce              0.292419            0.293575       0.293491\n",
       "snacks               0.089828            0.089294       0.089038"
      ]
     },
     "execution_count": 121,
     "metadata": {},
     "output_type": "execute_result"
    }
   ],
   "source": [
    "# create a crosstab between the \"department\" column and \"age_flag\" column\n",
    "crosstab_department_age = pd.crosstab(df_project_excl_merged['department'], df_project_excl_merged['age_flag'], normalize ='columns', dropna = False).loc[:, age_order]\n",
    "crosstab_department_age"
   ]
  },
  {
   "cell_type": "code",
   "execution_count": 98,
   "id": "2bc00278",
   "metadata": {},
   "outputs": [
    {
     "data": {
      "image/png": "[encoded data removed]",
      "text/plain": [
       "<Figure size 640x480 with 1 Axes>"
      ]
     },
     "metadata": {},
     "output_type": "display_data"
    }
   ],
   "source": [
    "# create the visualization of Age Profiles by Department\n",
    "department_age = crosstab_department_age.plot(kind = 'bar', stacked = True, color = sns.color_palette('Blues',3))\n",
    "\n",
    "# customize the plot\n",
    "plt.xlabel('Department')\n",
    "plt.ylabel('Profiles Count')\n",
    "plt.title('Age Profiles by Department', fontweight='bold')\n",
    "plt.legend(title ='age_category', bbox_to_anchor=(1, 1.02), loc='upper left')\n",
    "\n",
    "# Show the plot\n",
    "plt.show()"
   ]
  },
  {
   "cell_type": "markdown",
   "id": "fa539f94",
   "metadata": {},
   "source": [
    "Produce, dairy eggs, and snacks are the top three departments across all age groups. "
   ]
  },
  {
   "cell_type": "code",
   "execution_count": 99,
   "id": "a935dbad",
   "metadata": {},
   "outputs": [],
   "source": [
    "# export the viz\n",
    "department_age.figure.savefig(os.path.join(path, '04 Analysis', 'Visualizations', 'department_age.png'))"
   ]
  },
  {
   "cell_type": "markdown",
   "id": "678fd5bc",
   "metadata": {},
   "source": [
    "# Income-based Segmentation Profile"
   ]
  },
  {
   "cell_type": "markdown",
   "id": "b74a1064",
   "metadata": {},
   "source": [
    "### 1) Income Profiles by Region"
   ]
  },
  {
   "cell_type": "code",
   "execution_count": 63,
   "id": "08deb1dd",
   "metadata": {},
   "outputs": [],
   "source": [
    "# define the desired order of income_flag\n",
    "income_order = ['Low-income', 'Moderate-income', 'High-income', 'Affluent-income']"
   ]
  },
  {
   "cell_type": "code",
   "execution_count": 64,
   "id": "92a286a3",
   "metadata": {},
   "outputs": [
    {
     "data": {
      "text/html": [
       "<div>\n",
       "<style scoped>\n",
       "    .dataframe tbody tr th:only-of-type {\n",
       "        vertical-align: middle;\n",
       "    }\n",
       "\n",
       "    .dataframe tbody tr th {\n",
       "        vertical-align: top;\n",
       "    }\n",
       "\n",
       "    .dataframe thead th {\n",
       "        text-align: right;\n",
       "    }\n",
       "</style>\n",
       "<table border=\"1\" class=\"dataframe\">\n",
       "  <thead>\n",
       "    <tr style=\"text-align: right;\">\n",
       "      <th>income_flag</th>\n",
       "      <th>Low-income</th>\n",
       "      <th>Moderate-income</th>\n",
       "      <th>High-income</th>\n",
       "      <th>Affluent-income</th>\n",
       "    </tr>\n",
       "    <tr>\n",
       "      <th>Region</th>\n",
       "      <th></th>\n",
       "      <th></th>\n",
       "      <th></th>\n",
       "      <th></th>\n",
       "    </tr>\n",
       "  </thead>\n",
       "  <tbody>\n",
       "    <tr>\n",
       "      <th>Midwest</th>\n",
       "      <td>0.029130</td>\n",
       "      <td>0.287681</td>\n",
       "      <td>0.673076</td>\n",
       "      <td>0.010113</td>\n",
       "    </tr>\n",
       "    <tr>\n",
       "      <th>Northeast</th>\n",
       "      <td>0.028182</td>\n",
       "      <td>0.288398</td>\n",
       "      <td>0.675126</td>\n",
       "      <td>0.008295</td>\n",
       "    </tr>\n",
       "    <tr>\n",
       "      <th>South</th>\n",
       "      <td>0.029185</td>\n",
       "      <td>0.292178</td>\n",
       "      <td>0.669197</td>\n",
       "      <td>0.009440</td>\n",
       "    </tr>\n",
       "    <tr>\n",
       "      <th>West</th>\n",
       "      <td>0.029198</td>\n",
       "      <td>0.294058</td>\n",
       "      <td>0.667310</td>\n",
       "      <td>0.009433</td>\n",
       "    </tr>\n",
       "  </tbody>\n",
       "</table>\n",
       "</div>"
      ],
      "text/plain": [
       "income_flag  Low-income  Moderate-income  High-income  Affluent-income\n",
       "Region                                                                \n",
       "Midwest        0.029130         0.287681     0.673076         0.010113\n",
       "Northeast      0.028182         0.288398     0.675126         0.008295\n",
       "South          0.029185         0.292178     0.669197         0.009440\n",
       "West           0.029198         0.294058     0.667310         0.009433"
      ]
     },
     "execution_count": 64,
     "metadata": {},
     "output_type": "execute_result"
    }
   ],
   "source": [
    "# create a crosstab between the \"Region\" column and \"income_flag\" column\n",
    "crosstab_region_income = pd.crosstab(df_project_excl_merged['Region'], df_project_excl_merged['income_flag'], normalize = 'index', dropna = False).loc[:, income_order]\n",
    "crosstab_region_income"
   ]
  },
  {
   "cell_type": "code",
   "execution_count": 100,
   "id": "0accbb5f",
   "metadata": {},
   "outputs": [
    {
     "data": {
      "image/png": "[encoded data removed]",
      "text/plain": [
       "<Figure size 640x480 with 1 Axes>"
      ]
     },
     "metadata": {},
     "output_type": "display_data"
    }
   ],
   "source": [
    "# create the visualization of Income Profiles by Region\n",
    "region_income = crosstab_region_income.plot(kind = 'barh', stacked = True, color = sns.color_palette('Blues',len(income_order)))\n",
    "\n",
    "# customize the plot\n",
    "plt.xlabel('Proportion')\n",
    "plt.ylabel('Region')\n",
    "plt.title('Income Profiles by Region', fontweight='bold')\n",
    "plt.legend(title = 'income_category', bbox_to_anchor=(1, 1.02), loc='upper left')\n",
    "\n",
    "#show the plot\n",
    "plt.show()"
   ]
  },
  {
   "cell_type": "markdown",
   "id": "2e852d6c",
   "metadata": {},
   "source": [
    "Across all regions, high-income customers made up the largest proportion, while affluent-income customers made up the smallest."
   ]
  },
  {
   "cell_type": "code",
   "execution_count": 66,
   "id": "e0bd4298",
   "metadata": {},
   "outputs": [],
   "source": [
    "# export the viz\n",
    "region_income.figure.savefig(os.path.join(path, '04 Analysis', 'Visualizations', 'region_income.png'))"
   ]
  },
  {
   "cell_type": "markdown",
   "id": "ff25f302",
   "metadata": {},
   "source": [
    "### 2) Income Profiles by Department"
   ]
  },
  {
   "cell_type": "code",
   "execution_count": 111,
   "id": "23471153",
   "metadata": {},
   "outputs": [
    {
     "data": {
      "text/html": [
       "<div>\n",
       "<style scoped>\n",
       "    .dataframe tbody tr th:only-of-type {\n",
       "        vertical-align: middle;\n",
       "    }\n",
       "\n",
       "    .dataframe tbody tr th {\n",
       "        vertical-align: top;\n",
       "    }\n",
       "\n",
       "    .dataframe thead th {\n",
       "        text-align: right;\n",
       "    }\n",
       "</style>\n",
       "<table border=\"1\" class=\"dataframe\">\n",
       "  <thead>\n",
       "    <tr style=\"text-align: right;\">\n",
       "      <th>income_flag</th>\n",
       "      <th>Low-income</th>\n",
       "      <th>Moderate-income</th>\n",
       "      <th>High-income</th>\n",
       "      <th>Affluent-income</th>\n",
       "    </tr>\n",
       "    <tr>\n",
       "      <th>department</th>\n",
       "      <th></th>\n",
       "      <th></th>\n",
       "      <th></th>\n",
       "      <th></th>\n",
       "    </tr>\n",
       "  </thead>\n",
       "  <tbody>\n",
       "    <tr>\n",
       "      <th>alcohol</th>\n",
       "      <td>0.005424</td>\n",
       "      <td>0.004407</td>\n",
       "      <td>0.004477</td>\n",
       "      <td>0.024346</td>\n",
       "    </tr>\n",
       "    <tr>\n",
       "      <th>babies</th>\n",
       "      <td>0.007370</td>\n",
       "      <td>0.012007</td>\n",
       "      <td>0.014121</td>\n",
       "      <td>0.008127</td>\n",
       "    </tr>\n",
       "    <tr>\n",
       "      <th>bakery</th>\n",
       "      <td>0.029964</td>\n",
       "      <td>0.034918</td>\n",
       "      <td>0.036830</td>\n",
       "      <td>0.049882</td>\n",
       "    </tr>\n",
       "    <tr>\n",
       "      <th>beverages</th>\n",
       "      <td>0.117652</td>\n",
       "      <td>0.089440</td>\n",
       "      <td>0.078630</td>\n",
       "      <td>0.094893</td>\n",
       "    </tr>\n",
       "    <tr>\n",
       "      <th>breakfast</th>\n",
       "      <td>0.028495</td>\n",
       "      <td>0.023030</td>\n",
       "      <td>0.020726</td>\n",
       "      <td>0.025374</td>\n",
       "    </tr>\n",
       "    <tr>\n",
       "      <th>bulk</th>\n",
       "      <td>0.001372</td>\n",
       "      <td>0.001187</td>\n",
       "      <td>0.001035</td>\n",
       "      <td>0.000096</td>\n",
       "    </tr>\n",
       "    <tr>\n",
       "      <th>canned goods</th>\n",
       "      <td>0.021782</td>\n",
       "      <td>0.030589</td>\n",
       "      <td>0.034023</td>\n",
       "      <td>0.035726</td>\n",
       "    </tr>\n",
       "    <tr>\n",
       "      <th>dairy eggs</th>\n",
       "      <td>0.144563</td>\n",
       "      <td>0.163268</td>\n",
       "      <td>0.169769</td>\n",
       "      <td>0.175152</td>\n",
       "    </tr>\n",
       "    <tr>\n",
       "      <th>deli</th>\n",
       "      <td>0.031695</td>\n",
       "      <td>0.032230</td>\n",
       "      <td>0.032575</td>\n",
       "      <td>0.029338</td>\n",
       "    </tr>\n",
       "    <tr>\n",
       "      <th>dry goods pasta</th>\n",
       "      <td>0.017670</td>\n",
       "      <td>0.024854</td>\n",
       "      <td>0.027662</td>\n",
       "      <td>0.027193</td>\n",
       "    </tr>\n",
       "    <tr>\n",
       "      <th>frozen</th>\n",
       "      <td>0.064601</td>\n",
       "      <td>0.066830</td>\n",
       "      <td>0.069275</td>\n",
       "      <td>0.079186</td>\n",
       "    </tr>\n",
       "    <tr>\n",
       "      <th>household</th>\n",
       "      <td>0.026529</td>\n",
       "      <td>0.022957</td>\n",
       "      <td>0.021973</td>\n",
       "      <td>0.044420</td>\n",
       "    </tr>\n",
       "    <tr>\n",
       "      <th>international</th>\n",
       "      <td>0.006427</td>\n",
       "      <td>0.007826</td>\n",
       "      <td>0.008542</td>\n",
       "      <td>0.008017</td>\n",
       "    </tr>\n",
       "    <tr>\n",
       "      <th>meat seafood</th>\n",
       "      <td>0.008022</td>\n",
       "      <td>0.018924</td>\n",
       "      <td>0.023588</td>\n",
       "      <td>0.024903</td>\n",
       "    </tr>\n",
       "    <tr>\n",
       "      <th>missing</th>\n",
       "      <td>0.001958</td>\n",
       "      <td>0.002114</td>\n",
       "      <td>0.002099</td>\n",
       "      <td>0.001317</td>\n",
       "    </tr>\n",
       "    <tr>\n",
       "      <th>other</th>\n",
       "      <td>0.001379</td>\n",
       "      <td>0.001077</td>\n",
       "      <td>0.001105</td>\n",
       "      <td>0.001812</td>\n",
       "    </tr>\n",
       "    <tr>\n",
       "      <th>pantry</th>\n",
       "      <td>0.047386</td>\n",
       "      <td>0.055604</td>\n",
       "      <td>0.058791</td>\n",
       "      <td>0.062963</td>\n",
       "    </tr>\n",
       "    <tr>\n",
       "      <th>personal care</th>\n",
       "      <td>0.013863</td>\n",
       "      <td>0.013854</td>\n",
       "      <td>0.013605</td>\n",
       "      <td>0.015539</td>\n",
       "    </tr>\n",
       "    <tr>\n",
       "      <th>pets</th>\n",
       "      <td>0.002859</td>\n",
       "      <td>0.002835</td>\n",
       "      <td>0.003026</td>\n",
       "      <td>0.007237</td>\n",
       "    </tr>\n",
       "    <tr>\n",
       "      <th>produce</th>\n",
       "      <td>0.241678</td>\n",
       "      <td>0.284287</td>\n",
       "      <td>0.300699</td>\n",
       "      <td>0.194483</td>\n",
       "    </tr>\n",
       "    <tr>\n",
       "      <th>snacks</th>\n",
       "      <td>0.179311</td>\n",
       "      <td>0.107760</td>\n",
       "      <td>0.077452</td>\n",
       "      <td>0.089995</td>\n",
       "    </tr>\n",
       "  </tbody>\n",
       "</table>\n",
       "</div>"
      ],
      "text/plain": [
       "income_flag      Low-income  Moderate-income  High-income  Affluent-income\n",
       "department                                                                \n",
       "alcohol            0.005424         0.004407     0.004477         0.024346\n",
       "babies             0.007370         0.012007     0.014121         0.008127\n",
       "bakery             0.029964         0.034918     0.036830         0.049882\n",
       "beverages          0.117652         0.089440     0.078630         0.094893\n",
       "breakfast          0.028495         0.023030     0.020726         0.025374\n",
       "bulk               0.001372         0.001187     0.001035         0.000096\n",
       "canned goods       0.021782         0.030589     0.034023         0.035726\n",
       "dairy eggs         0.144563         0.163268     0.169769         0.175152\n",
       "deli               0.031695         0.032230     0.032575         0.029338\n",
       "dry goods pasta    0.017670         0.024854     0.027662         0.027193\n",
       "frozen             0.064601         0.066830     0.069275         0.079186\n",
       "household          0.026529         0.022957     0.021973         0.044420\n",
       "international      0.006427         0.007826     0.008542         0.008017\n",
       "meat seafood       0.008022         0.018924     0.023588         0.024903\n",
       "missing            0.001958         0.002114     0.002099         0.001317\n",
       "other              0.001379         0.001077     0.001105         0.001812\n",
       "pantry             0.047386         0.055604     0.058791         0.062963\n",
       "personal care      0.013863         0.013854     0.013605         0.015539\n",
       "pets               0.002859         0.002835     0.003026         0.007237\n",
       "produce            0.241678         0.284287     0.300699         0.194483\n",
       "snacks             0.179311         0.107760     0.077452         0.089995"
      ]
     },
     "execution_count": 111,
     "metadata": {},
     "output_type": "execute_result"
    }
   ],
   "source": [
    "# create a crosstab between the \"department\" column and \"income_flag\" column\n",
    "crosstab_department_income = pd.crosstab(df_project_excl_merged['department'], df_project_excl_merged['income_flag'], normalize = 'columns', dropna = False).loc[:, income_order]\n",
    "crosstab_department_income"
   ]
  },
  {
   "cell_type": "code",
   "execution_count": 105,
   "id": "4e4d43ee",
   "metadata": {},
   "outputs": [],
   "source": [
    "# copy the above table to excel\n",
    "crosstab_department_income.to_clipboard()"
   ]
  },
  {
   "cell_type": "code",
   "execution_count": 101,
   "id": "9a52db90",
   "metadata": {},
   "outputs": [
    {
     "data": {
      "image/png": "[encoded data removed]",
      "text/plain": [
       "<Figure size 640x480 with 1 Axes>"
      ]
     },
     "metadata": {},
     "output_type": "display_data"
    }
   ],
   "source": [
    "# create the visualization of Income Profiles by Department\n",
    "department_income = crosstab_department_income.plot(kind = 'bar', stacked = True, color = sns.color_palette('Blues', len(income_order)))\n",
    "\n",
    "# customize the plot\n",
    "plt.xlabel('Department')\n",
    "plt.ylabel('Profiles Count')\n",
    "plt.title('Income Profiles by Department', fontweight='bold')\n",
    "plt.legend(title = 'income_category', bbox_to_anchor=(1, 1.02), loc='upper left')\n",
    "\n",
    "#show the plot\n",
    "plt.show()"
   ]
  },
  {
   "cell_type": "markdown",
   "id": "7ee02743",
   "metadata": {},
   "source": [
    "Produce, dairy eggs, and snacks are the top three departments across all income profiles. As compared to other income groups, low-income customers spend more in the snack and beverage departments and less on dairy eggs. Affluent-income customers spend less on the produce department, but most on dairy eggs, frozen, pantry, bakery, household, alcohol, and pets. On the other hand, high-income customers purchase more produce while purchasing least in snacks and beverages department. "
   ]
  },
  {
   "cell_type": "code",
   "execution_count": 102,
   "id": "b32a491a",
   "metadata": {},
   "outputs": [],
   "source": [
    "# export the viz\n",
    "department_income.figure.savefig(os.path.join(path, '04 Analysis', 'Visualizations', 'department_income.png'))"
   ]
  },
  {
   "cell_type": "markdown",
   "id": "97717f05",
   "metadata": {},
   "source": [
    "# Family Status-based Segmentation Profile"
   ]
  },
  {
   "cell_type": "markdown",
   "id": "515cf90f",
   "metadata": {},
   "source": [
    "### 1) Family Profiles by Region"
   ]
  },
  {
   "cell_type": "code",
   "execution_count": 70,
   "id": "bcb38980",
   "metadata": {},
   "outputs": [],
   "source": [
    "# define the desired order of status_flag\n",
    "status_order = ['Married with dependants', 'Married no dependants', 'Single with dependants', 'Single no dependants']"
   ]
  },
  {
   "cell_type": "code",
   "execution_count": 71,
   "id": "12fc3750",
   "metadata": {},
   "outputs": [
    {
     "data": {
      "text/html": [
       "<div>\n",
       "<style scoped>\n",
       "    .dataframe tbody tr th:only-of-type {\n",
       "        vertical-align: middle;\n",
       "    }\n",
       "\n",
       "    .dataframe tbody tr th {\n",
       "        vertical-align: top;\n",
       "    }\n",
       "\n",
       "    .dataframe thead th {\n",
       "        text-align: right;\n",
       "    }\n",
       "</style>\n",
       "<table border=\"1\" class=\"dataframe\">\n",
       "  <thead>\n",
       "    <tr style=\"text-align: right;\">\n",
       "      <th>status_flag</th>\n",
       "      <th>Married with dependants</th>\n",
       "      <th>Married no dependants</th>\n",
       "      <th>Single with dependants</th>\n",
       "      <th>Single no dependants</th>\n",
       "    </tr>\n",
       "    <tr>\n",
       "      <th>Region</th>\n",
       "      <th></th>\n",
       "      <th></th>\n",
       "      <th></th>\n",
       "      <th></th>\n",
       "    </tr>\n",
       "  </thead>\n",
       "  <tbody>\n",
       "    <tr>\n",
       "      <th>Midwest</th>\n",
       "      <td>0.463759</td>\n",
       "      <td>0.236820</td>\n",
       "      <td>0.048397</td>\n",
       "      <td>0.251024</td>\n",
       "    </tr>\n",
       "    <tr>\n",
       "      <th>Northeast</th>\n",
       "      <td>0.469236</td>\n",
       "      <td>0.235978</td>\n",
       "      <td>0.046925</td>\n",
       "      <td>0.247861</td>\n",
       "    </tr>\n",
       "    <tr>\n",
       "      <th>South</th>\n",
       "      <td>0.470834</td>\n",
       "      <td>0.229743</td>\n",
       "      <td>0.049020</td>\n",
       "      <td>0.250402</td>\n",
       "    </tr>\n",
       "    <tr>\n",
       "      <th>West</th>\n",
       "      <td>0.472548</td>\n",
       "      <td>0.231220</td>\n",
       "      <td>0.046403</td>\n",
       "      <td>0.249829</td>\n",
       "    </tr>\n",
       "  </tbody>\n",
       "</table>\n",
       "</div>"
      ],
      "text/plain": [
       "status_flag  Married with dependants  Married no dependants  \\\n",
       "Region                                                        \n",
       "Midwest                     0.463759               0.236820   \n",
       "Northeast                   0.469236               0.235978   \n",
       "South                       0.470834               0.229743   \n",
       "West                        0.472548               0.231220   \n",
       "\n",
       "status_flag  Single with dependants  Single no dependants  \n",
       "Region                                                     \n",
       "Midwest                    0.048397              0.251024  \n",
       "Northeast                  0.046925              0.247861  \n",
       "South                      0.049020              0.250402  \n",
       "West                       0.046403              0.249829  "
      ]
     },
     "execution_count": 71,
     "metadata": {},
     "output_type": "execute_result"
    }
   ],
   "source": [
    "# create a crosstab between the \"region\" column and \"status_flag\" column\n",
    "crosstab_region_family = pd.crosstab(df_project_excl_merged['Region'], df_project_excl_merged['status_flag'], normalize = 'index', dropna = False).loc[:, status_order]\n",
    "crosstab_region_family"
   ]
  },
  {
   "cell_type": "code",
   "execution_count": 106,
   "id": "63fbf2a4",
   "metadata": {},
   "outputs": [
    {
     "data": {
      "image/png": "[encoded data removed]",
      "text/plain": [
       "<Figure size 640x480 with 1 Axes>"
      ]
     },
     "metadata": {},
     "output_type": "display_data"
    }
   ],
   "source": [
    "# create the visualization of Family Profiles by Region\n",
    "region_family = crosstab_region_family.plot(kind = 'barh', stacked = True, color = sns.color_palette('Blues', 4))\n",
    "\n",
    "# customize the plot\n",
    "plt.xlabel('Proportion')\n",
    "plt.ylabel('Region')\n",
    "plt.title('Family Profiles by Region', fontweight='bold')\n",
    "plt.legend(title = 'family_status', bbox_to_anchor=(1, 1.02), loc='upper left')\n",
    "\n",
    "# show the plot\n",
    "plt.show()"
   ]
  },
  {
   "cell_type": "markdown",
   "id": "b65cf084",
   "metadata": {},
   "source": [
    "Family status proportions are similar across all regions with \"Married with dependants\" customers accounting for the highest proportion and \"Single with dependants\" customers accounting for the lowest."
   ]
  },
  {
   "cell_type": "code",
   "execution_count": 73,
   "id": "01e3e205",
   "metadata": {},
   "outputs": [],
   "source": [
    "# export the viz\n",
    "region_family.figure.savefig(os.path.join(path, '04 Analysis', 'Visualizations', 'region_family.png'))"
   ]
  },
  {
   "cell_type": "markdown",
   "id": "f58e88b8",
   "metadata": {},
   "source": [
    "### 2) Family Profiles by Department"
   ]
  },
  {
   "cell_type": "code",
   "execution_count": 115,
   "id": "f1e12103",
   "metadata": {},
   "outputs": [
    {
     "data": {
      "text/html": [
       "<div>\n",
       "<style scoped>\n",
       "    .dataframe tbody tr th:only-of-type {\n",
       "        vertical-align: middle;\n",
       "    }\n",
       "\n",
       "    .dataframe tbody tr th {\n",
       "        vertical-align: top;\n",
       "    }\n",
       "\n",
       "    .dataframe thead th {\n",
       "        text-align: right;\n",
       "    }\n",
       "</style>\n",
       "<table border=\"1\" class=\"dataframe\">\n",
       "  <thead>\n",
       "    <tr style=\"text-align: right;\">\n",
       "      <th>status_flag</th>\n",
       "      <th>Married with dependants</th>\n",
       "      <th>Married no dependants</th>\n",
       "      <th>Single with dependants</th>\n",
       "      <th>Single no dependants</th>\n",
       "    </tr>\n",
       "    <tr>\n",
       "      <th>department</th>\n",
       "      <th></th>\n",
       "      <th></th>\n",
       "      <th></th>\n",
       "      <th></th>\n",
       "    </tr>\n",
       "  </thead>\n",
       "  <tbody>\n",
       "    <tr>\n",
       "      <th>alcohol</th>\n",
       "      <td>0.004553</td>\n",
       "      <td>0.004611</td>\n",
       "      <td>0.005657</td>\n",
       "      <td>0.004758</td>\n",
       "    </tr>\n",
       "    <tr>\n",
       "      <th>babies</th>\n",
       "      <td>0.013408</td>\n",
       "      <td>0.012874</td>\n",
       "      <td>0.013085</td>\n",
       "      <td>0.013350</td>\n",
       "    </tr>\n",
       "    <tr>\n",
       "      <th>bakery</th>\n",
       "      <td>0.036027</td>\n",
       "      <td>0.036358</td>\n",
       "      <td>0.036244</td>\n",
       "      <td>0.036357</td>\n",
       "    </tr>\n",
       "    <tr>\n",
       "      <th>beverages</th>\n",
       "      <td>0.083236</td>\n",
       "      <td>0.082903</td>\n",
       "      <td>0.080414</td>\n",
       "      <td>0.083381</td>\n",
       "    </tr>\n",
       "    <tr>\n",
       "      <th>breakfast</th>\n",
       "      <td>0.021556</td>\n",
       "      <td>0.021904</td>\n",
       "      <td>0.022413</td>\n",
       "      <td>0.021504</td>\n",
       "    </tr>\n",
       "    <tr>\n",
       "      <th>bulk</th>\n",
       "      <td>0.001082</td>\n",
       "      <td>0.001122</td>\n",
       "      <td>0.001103</td>\n",
       "      <td>0.001034</td>\n",
       "    </tr>\n",
       "    <tr>\n",
       "      <th>canned goods</th>\n",
       "      <td>0.032785</td>\n",
       "      <td>0.032745</td>\n",
       "      <td>0.032729</td>\n",
       "      <td>0.032433</td>\n",
       "    </tr>\n",
       "    <tr>\n",
       "      <th>dairy eggs</th>\n",
       "      <td>0.166622</td>\n",
       "      <td>0.167956</td>\n",
       "      <td>0.168925</td>\n",
       "      <td>0.167239</td>\n",
       "    </tr>\n",
       "    <tr>\n",
       "      <th>deli</th>\n",
       "      <td>0.032382</td>\n",
       "      <td>0.032137</td>\n",
       "      <td>0.032487</td>\n",
       "      <td>0.032738</td>\n",
       "    </tr>\n",
       "    <tr>\n",
       "      <th>dry goods pasta</th>\n",
       "      <td>0.026642</td>\n",
       "      <td>0.026504</td>\n",
       "      <td>0.026696</td>\n",
       "      <td>0.026396</td>\n",
       "    </tr>\n",
       "    <tr>\n",
       "      <th>frozen</th>\n",
       "      <td>0.068746</td>\n",
       "      <td>0.067997</td>\n",
       "      <td>0.069535</td>\n",
       "      <td>0.068394</td>\n",
       "    </tr>\n",
       "    <tr>\n",
       "      <th>household</th>\n",
       "      <td>0.022746</td>\n",
       "      <td>0.022825</td>\n",
       "      <td>0.022515</td>\n",
       "      <td>0.022140</td>\n",
       "    </tr>\n",
       "    <tr>\n",
       "      <th>international</th>\n",
       "      <td>0.008168</td>\n",
       "      <td>0.008381</td>\n",
       "      <td>0.008368</td>\n",
       "      <td>0.008329</td>\n",
       "    </tr>\n",
       "    <tr>\n",
       "      <th>meat seafood</th>\n",
       "      <td>0.021897</td>\n",
       "      <td>0.021958</td>\n",
       "      <td>0.021837</td>\n",
       "      <td>0.021432</td>\n",
       "    </tr>\n",
       "    <tr>\n",
       "      <th>missing</th>\n",
       "      <td>0.002106</td>\n",
       "      <td>0.002068</td>\n",
       "      <td>0.002239</td>\n",
       "      <td>0.002059</td>\n",
       "    </tr>\n",
       "    <tr>\n",
       "      <th>other</th>\n",
       "      <td>0.001083</td>\n",
       "      <td>0.001128</td>\n",
       "      <td>0.001225</td>\n",
       "      <td>0.001126</td>\n",
       "    </tr>\n",
       "    <tr>\n",
       "      <th>pantry</th>\n",
       "      <td>0.057507</td>\n",
       "      <td>0.057859</td>\n",
       "      <td>0.057957</td>\n",
       "      <td>0.057354</td>\n",
       "    </tr>\n",
       "    <tr>\n",
       "      <th>personal care</th>\n",
       "      <td>0.013684</td>\n",
       "      <td>0.013733</td>\n",
       "      <td>0.013639</td>\n",
       "      <td>0.013722</td>\n",
       "    </tr>\n",
       "    <tr>\n",
       "      <th>pets</th>\n",
       "      <td>0.002940</td>\n",
       "      <td>0.002966</td>\n",
       "      <td>0.003604</td>\n",
       "      <td>0.003049</td>\n",
       "    </tr>\n",
       "    <tr>\n",
       "      <th>produce</th>\n",
       "      <td>0.293291</td>\n",
       "      <td>0.292744</td>\n",
       "      <td>0.290675</td>\n",
       "      <td>0.293997</td>\n",
       "    </tr>\n",
       "    <tr>\n",
       "      <th>snacks</th>\n",
       "      <td>0.089540</td>\n",
       "      <td>0.089225</td>\n",
       "      <td>0.088653</td>\n",
       "      <td>0.089208</td>\n",
       "    </tr>\n",
       "  </tbody>\n",
       "</table>\n",
       "</div>"
      ],
      "text/plain": [
       "status_flag      Married with dependants  Married no dependants  \\\n",
       "department                                                        \n",
       "alcohol                         0.004553               0.004611   \n",
       "babies                          0.013408               0.012874   \n",
       "bakery                          0.036027               0.036358   \n",
       "beverages                       0.083236               0.082903   \n",
       "breakfast                       0.021556               0.021904   \n",
       "bulk                            0.001082               0.001122   \n",
       "canned goods                    0.032785               0.032745   \n",
       "dairy eggs                      0.166622               0.167956   \n",
       "deli                            0.032382               0.032137   \n",
       "dry goods pasta                 0.026642               0.026504   \n",
       "frozen                          0.068746               0.067997   \n",
       "household                       0.022746               0.022825   \n",
       "international                   0.008168               0.008381   \n",
       "meat seafood                    0.021897               0.021958   \n",
       "missing                         0.002106               0.002068   \n",
       "other                           0.001083               0.001128   \n",
       "pantry                          0.057507               0.057859   \n",
       "personal care                   0.013684               0.013733   \n",
       "pets                            0.002940               0.002966   \n",
       "produce                         0.293291               0.292744   \n",
       "snacks                          0.089540               0.089225   \n",
       "\n",
       "status_flag      Single with dependants  Single no dependants  \n",
       "department                                                     \n",
       "alcohol                        0.005657              0.004758  \n",
       "babies                         0.013085              0.013350  \n",
       "bakery                         0.036244              0.036357  \n",
       "beverages                      0.080414              0.083381  \n",
       "breakfast                      0.022413              0.021504  \n",
       "bulk                           0.001103              0.001034  \n",
       "canned goods                   0.032729              0.032433  \n",
       "dairy eggs                     0.168925              0.167239  \n",
       "deli                           0.032487              0.032738  \n",
       "dry goods pasta                0.026696              0.026396  \n",
       "frozen                         0.069535              0.068394  \n",
       "household                      0.022515              0.022140  \n",
       "international                  0.008368              0.008329  \n",
       "meat seafood                   0.021837              0.021432  \n",
       "missing                        0.002239              0.002059  \n",
       "other                          0.001225              0.001126  \n",
       "pantry                         0.057957              0.057354  \n",
       "personal care                  0.013639              0.013722  \n",
       "pets                           0.003604              0.003049  \n",
       "produce                        0.290675              0.293997  \n",
       "snacks                         0.088653              0.089208  "
      ]
     },
     "execution_count": 115,
     "metadata": {},
     "output_type": "execute_result"
    }
   ],
   "source": [
    "# create a crosstab between the \"department\" column and \"status_flag\" column\n",
    "crosstab_department_family = pd.crosstab(df_project_excl_merged['department'], df_project_excl_merged['status_flag'], normalize = 'columns', dropna = False).loc[:,status_order]\n",
    "crosstab_department_family"
   ]
  },
  {
   "cell_type": "code",
   "execution_count": 113,
   "id": "1c4bc4bc",
   "metadata": {},
   "outputs": [],
   "source": [
    "# copy the above table to excel\n",
    "crosstab_department_family.to_clipboard()"
   ]
  },
  {
   "cell_type": "code",
   "execution_count": 107,
   "id": "b37b2745",
   "metadata": {},
   "outputs": [
    {
     "data": {
      "image/png": "[encoded data removed]",
      "text/plain": [
       "<Figure size 640x480 with 1 Axes>"
      ]
     },
     "metadata": {},
     "output_type": "display_data"
    }
   ],
   "source": [
    "# create the visualization of Family Profiles by Department\n",
    "department_family = crosstab_department_family.plot(kind = 'bar', stacked = True, color = sns.color_palette('Blues',4))\n",
    "\n",
    "# customize the plot\n",
    "plt.xlabel('Department')\n",
    "plt.ylabel('Profiles Count')\n",
    "plt.title('Family Profiles by Department', fontweight='bold')\n",
    "plt.legend(title = 'family_status', bbox_to_anchor=(1, 1.02), loc='upper left')\n",
    "\n",
    "#show the plot\n",
    "plt.show()"
   ]
  },
  {
   "cell_type": "markdown",
   "id": "26ea5307",
   "metadata": {},
   "source": [
    "Produce, dairy, eggs, and snacks are the top three purchased departments across all family profiles. Similar distribution are observed across all family profiles. Single with dependants spend slightly more on alcohol (0.6% of purchases vs 0.5%) and pets (0.4% of purchases vs 0.3%) than other groups."
   ]
  },
  {
   "cell_type": "code",
   "execution_count": 108,
   "id": "8d8501e8",
   "metadata": {},
   "outputs": [],
   "source": [
    "# export the viz\n",
    "department_family.figure.savefig(os.path.join(path, '04 Analysis', 'Visualizations', 'department_family.png'))"
   ]
  },
  {
   "cell_type": "markdown",
   "id": "86af4de0",
   "metadata": {},
   "source": [
    "# Department-based Segmentation Profile"
   ]
  },
  {
   "cell_type": "markdown",
   "id": "2dd153c9",
   "metadata": {},
   "source": [
    "### 1) Department Profiles by Region"
   ]
  },
  {
   "cell_type": "code",
   "execution_count": 77,
   "id": "211c7aa8",
   "metadata": {},
   "outputs": [],
   "source": [
    "# define the desired order of deptcatflag (desc qty count)\n",
    "department_order = ['Food enthusiast, Household essentials buyers', 'Household essentials buyers', 'Food enthusiast, Household essentials buyers, Parent with babies', 'Food enthusiast, Household essentials buyers, Pet Owners','Household essentials buyers, Parent with babies', 'Food enthusiast, Household essentials buyers, Parent with babies, Pet Owners', 'Household essentials buyers, Pet Owners', 'Household essentials buyers, Parent with babies, Pet Owners', 'Food enthusiast', 'Food enthusiast, Parent with babies', 'Parent with babies']"
   ]
  },
  {
   "cell_type": "code",
   "execution_count": 78,
   "id": "2704a2f1",
   "metadata": {},
   "outputs": [
    {
     "data": {
      "text/html": [
       "<div>\n",
       "<style scoped>\n",
       "    .dataframe tbody tr th:only-of-type {\n",
       "        vertical-align: middle;\n",
       "    }\n",
       "\n",
       "    .dataframe tbody tr th {\n",
       "        vertical-align: top;\n",
       "    }\n",
       "\n",
       "    .dataframe thead th {\n",
       "        text-align: right;\n",
       "    }\n",
       "</style>\n",
       "<table border=\"1\" class=\"dataframe\">\n",
       "  <thead>\n",
       "    <tr style=\"text-align: right;\">\n",
       "      <th>deptcat_flag</th>\n",
       "      <th>Food enthusiast, Household essentials buyers</th>\n",
       "      <th>Household essentials buyers</th>\n",
       "      <th>Food enthusiast, Household essentials buyers, Parent with babies</th>\n",
       "      <th>Food enthusiast, Household essentials buyers, Pet Owners</th>\n",
       "      <th>Household essentials buyers, Parent with babies</th>\n",
       "      <th>Food enthusiast, Household essentials buyers, Parent with babies, Pet Owners</th>\n",
       "      <th>Household essentials buyers, Pet Owners</th>\n",
       "      <th>Household essentials buyers, Parent with babies, Pet Owners</th>\n",
       "      <th>Food enthusiast</th>\n",
       "      <th>Food enthusiast, Parent with babies</th>\n",
       "      <th>Parent with babies</th>\n",
       "    </tr>\n",
       "    <tr>\n",
       "      <th>Region</th>\n",
       "      <th></th>\n",
       "      <th></th>\n",
       "      <th></th>\n",
       "      <th></th>\n",
       "      <th></th>\n",
       "      <th></th>\n",
       "      <th></th>\n",
       "      <th></th>\n",
       "      <th></th>\n",
       "      <th></th>\n",
       "      <th></th>\n",
       "    </tr>\n",
       "  </thead>\n",
       "  <tbody>\n",
       "    <tr>\n",
       "      <th>Midwest</th>\n",
       "      <td>0.537001</td>\n",
       "      <td>0.070147</td>\n",
       "      <td>0.268104</td>\n",
       "      <td>0.071957</td>\n",
       "      <td>0.010767</td>\n",
       "      <td>0.037584</td>\n",
       "      <td>0.003684</td>\n",
       "      <td>0.000735</td>\n",
       "      <td>0.000021</td>\n",
       "      <td>0.000000e+00</td>\n",
       "      <td>0.000000</td>\n",
       "    </tr>\n",
       "    <tr>\n",
       "      <th>Northeast</th>\n",
       "      <td>0.540832</td>\n",
       "      <td>0.068234</td>\n",
       "      <td>0.271242</td>\n",
       "      <td>0.067079</td>\n",
       "      <td>0.010209</td>\n",
       "      <td>0.037529</td>\n",
       "      <td>0.003768</td>\n",
       "      <td>0.001088</td>\n",
       "      <td>0.000018</td>\n",
       "      <td>0.000000e+00</td>\n",
       "      <td>0.000002</td>\n",
       "    </tr>\n",
       "    <tr>\n",
       "      <th>South</th>\n",
       "      <td>0.539432</td>\n",
       "      <td>0.071118</td>\n",
       "      <td>0.269921</td>\n",
       "      <td>0.068723</td>\n",
       "      <td>0.011120</td>\n",
       "      <td>0.035361</td>\n",
       "      <td>0.003534</td>\n",
       "      <td>0.000774</td>\n",
       "      <td>0.000016</td>\n",
       "      <td>4.849125e-07</td>\n",
       "      <td>0.000000</td>\n",
       "    </tr>\n",
       "    <tr>\n",
       "      <th>West</th>\n",
       "      <td>0.538306</td>\n",
       "      <td>0.070050</td>\n",
       "      <td>0.266118</td>\n",
       "      <td>0.074039</td>\n",
       "      <td>0.010973</td>\n",
       "      <td>0.035585</td>\n",
       "      <td>0.003813</td>\n",
       "      <td>0.001105</td>\n",
       "      <td>0.000008</td>\n",
       "      <td>3.658278e-06</td>\n",
       "      <td>0.000000</td>\n",
       "    </tr>\n",
       "  </tbody>\n",
       "</table>\n",
       "</div>"
      ],
      "text/plain": [
       "deptcat_flag  Food enthusiast, Household essentials buyers  \\\n",
       "Region                                                       \n",
       "Midwest                                           0.537001   \n",
       "Northeast                                         0.540832   \n",
       "South                                             0.539432   \n",
       "West                                              0.538306   \n",
       "\n",
       "deptcat_flag  Household essentials buyers  \\\n",
       "Region                                      \n",
       "Midwest                          0.070147   \n",
       "Northeast                        0.068234   \n",
       "South                            0.071118   \n",
       "West                             0.070050   \n",
       "\n",
       "deptcat_flag  Food enthusiast, Household essentials buyers, Parent with babies  \\\n",
       "Region                                                                           \n",
       "Midwest                                                0.268104                  \n",
       "Northeast                                              0.271242                  \n",
       "South                                                  0.269921                  \n",
       "West                                                   0.266118                  \n",
       "\n",
       "deptcat_flag  Food enthusiast, Household essentials buyers, Pet Owners  \\\n",
       "Region                                                                   \n",
       "Midwest                                                0.071957          \n",
       "Northeast                                              0.067079          \n",
       "South                                                  0.068723          \n",
       "West                                                   0.074039          \n",
       "\n",
       "deptcat_flag  Household essentials buyers, Parent with babies  \\\n",
       "Region                                                          \n",
       "Midwest                                              0.010767   \n",
       "Northeast                                            0.010209   \n",
       "South                                                0.011120   \n",
       "West                                                 0.010973   \n",
       "\n",
       "deptcat_flag  Food enthusiast, Household essentials buyers, Parent with babies, Pet Owners  \\\n",
       "Region                                                                                       \n",
       "Midwest                                                0.037584                              \n",
       "Northeast                                              0.037529                              \n",
       "South                                                  0.035361                              \n",
       "West                                                   0.035585                              \n",
       "\n",
       "deptcat_flag  Household essentials buyers, Pet Owners  \\\n",
       "Region                                                  \n",
       "Midwest                                      0.003684   \n",
       "Northeast                                    0.003768   \n",
       "South                                        0.003534   \n",
       "West                                         0.003813   \n",
       "\n",
       "deptcat_flag  Household essentials buyers, Parent with babies, Pet Owners  \\\n",
       "Region                                                                      \n",
       "Midwest                                                0.000735             \n",
       "Northeast                                              0.001088             \n",
       "South                                                  0.000774             \n",
       "West                                                   0.001105             \n",
       "\n",
       "deptcat_flag  Food enthusiast  Food enthusiast, Parent with babies  \\\n",
       "Region                                                               \n",
       "Midwest              0.000021                         0.000000e+00   \n",
       "Northeast            0.000018                         0.000000e+00   \n",
       "South                0.000016                         4.849125e-07   \n",
       "West                 0.000008                         3.658278e-06   \n",
       "\n",
       "deptcat_flag  Parent with babies  \n",
       "Region                            \n",
       "Midwest                 0.000000  \n",
       "Northeast               0.000002  \n",
       "South                   0.000000  \n",
       "West                    0.000000  "
      ]
     },
     "execution_count": 78,
     "metadata": {},
     "output_type": "execute_result"
    }
   ],
   "source": [
    "# create a crosstab between the \"region\" column and \"deptcat_flag\" column\n",
    "crosstab_region_department = pd.crosstab(df_project_excl_merged['Region'], df_project_excl_merged['deptcat_flag'], normalize = 'index', dropna = False).loc[:, department_order]\n",
    "crosstab_region_department"
   ]
  },
  {
   "cell_type": "code",
   "execution_count": 120,
   "id": "174e9700",
   "metadata": {},
   "outputs": [
    {
     "data": {
      "image/png": "[encoded data removed]",
      "text/plain": [
       "<Figure size 640x480 with 1 Axes>"
      ]
     },
     "metadata": {},
     "output_type": "display_data"
    }
   ],
   "source": [
    "# create the visualization of Department Profiles by Region\n",
    "region_department = crosstab_region_department.plot(kind = 'bar', stacked = True, color = sns.color_palette('Blues', 11))\n",
    "\n",
    "# customize the plot\n",
    "plt.xlabel('Proportion')\n",
    "plt.ylabel('Region')\n",
    "plt.title('Department Profiles by Region', fontweight='bold')\n",
    "plt.legend(title = 'Customer Profile', bbox_to_anchor=(1, 1.02), loc='upper left')\n",
    "\n",
    "# show the plot\n",
    "plt.show()"
   ]
  },
  {
   "cell_type": "markdown",
   "id": "8bd57b02",
   "metadata": {},
   "source": [
    "Across all regions, customer profiles are distributed similarly with the combination profile of food enthusiasts and household essentials buyers has the highest proportion in each region."
   ]
  },
  {
   "cell_type": "code",
   "execution_count": 80,
   "id": "104742fe",
   "metadata": {},
   "outputs": [],
   "source": [
    "# export the viz\n",
    "region_department.figure.savefig(os.path.join(path, '04 Analysis', 'Visualizations', 'region_department.png'))"
   ]
  },
  {
   "cell_type": "markdown",
   "id": "d57f9e16",
   "metadata": {},
   "source": [
    "### 2) Department Profiles by Department"
   ]
  },
  {
   "cell_type": "code",
   "execution_count": 118,
   "id": "9d8477d7",
   "metadata": {},
   "outputs": [
    {
     "data": {
      "text/html": [
       "<div>\n",
       "<style scoped>\n",
       "    .dataframe tbody tr th:only-of-type {\n",
       "        vertical-align: middle;\n",
       "    }\n",
       "\n",
       "    .dataframe tbody tr th {\n",
       "        vertical-align: top;\n",
       "    }\n",
       "\n",
       "    .dataframe thead th {\n",
       "        text-align: right;\n",
       "    }\n",
       "</style>\n",
       "<table border=\"1\" class=\"dataframe\">\n",
       "  <thead>\n",
       "    <tr style=\"text-align: right;\">\n",
       "      <th>deptcat_flag</th>\n",
       "      <th>Food enthusiast, Household essentials buyers</th>\n",
       "      <th>Household essentials buyers</th>\n",
       "      <th>Food enthusiast, Household essentials buyers, Parent with babies</th>\n",
       "      <th>Food enthusiast, Household essentials buyers, Pet Owners</th>\n",
       "      <th>Household essentials buyers, Parent with babies</th>\n",
       "      <th>Food enthusiast, Household essentials buyers, Parent with babies, Pet Owners</th>\n",
       "      <th>Household essentials buyers, Pet Owners</th>\n",
       "      <th>Household essentials buyers, Parent with babies, Pet Owners</th>\n",
       "      <th>Food enthusiast</th>\n",
       "      <th>Food enthusiast, Parent with babies</th>\n",
       "      <th>Parent with babies</th>\n",
       "    </tr>\n",
       "    <tr>\n",
       "      <th>department</th>\n",
       "      <th></th>\n",
       "      <th></th>\n",
       "      <th></th>\n",
       "      <th></th>\n",
       "      <th></th>\n",
       "      <th></th>\n",
       "      <th></th>\n",
       "      <th></th>\n",
       "      <th></th>\n",
       "      <th></th>\n",
       "      <th></th>\n",
       "    </tr>\n",
       "  </thead>\n",
       "  <tbody>\n",
       "    <tr>\n",
       "      <th>alcohol</th>\n",
       "      <td>0.006126</td>\n",
       "      <td>0.000000</td>\n",
       "      <td>0.001856</td>\n",
       "      <td>0.009538</td>\n",
       "      <td>0.000000</td>\n",
       "      <td>0.005082</td>\n",
       "      <td>0.000000</td>\n",
       "      <td>0.000000</td>\n",
       "      <td>0.826804</td>\n",
       "      <td>0.500000</td>\n",
       "      <td>0.0</td>\n",
       "    </tr>\n",
       "    <tr>\n",
       "      <th>babies</th>\n",
       "      <td>0.000000</td>\n",
       "      <td>0.000000</td>\n",
       "      <td>0.042229</td>\n",
       "      <td>0.000000</td>\n",
       "      <td>0.069684</td>\n",
       "      <td>0.029825</td>\n",
       "      <td>0.000000</td>\n",
       "      <td>0.072163</td>\n",
       "      <td>0.000000</td>\n",
       "      <td>0.235294</td>\n",
       "      <td>1.0</td>\n",
       "    </tr>\n",
       "    <tr>\n",
       "      <th>bakery</th>\n",
       "      <td>0.036188</td>\n",
       "      <td>0.027481</td>\n",
       "      <td>0.037154</td>\n",
       "      <td>0.040174</td>\n",
       "      <td>0.031167</td>\n",
       "      <td>0.040267</td>\n",
       "      <td>0.034647</td>\n",
       "      <td>0.026802</td>\n",
       "      <td>0.000000</td>\n",
       "      <td>0.000000</td>\n",
       "      <td>0.0</td>\n",
       "    </tr>\n",
       "    <tr>\n",
       "      <th>beverages</th>\n",
       "      <td>0.084576</td>\n",
       "      <td>0.131419</td>\n",
       "      <td>0.063531</td>\n",
       "      <td>0.096004</td>\n",
       "      <td>0.081838</td>\n",
       "      <td>0.081477</td>\n",
       "      <td>0.130956</td>\n",
       "      <td>0.108958</td>\n",
       "      <td>0.000000</td>\n",
       "      <td>0.000000</td>\n",
       "      <td>0.0</td>\n",
       "    </tr>\n",
       "    <tr>\n",
       "      <th>breakfast</th>\n",
       "      <td>0.021285</td>\n",
       "      <td>0.026285</td>\n",
       "      <td>0.021110</td>\n",
       "      <td>0.020560</td>\n",
       "      <td>0.026408</td>\n",
       "      <td>0.022649</td>\n",
       "      <td>0.025717</td>\n",
       "      <td>0.028587</td>\n",
       "      <td>0.000000</td>\n",
       "      <td>0.000000</td>\n",
       "      <td>0.0</td>\n",
       "    </tr>\n",
       "    <tr>\n",
       "      <th>bulk</th>\n",
       "      <td>0.001161</td>\n",
       "      <td>0.001434</td>\n",
       "      <td>0.001040</td>\n",
       "      <td>0.000565</td>\n",
       "      <td>0.000596</td>\n",
       "      <td>0.000770</td>\n",
       "      <td>0.000167</td>\n",
       "      <td>0.000036</td>\n",
       "      <td>0.000000</td>\n",
       "      <td>0.000000</td>\n",
       "      <td>0.0</td>\n",
       "    </tr>\n",
       "    <tr>\n",
       "      <th>canned goods</th>\n",
       "      <td>0.033667</td>\n",
       "      <td>0.021826</td>\n",
       "      <td>0.032315</td>\n",
       "      <td>0.037034</td>\n",
       "      <td>0.024406</td>\n",
       "      <td>0.036128</td>\n",
       "      <td>0.029875</td>\n",
       "      <td>0.032905</td>\n",
       "      <td>0.000000</td>\n",
       "      <td>0.000000</td>\n",
       "      <td>0.0</td>\n",
       "    </tr>\n",
       "    <tr>\n",
       "      <th>dairy eggs</th>\n",
       "      <td>0.164749</td>\n",
       "      <td>0.165829</td>\n",
       "      <td>0.178351</td>\n",
       "      <td>0.149489</td>\n",
       "      <td>0.179105</td>\n",
       "      <td>0.157588</td>\n",
       "      <td>0.144560</td>\n",
       "      <td>0.136938</td>\n",
       "      <td>0.000000</td>\n",
       "      <td>0.000000</td>\n",
       "      <td>0.0</td>\n",
       "    </tr>\n",
       "    <tr>\n",
       "      <th>deli</th>\n",
       "      <td>0.037443</td>\n",
       "      <td>0.000000</td>\n",
       "      <td>0.032386</td>\n",
       "      <td>0.034239</td>\n",
       "      <td>0.000000</td>\n",
       "      <td>0.030878</td>\n",
       "      <td>0.000000</td>\n",
       "      <td>0.000000</td>\n",
       "      <td>0.156701</td>\n",
       "      <td>0.205882</td>\n",
       "      <td>0.0</td>\n",
       "    </tr>\n",
       "    <tr>\n",
       "      <th>dry goods pasta</th>\n",
       "      <td>0.025740</td>\n",
       "      <td>0.016232</td>\n",
       "      <td>0.029864</td>\n",
       "      <td>0.028933</td>\n",
       "      <td>0.025869</td>\n",
       "      <td>0.029944</td>\n",
       "      <td>0.024183</td>\n",
       "      <td>0.021128</td>\n",
       "      <td>0.000000</td>\n",
       "      <td>0.000000</td>\n",
       "      <td>0.0</td>\n",
       "    </tr>\n",
       "    <tr>\n",
       "      <th>frozen</th>\n",
       "      <td>0.067445</td>\n",
       "      <td>0.058414</td>\n",
       "      <td>0.068130</td>\n",
       "      <td>0.082899</td>\n",
       "      <td>0.068177</td>\n",
       "      <td>0.076941</td>\n",
       "      <td>0.086020</td>\n",
       "      <td>0.083904</td>\n",
       "      <td>0.000000</td>\n",
       "      <td>0.000000</td>\n",
       "      <td>0.0</td>\n",
       "    </tr>\n",
       "    <tr>\n",
       "      <th>household</th>\n",
       "      <td>0.019041</td>\n",
       "      <td>0.032258</td>\n",
       "      <td>0.019449</td>\n",
       "      <td>0.037384</td>\n",
       "      <td>0.048773</td>\n",
       "      <td>0.036741</td>\n",
       "      <td>0.076065</td>\n",
       "      <td>0.080478</td>\n",
       "      <td>0.000000</td>\n",
       "      <td>0.000000</td>\n",
       "      <td>0.0</td>\n",
       "    </tr>\n",
       "    <tr>\n",
       "      <th>international</th>\n",
       "      <td>0.009534</td>\n",
       "      <td>0.000000</td>\n",
       "      <td>0.007930</td>\n",
       "      <td>0.009595</td>\n",
       "      <td>0.000000</td>\n",
       "      <td>0.008851</td>\n",
       "      <td>0.000000</td>\n",
       "      <td>0.000000</td>\n",
       "      <td>0.016495</td>\n",
       "      <td>0.058824</td>\n",
       "      <td>0.0</td>\n",
       "    </tr>\n",
       "    <tr>\n",
       "      <th>meat seafood</th>\n",
       "      <td>0.022332</td>\n",
       "      <td>0.016545</td>\n",
       "      <td>0.021765</td>\n",
       "      <td>0.023904</td>\n",
       "      <td>0.016635</td>\n",
       "      <td>0.021807</td>\n",
       "      <td>0.020130</td>\n",
       "      <td>0.018201</td>\n",
       "      <td>0.000000</td>\n",
       "      <td>0.000000</td>\n",
       "      <td>0.0</td>\n",
       "    </tr>\n",
       "    <tr>\n",
       "      <th>missing</th>\n",
       "      <td>0.002098</td>\n",
       "      <td>0.002019</td>\n",
       "      <td>0.002060</td>\n",
       "      <td>0.002117</td>\n",
       "      <td>0.002551</td>\n",
       "      <td>0.002117</td>\n",
       "      <td>0.002377</td>\n",
       "      <td>0.003961</td>\n",
       "      <td>0.000000</td>\n",
       "      <td>0.000000</td>\n",
       "      <td>0.0</td>\n",
       "    </tr>\n",
       "    <tr>\n",
       "      <th>other</th>\n",
       "      <td>0.001039</td>\n",
       "      <td>0.001089</td>\n",
       "      <td>0.001053</td>\n",
       "      <td>0.001407</td>\n",
       "      <td>0.002259</td>\n",
       "      <td>0.001608</td>\n",
       "      <td>0.002009</td>\n",
       "      <td>0.002926</td>\n",
       "      <td>0.000000</td>\n",
       "      <td>0.000000</td>\n",
       "      <td>0.0</td>\n",
       "    </tr>\n",
       "    <tr>\n",
       "      <th>pantry</th>\n",
       "      <td>0.059780</td>\n",
       "      <td>0.051461</td>\n",
       "      <td>0.052985</td>\n",
       "      <td>0.064598</td>\n",
       "      <td>0.050168</td>\n",
       "      <td>0.059077</td>\n",
       "      <td>0.059031</td>\n",
       "      <td>0.055032</td>\n",
       "      <td>0.000000</td>\n",
       "      <td>0.000000</td>\n",
       "      <td>0.0</td>\n",
       "    </tr>\n",
       "    <tr>\n",
       "      <th>personal care</th>\n",
       "      <td>0.011964</td>\n",
       "      <td>0.016372</td>\n",
       "      <td>0.012419</td>\n",
       "      <td>0.020851</td>\n",
       "      <td>0.030207</td>\n",
       "      <td>0.021701</td>\n",
       "      <td>0.038901</td>\n",
       "      <td>0.045182</td>\n",
       "      <td>0.000000</td>\n",
       "      <td>0.000000</td>\n",
       "      <td>0.0</td>\n",
       "    </tr>\n",
       "    <tr>\n",
       "      <th>pets</th>\n",
       "      <td>0.000000</td>\n",
       "      <td>0.000000</td>\n",
       "      <td>0.000000</td>\n",
       "      <td>0.028462</td>\n",
       "      <td>0.000000</td>\n",
       "      <td>0.019889</td>\n",
       "      <td>0.062653</td>\n",
       "      <td>0.048858</td>\n",
       "      <td>0.000000</td>\n",
       "      <td>0.000000</td>\n",
       "      <td>0.0</td>\n",
       "    </tr>\n",
       "    <tr>\n",
       "      <th>produce</th>\n",
       "      <td>0.304834</td>\n",
       "      <td>0.319045</td>\n",
       "      <td>0.293545</td>\n",
       "      <td>0.224516</td>\n",
       "      <td>0.262963</td>\n",
       "      <td>0.226866</td>\n",
       "      <td>0.172400</td>\n",
       "      <td>0.154176</td>\n",
       "      <td>0.000000</td>\n",
       "      <td>0.000000</td>\n",
       "      <td>0.0</td>\n",
       "    </tr>\n",
       "    <tr>\n",
       "      <th>snacks</th>\n",
       "      <td>0.090997</td>\n",
       "      <td>0.112292</td>\n",
       "      <td>0.080829</td>\n",
       "      <td>0.087731</td>\n",
       "      <td>0.079195</td>\n",
       "      <td>0.089794</td>\n",
       "      <td>0.090309</td>\n",
       "      <td>0.079764</td>\n",
       "      <td>0.000000</td>\n",
       "      <td>0.000000</td>\n",
       "      <td>0.0</td>\n",
       "    </tr>\n",
       "  </tbody>\n",
       "</table>\n",
       "</div>"
      ],
      "text/plain": [
       "deptcat_flag     Food enthusiast, Household essentials buyers  \\\n",
       "department                                                      \n",
       "alcohol                                              0.006126   \n",
       "babies                                               0.000000   \n",
       "bakery                                               0.036188   \n",
       "beverages                                            0.084576   \n",
       "breakfast                                            0.021285   \n",
       "bulk                                                 0.001161   \n",
       "canned goods                                         0.033667   \n",
       "dairy eggs                                           0.164749   \n",
       "deli                                                 0.037443   \n",
       "dry goods pasta                                      0.025740   \n",
       "frozen                                               0.067445   \n",
       "household                                            0.019041   \n",
       "international                                        0.009534   \n",
       "meat seafood                                         0.022332   \n",
       "missing                                              0.002098   \n",
       "other                                                0.001039   \n",
       "pantry                                               0.059780   \n",
       "personal care                                        0.011964   \n",
       "pets                                                 0.000000   \n",
       "produce                                              0.304834   \n",
       "snacks                                               0.090997   \n",
       "\n",
       "deptcat_flag     Household essentials buyers  \\\n",
       "department                                     \n",
       "alcohol                             0.000000   \n",
       "babies                              0.000000   \n",
       "bakery                              0.027481   \n",
       "beverages                           0.131419   \n",
       "breakfast                           0.026285   \n",
       "bulk                                0.001434   \n",
       "canned goods                        0.021826   \n",
       "dairy eggs                          0.165829   \n",
       "deli                                0.000000   \n",
       "dry goods pasta                     0.016232   \n",
       "frozen                              0.058414   \n",
       "household                           0.032258   \n",
       "international                       0.000000   \n",
       "meat seafood                        0.016545   \n",
       "missing                             0.002019   \n",
       "other                               0.001089   \n",
       "pantry                              0.051461   \n",
       "personal care                       0.016372   \n",
       "pets                                0.000000   \n",
       "produce                             0.319045   \n",
       "snacks                              0.112292   \n",
       "\n",
       "deptcat_flag     Food enthusiast, Household essentials buyers, Parent with babies  \\\n",
       "department                                                                          \n",
       "alcohol                                                   0.001856                  \n",
       "babies                                                    0.042229                  \n",
       "bakery                                                    0.037154                  \n",
       "beverages                                                 0.063531                  \n",
       "breakfast                                                 0.021110                  \n",
       "bulk                                                      0.001040                  \n",
       "canned goods                                              0.032315                  \n",
       "dairy eggs                                                0.178351                  \n",
       "deli                                                      0.032386                  \n",
       "dry goods pasta                                           0.029864                  \n",
       "frozen                                                    0.068130                  \n",
       "household                                                 0.019449                  \n",
       "international                                             0.007930                  \n",
       "meat seafood                                              0.021765                  \n",
       "missing                                                   0.002060                  \n",
       "other                                                     0.001053                  \n",
       "pantry                                                    0.052985                  \n",
       "personal care                                             0.012419                  \n",
       "pets                                                      0.000000                  \n",
       "produce                                                   0.293545                  \n",
       "snacks                                                    0.080829                  \n",
       "\n",
       "deptcat_flag     Food enthusiast, Household essentials buyers, Pet Owners  \\\n",
       "department                                                                  \n",
       "alcohol                                                   0.009538          \n",
       "babies                                                    0.000000          \n",
       "bakery                                                    0.040174          \n",
       "beverages                                                 0.096004          \n",
       "breakfast                                                 0.020560          \n",
       "bulk                                                      0.000565          \n",
       "canned goods                                              0.037034          \n",
       "dairy eggs                                                0.149489          \n",
       "deli                                                      0.034239          \n",
       "dry goods pasta                                           0.028933          \n",
       "frozen                                                    0.082899          \n",
       "household                                                 0.037384          \n",
       "international                                             0.009595          \n",
       "meat seafood                                              0.023904          \n",
       "missing                                                   0.002117          \n",
       "other                                                     0.001407          \n",
       "pantry                                                    0.064598          \n",
       "personal care                                             0.020851          \n",
       "pets                                                      0.028462          \n",
       "produce                                                   0.224516          \n",
       "snacks                                                    0.087731          \n",
       "\n",
       "deptcat_flag     Household essentials buyers, Parent with babies  \\\n",
       "department                                                         \n",
       "alcohol                                                 0.000000   \n",
       "babies                                                  0.069684   \n",
       "bakery                                                  0.031167   \n",
       "beverages                                               0.081838   \n",
       "breakfast                                               0.026408   \n",
       "bulk                                                    0.000596   \n",
       "canned goods                                            0.024406   \n",
       "dairy eggs                                              0.179105   \n",
       "deli                                                    0.000000   \n",
       "dry goods pasta                                         0.025869   \n",
       "frozen                                                  0.068177   \n",
       "household                                               0.048773   \n",
       "international                                           0.000000   \n",
       "meat seafood                                            0.016635   \n",
       "missing                                                 0.002551   \n",
       "other                                                   0.002259   \n",
       "pantry                                                  0.050168   \n",
       "personal care                                           0.030207   \n",
       "pets                                                    0.000000   \n",
       "produce                                                 0.262963   \n",
       "snacks                                                  0.079195   \n",
       "\n",
       "deptcat_flag     Food enthusiast, Household essentials buyers, Parent with babies, Pet Owners  \\\n",
       "department                                                                                      \n",
       "alcohol                                                   0.005082                              \n",
       "babies                                                    0.029825                              \n",
       "bakery                                                    0.040267                              \n",
       "beverages                                                 0.081477                              \n",
       "breakfast                                                 0.022649                              \n",
       "bulk                                                      0.000770                              \n",
       "canned goods                                              0.036128                              \n",
       "dairy eggs                                                0.157588                              \n",
       "deli                                                      0.030878                              \n",
       "dry goods pasta                                           0.029944                              \n",
       "frozen                                                    0.076941                              \n",
       "household                                                 0.036741                              \n",
       "international                                             0.008851                              \n",
       "meat seafood                                              0.021807                              \n",
       "missing                                                   0.002117                              \n",
       "other                                                     0.001608                              \n",
       "pantry                                                    0.059077                              \n",
       "personal care                                             0.021701                              \n",
       "pets                                                      0.019889                              \n",
       "produce                                                   0.226866                              \n",
       "snacks                                                    0.089794                              \n",
       "\n",
       "deptcat_flag     Household essentials buyers, Pet Owners  \\\n",
       "department                                                 \n",
       "alcohol                                         0.000000   \n",
       "babies                                          0.000000   \n",
       "bakery                                          0.034647   \n",
       "beverages                                       0.130956   \n",
       "breakfast                                       0.025717   \n",
       "bulk                                            0.000167   \n",
       "canned goods                                    0.029875   \n",
       "dairy eggs                                      0.144560   \n",
       "deli                                            0.000000   \n",
       "dry goods pasta                                 0.024183   \n",
       "frozen                                          0.086020   \n",
       "household                                       0.076065   \n",
       "international                                   0.000000   \n",
       "meat seafood                                    0.020130   \n",
       "missing                                         0.002377   \n",
       "other                                           0.002009   \n",
       "pantry                                          0.059031   \n",
       "personal care                                   0.038901   \n",
       "pets                                            0.062653   \n",
       "produce                                         0.172400   \n",
       "snacks                                          0.090309   \n",
       "\n",
       "deptcat_flag     Household essentials buyers, Parent with babies, Pet Owners  \\\n",
       "department                                                                     \n",
       "alcohol                                                   0.000000             \n",
       "babies                                                    0.072163             \n",
       "bakery                                                    0.026802             \n",
       "beverages                                                 0.108958             \n",
       "breakfast                                                 0.028587             \n",
       "bulk                                                      0.000036             \n",
       "canned goods                                              0.032905             \n",
       "dairy eggs                                                0.136938             \n",
       "deli                                                      0.000000             \n",
       "dry goods pasta                                           0.021128             \n",
       "frozen                                                    0.083904             \n",
       "household                                                 0.080478             \n",
       "international                                             0.000000             \n",
       "meat seafood                                              0.018201             \n",
       "missing                                                   0.003961             \n",
       "other                                                     0.002926             \n",
       "pantry                                                    0.055032             \n",
       "personal care                                             0.045182             \n",
       "pets                                                      0.048858             \n",
       "produce                                                   0.154176             \n",
       "snacks                                                    0.079764             \n",
       "\n",
       "deptcat_flag     Food enthusiast  Food enthusiast, Parent with babies  \\\n",
       "department                                                              \n",
       "alcohol                 0.826804                             0.500000   \n",
       "babies                  0.000000                             0.235294   \n",
       "bakery                  0.000000                             0.000000   \n",
       "beverages               0.000000                             0.000000   \n",
       "breakfast               0.000000                             0.000000   \n",
       "bulk                    0.000000                             0.000000   \n",
       "canned goods            0.000000                             0.000000   \n",
       "dairy eggs              0.000000                             0.000000   \n",
       "deli                    0.156701                             0.205882   \n",
       "dry goods pasta         0.000000                             0.000000   \n",
       "frozen                  0.000000                             0.000000   \n",
       "household               0.000000                             0.000000   \n",
       "international           0.016495                             0.058824   \n",
       "meat seafood            0.000000                             0.000000   \n",
       "missing                 0.000000                             0.000000   \n",
       "other                   0.000000                             0.000000   \n",
       "pantry                  0.000000                             0.000000   \n",
       "personal care           0.000000                             0.000000   \n",
       "pets                    0.000000                             0.000000   \n",
       "produce                 0.000000                             0.000000   \n",
       "snacks                  0.000000                             0.000000   \n",
       "\n",
       "deptcat_flag     Parent with babies  \n",
       "department                           \n",
       "alcohol                         0.0  \n",
       "babies                          1.0  \n",
       "bakery                          0.0  \n",
       "beverages                       0.0  \n",
       "breakfast                       0.0  \n",
       "bulk                            0.0  \n",
       "canned goods                    0.0  \n",
       "dairy eggs                      0.0  \n",
       "deli                            0.0  \n",
       "dry goods pasta                 0.0  \n",
       "frozen                          0.0  \n",
       "household                       0.0  \n",
       "international                   0.0  \n",
       "meat seafood                    0.0  \n",
       "missing                         0.0  \n",
       "other                           0.0  \n",
       "pantry                          0.0  \n",
       "personal care                   0.0  \n",
       "pets                            0.0  \n",
       "produce                         0.0  \n",
       "snacks                          0.0  "
      ]
     },
     "execution_count": 118,
     "metadata": {},
     "output_type": "execute_result"
    }
   ],
   "source": [
    "# create a crosstab between the \"department\" column and \"deptcat_flag\" column\n",
    "crosstab_customer_department = pd.crosstab(df_project_excl_merged['department'], df_project_excl_merged['deptcat_flag'], normalize = 'columns', dropna = False).loc[:, department_order]\n",
    "crosstab_customer_department"
   ]
  },
  {
   "cell_type": "code",
   "execution_count": 119,
   "id": "a9835400",
   "metadata": {},
   "outputs": [],
   "source": [
    "# copy to excel\n",
    "crosstab_customer_department.to_clipboard()"
   ]
  },
  {
   "cell_type": "code",
   "execution_count": 117,
   "id": "82b63b6b",
   "metadata": {
    "scrolled": false
   },
   "outputs": [
    {
     "data": {
      "image/png": "[encoded data removed]",
      "text/plain": [
       "<Figure size 640x480 with 1 Axes>"
      ]
     },
     "metadata": {},
     "output_type": "display_data"
    }
   ],
   "source": [
    "# create the visualization of Department Profiles by Department\n",
    "customer_department = crosstab_customer_department.plot(kind = 'bar', stacked = True, color = sns.color_palette('Blues', 11))\n",
    "\n",
    "# customize the plot\n",
    "plt.xlabel('Department')\n",
    "plt.ylabel('Profiles Count')\n",
    "plt.title('Department Profiles by Department', fontweight='bold')\n",
    "plt.legend(title = 'Customer Profile', bbox_to_anchor=(1, 1.02), loc='upper left')\n",
    "\n",
    "# show the plot\n",
    "plt.show()"
   ]
  },
  {
   "attachments": {},
   "cell_type": "markdown",
   "id": "17c33429",
   "metadata": {},
   "source": [
    "A majority of Instacart's customers purchase more on produce, dairy eggs, and snacks departments. Pure household essentials buyers purchase slightly more produce and snacks than other household essentials buyer' profile combination, while food enthusiast, household essentials and parent with babies buyers purchase dairy products in greater proportions in comparison to other categories."
   ]
  },
  {
   "cell_type": "code",
   "execution_count": 83,
   "id": "2b6c3171",
   "metadata": {},
   "outputs": [],
   "source": [
    "# export the viz\n",
    "customer_department.figure.savefig(os.path.join(path, '04 Analysis', 'Visualizations', 'customer_department.png'))"
   ]
  }
 ],
 "metadata": {
  "kernelspec": {
   "display_name": "Python 3 (ipykernel)",
   "language": "python",
   "name": "python3"
  },
  "language_info": {
   "codemirror_mode": {
    "name": "ipython",
    "version": 3
   },
   "file_extension": ".py",
   "mimetype": "text/x-python",
   "name": "python",
   "nbconvert_exporter": "python",
   "pygments_lexer": "ipython3",
   "version": "3.10.9"
  }
 },
 "nbformat": 4,
 "nbformat_minor": 5
}
