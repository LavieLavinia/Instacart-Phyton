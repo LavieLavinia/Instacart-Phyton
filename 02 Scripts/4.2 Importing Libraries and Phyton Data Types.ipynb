{
 "cells": [
  {
   "cell_type": "markdown",
   "id": "8919e622",
   "metadata": {},
   "source": [
    "# 01. Importing libraries"
   ]
  },
  {
   "cell_type": "code",
   "execution_count": null,
   "id": "05823a79",
   "metadata": {},
   "outputs": [],
   "source": [
    "# Import libraries\n",
    "import pandas as pd\n",
    "import numpy as np\n",
    "import os"
   ]
  },
  {
   "cell_type": "markdown",
   "id": "6f93c18e",
   "metadata": {},
   "source": [
    "# 02. Data types"
   ]
  },
  {
   "cell_type": "code",
   "execution_count": 1,
   "id": "3024bf55",
   "metadata": {},
   "outputs": [],
   "source": [
    "x = 25"
   ]
  },
  {
   "cell_type": "code",
   "execution_count": 3,
   "id": "6fcfc769",
   "metadata": {},
   "outputs": [],
   "source": [
    "y = 75"
   ]
  },
  {
   "cell_type": "code",
   "execution_count": 4,
   "id": "8e3fd35e",
   "metadata": {},
   "outputs": [
    {
     "data": {
      "text/plain": [
       "100"
      ]
     },
     "execution_count": 4,
     "metadata": {},
     "output_type": "execute_result"
    }
   ],
   "source": [
    "# to get 100 by adding or subtracting numeric variables\n",
    "x + y"
   ]
  },
  {
   "cell_type": "code",
   "execution_count": 6,
   "id": "55d1d684",
   "metadata": {},
   "outputs": [
    {
     "data": {
      "text/plain": [
       "100"
      ]
     },
     "execution_count": 6,
     "metadata": {},
     "output_type": "execute_result"
    }
   ],
   "source": [
    "125 - x"
   ]
  },
  {
   "cell_type": "code",
   "execution_count": 5,
   "id": "fba15387",
   "metadata": {},
   "outputs": [
    {
     "data": {
      "text/plain": [
       "100"
      ]
     },
     "execution_count": 5,
     "metadata": {},
     "output_type": "execute_result"
    }
   ],
   "source": [
    "25 + y"
   ]
  },
  {
   "cell_type": "code",
   "execution_count": 7,
   "id": "8b7594ef",
   "metadata": {},
   "outputs": [
    {
     "data": {
      "text/plain": [
       "2.7777777777777777"
      ]
     },
     "execution_count": 7,
     "metadata": {},
     "output_type": "execute_result"
    }
   ],
   "source": [
    "# floating variables\n",
    "a = 12.5\n",
    "b = 4.5\n",
    "a / b"
   ]
  },
  {
   "cell_type": "code",
   "execution_count": 12,
   "id": "9260180c",
   "metadata": {},
   "outputs": [
    {
     "data": {
      "text/plain": [
       "'career foundry '"
      ]
     },
     "execution_count": 12,
     "metadata": {},
     "output_type": "execute_result"
    }
   ],
   "source": [
    "# construct a short word made of separate strings\n",
    "c = 'career '\n",
    "f = 'foundry '\n",
    "c + f"
   ]
  },
  {
   "cell_type": "code",
   "execution_count": 10,
   "id": "9b1f4d47",
   "metadata": {},
   "outputs": [
    {
     "data": {
      "text/plain": [
       "'How are you doing?'"
      ]
     },
     "execution_count": 10,
     "metadata": {},
     "output_type": "execute_result"
    }
   ],
   "source": [
    "# construct 2 short sentences made of separate strings\n",
    "e = 'How are you '\n",
    "g = 'doing?'\n",
    "e + g"
   ]
  },
  {
   "cell_type": "code",
   "execution_count": 13,
   "id": "45b97330",
   "metadata": {},
   "outputs": [
    {
     "data": {
      "text/plain": [
       "'career foundry career foundry career foundry career foundry career foundry career foundry career foundry career foundry career foundry career foundry career foundry career foundry career foundry career foundry career foundry career foundry career foundry career foundry career foundry career foundry career foundry career foundry career foundry career foundry career foundry career foundry career foundry career foundry career foundry career foundry career foundry career foundry career foundry career foundry career foundry career foundry career foundry career foundry career foundry career foundry career foundry career foundry career foundry career foundry career foundry career foundry career foundry career foundry career foundry career foundry career foundry career foundry career foundry career foundry career foundry career foundry career foundry career foundry career foundry career foundry career foundry career foundry career foundry career foundry career foundry career foundry career foundry career foundry career foundry career foundry career foundry career foundry career foundry career foundry career foundry career foundry career foundry career foundry career foundry career foundry career foundry career foundry career foundry career foundry career foundry career foundry career foundry career foundry career foundry career foundry career foundry career foundry career foundry career foundry career foundry career foundry career foundry career foundry career foundry career foundry '"
      ]
     },
     "execution_count": 13,
     "metadata": {},
     "output_type": "execute_result"
    }
   ],
   "source": [
    "# make a string appear 100 times\n",
    "(c + f) * 100"
   ]
  },
  {
   "cell_type": "code",
   "execution_count": null,
   "id": "75784cfe",
   "metadata": {},
   "outputs": [],
   "source": []
  }
 ],
 "metadata": {
  "kernelspec": {
   "display_name": "Python 3",
   "language": "python",
   "name": "python3"
  },
  "language_info": {
   "codemirror_mode": {
    "name": "ipython",
    "version": 3
   },
   "file_extension": ".py",
   "mimetype": "text/x-python",
   "name": "python",
   "nbconvert_exporter": "python",
   "pygments_lexer": "ipython3",
   "version": "3.8.8"
  }
 },
 "nbformat": 4,
 "nbformat_minor": 5
}
