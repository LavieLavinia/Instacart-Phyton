{
 "cells": [
  {
   "cell_type": "markdown",
   "id": "4aaff8c4",
   "metadata": {},
   "source": [
    "# 01. Import Libraries"
   ]
  },
  {
   "cell_type": "code",
   "execution_count": 1,
   "id": "ff325210",
   "metadata": {},
   "outputs": [],
   "source": [
    "import pandas as pd\n",
    "import numpy as np\n",
    "import os\n",
    "import matplotlib as plt\n",
    "import seaborn as sns\n",
    "import scipy"
   ]
  },
  {
   "cell_type": "markdown",
   "id": "335dc1b4",
   "metadata": {},
   "source": [
    "# 02. Import Data"
   ]
  },
  {
   "cell_type": "code",
   "execution_count": 2,
   "id": "10a81252",
   "metadata": {},
   "outputs": [],
   "source": [
    "# path folder\n",
    "path = r'/Users/lavinia/Documents/04-2020 Instacart Basket Analysis'"
   ]
  },
  {
   "cell_type": "code",
   "execution_count": 5,
   "id": "6a114ac2",
   "metadata": {},
   "outputs": [],
   "source": [
    "# import project data\n",
    "df_project = pd.read_pickle(os.path.join(path, '02 Data', 'Prepared Data', 'orders_products_customer.pkl'))"
   ]
  },
  {
   "cell_type": "markdown",
   "id": "4fc60cae",
   "metadata": {},
   "source": [
    "# 03. Visualizations"
   ]
  },
  {
   "cell_type": "code",
   "execution_count": 9,
   "id": "b1749037",
   "metadata": {},
   "outputs": [],
   "source": [
    "# to configure pandas to display all columns\n",
    "pd.set_option('display.max_column', None)"
   ]
  },
  {
   "cell_type": "code",
   "execution_count": 10,
   "id": "c095dc2b",
   "metadata": {},
   "outputs": [
    {
     "data": {
      "text/html": [
       "<div>\n",
       "<style scoped>\n",
       "    .dataframe tbody tr th:only-of-type {\n",
       "        vertical-align: middle;\n",
       "    }\n",
       "\n",
       "    .dataframe tbody tr th {\n",
       "        vertical-align: top;\n",
       "    }\n",
       "\n",
       "    .dataframe thead th {\n",
       "        text-align: right;\n",
       "    }\n",
       "</style>\n",
       "<table border=\"1\" class=\"dataframe\">\n",
       "  <thead>\n",
       "    <tr style=\"text-align: right;\">\n",
       "      <th></th>\n",
       "      <th>order_id</th>\n",
       "      <th>user_id</th>\n",
       "      <th>order_number</th>\n",
       "      <th>order_day_of_week</th>\n",
       "      <th>order_hour_of_day</th>\n",
       "      <th>days_since_prior_order</th>\n",
       "      <th>product_id</th>\n",
       "      <th>add_to_cart_order</th>\n",
       "      <th>reordered</th>\n",
       "      <th>product_name</th>\n",
       "      <th>aisle_id</th>\n",
       "      <th>department_id</th>\n",
       "      <th>prices</th>\n",
       "      <th>_merge</th>\n",
       "      <th>price_range_loc</th>\n",
       "      <th>busiest_day</th>\n",
       "      <th>busiest_days</th>\n",
       "      <th>busiest_period_of_day</th>\n",
       "      <th>max_order</th>\n",
       "      <th>loyalty_flag</th>\n",
       "      <th>avg_price_order</th>\n",
       "      <th>spending_flag</th>\n",
       "      <th>median_freq</th>\n",
       "      <th>frequency_flag</th>\n",
       "      <th>First Name</th>\n",
       "      <th>Last Name</th>\n",
       "      <th>Gender</th>\n",
       "      <th>State</th>\n",
       "      <th>Age</th>\n",
       "      <th>date_joined</th>\n",
       "      <th>n_dependants</th>\n",
       "      <th>marital_status</th>\n",
       "      <th>income</th>\n",
       "    </tr>\n",
       "  </thead>\n",
       "  <tbody>\n",
       "    <tr>\n",
       "      <th>0</th>\n",
       "      <td>2539329</td>\n",
       "      <td>1</td>\n",
       "      <td>1</td>\n",
       "      <td>2</td>\n",
       "      <td>8</td>\n",
       "      <td>NaN</td>\n",
       "      <td>196</td>\n",
       "      <td>1</td>\n",
       "      <td>0</td>\n",
       "      <td>Soda</td>\n",
       "      <td>77</td>\n",
       "      <td>7</td>\n",
       "      <td>9.0</td>\n",
       "      <td>both</td>\n",
       "      <td>Mid-range product</td>\n",
       "      <td>Regularly busy</td>\n",
       "      <td>Regular busy days</td>\n",
       "      <td>Average orders</td>\n",
       "      <td>10</td>\n",
       "      <td>New customer</td>\n",
       "      <td>6.367797</td>\n",
       "      <td>Low spender</td>\n",
       "      <td>20.5</td>\n",
       "      <td>Non-frequent customer</td>\n",
       "      <td>Linda</td>\n",
       "      <td>Nguyen</td>\n",
       "      <td>Female</td>\n",
       "      <td>Alabama</td>\n",
       "      <td>31</td>\n",
       "      <td>2/17/2019</td>\n",
       "      <td>3</td>\n",
       "      <td>married</td>\n",
       "      <td>40423</td>\n",
       "    </tr>\n",
       "    <tr>\n",
       "      <th>1</th>\n",
       "      <td>2398795</td>\n",
       "      <td>1</td>\n",
       "      <td>2</td>\n",
       "      <td>3</td>\n",
       "      <td>7</td>\n",
       "      <td>15.0</td>\n",
       "      <td>196</td>\n",
       "      <td>1</td>\n",
       "      <td>1</td>\n",
       "      <td>Soda</td>\n",
       "      <td>77</td>\n",
       "      <td>7</td>\n",
       "      <td>9.0</td>\n",
       "      <td>both</td>\n",
       "      <td>Mid-range product</td>\n",
       "      <td>Regularly busy</td>\n",
       "      <td>Slowest days</td>\n",
       "      <td>Average orders</td>\n",
       "      <td>10</td>\n",
       "      <td>New customer</td>\n",
       "      <td>6.367797</td>\n",
       "      <td>Low spender</td>\n",
       "      <td>20.5</td>\n",
       "      <td>Non-frequent customer</td>\n",
       "      <td>Linda</td>\n",
       "      <td>Nguyen</td>\n",
       "      <td>Female</td>\n",
       "      <td>Alabama</td>\n",
       "      <td>31</td>\n",
       "      <td>2/17/2019</td>\n",
       "      <td>3</td>\n",
       "      <td>married</td>\n",
       "      <td>40423</td>\n",
       "    </tr>\n",
       "    <tr>\n",
       "      <th>2</th>\n",
       "      <td>473747</td>\n",
       "      <td>1</td>\n",
       "      <td>3</td>\n",
       "      <td>3</td>\n",
       "      <td>12</td>\n",
       "      <td>21.0</td>\n",
       "      <td>196</td>\n",
       "      <td>1</td>\n",
       "      <td>1</td>\n",
       "      <td>Soda</td>\n",
       "      <td>77</td>\n",
       "      <td>7</td>\n",
       "      <td>9.0</td>\n",
       "      <td>both</td>\n",
       "      <td>Mid-range product</td>\n",
       "      <td>Regularly busy</td>\n",
       "      <td>Slowest days</td>\n",
       "      <td>Most orders</td>\n",
       "      <td>10</td>\n",
       "      <td>New customer</td>\n",
       "      <td>6.367797</td>\n",
       "      <td>Low spender</td>\n",
       "      <td>20.5</td>\n",
       "      <td>Non-frequent customer</td>\n",
       "      <td>Linda</td>\n",
       "      <td>Nguyen</td>\n",
       "      <td>Female</td>\n",
       "      <td>Alabama</td>\n",
       "      <td>31</td>\n",
       "      <td>2/17/2019</td>\n",
       "      <td>3</td>\n",
       "      <td>married</td>\n",
       "      <td>40423</td>\n",
       "    </tr>\n",
       "    <tr>\n",
       "      <th>3</th>\n",
       "      <td>2254736</td>\n",
       "      <td>1</td>\n",
       "      <td>4</td>\n",
       "      <td>4</td>\n",
       "      <td>7</td>\n",
       "      <td>29.0</td>\n",
       "      <td>196</td>\n",
       "      <td>1</td>\n",
       "      <td>1</td>\n",
       "      <td>Soda</td>\n",
       "      <td>77</td>\n",
       "      <td>7</td>\n",
       "      <td>9.0</td>\n",
       "      <td>both</td>\n",
       "      <td>Mid-range product</td>\n",
       "      <td>Least busy</td>\n",
       "      <td>Slowest days</td>\n",
       "      <td>Average orders</td>\n",
       "      <td>10</td>\n",
       "      <td>New customer</td>\n",
       "      <td>6.367797</td>\n",
       "      <td>Low spender</td>\n",
       "      <td>20.5</td>\n",
       "      <td>Non-frequent customer</td>\n",
       "      <td>Linda</td>\n",
       "      <td>Nguyen</td>\n",
       "      <td>Female</td>\n",
       "      <td>Alabama</td>\n",
       "      <td>31</td>\n",
       "      <td>2/17/2019</td>\n",
       "      <td>3</td>\n",
       "      <td>married</td>\n",
       "      <td>40423</td>\n",
       "    </tr>\n",
       "    <tr>\n",
       "      <th>4</th>\n",
       "      <td>431534</td>\n",
       "      <td>1</td>\n",
       "      <td>5</td>\n",
       "      <td>4</td>\n",
       "      <td>15</td>\n",
       "      <td>28.0</td>\n",
       "      <td>196</td>\n",
       "      <td>1</td>\n",
       "      <td>1</td>\n",
       "      <td>Soda</td>\n",
       "      <td>77</td>\n",
       "      <td>7</td>\n",
       "      <td>9.0</td>\n",
       "      <td>both</td>\n",
       "      <td>Mid-range product</td>\n",
       "      <td>Least busy</td>\n",
       "      <td>Slowest days</td>\n",
       "      <td>Most orders</td>\n",
       "      <td>10</td>\n",
       "      <td>New customer</td>\n",
       "      <td>6.367797</td>\n",
       "      <td>Low spender</td>\n",
       "      <td>20.5</td>\n",
       "      <td>Non-frequent customer</td>\n",
       "      <td>Linda</td>\n",
       "      <td>Nguyen</td>\n",
       "      <td>Female</td>\n",
       "      <td>Alabama</td>\n",
       "      <td>31</td>\n",
       "      <td>2/17/2019</td>\n",
       "      <td>3</td>\n",
       "      <td>married</td>\n",
       "      <td>40423</td>\n",
       "    </tr>\n",
       "  </tbody>\n",
       "</table>\n",
       "</div>"
      ],
      "text/plain": [
       "   order_id user_id  order_number  order_day_of_week  order_hour_of_day  \\\n",
       "0   2539329       1             1                  2                  8   \n",
       "1   2398795       1             2                  3                  7   \n",
       "2    473747       1             3                  3                 12   \n",
       "3   2254736       1             4                  4                  7   \n",
       "4    431534       1             5                  4                 15   \n",
       "\n",
       "   days_since_prior_order  product_id  add_to_cart_order  reordered  \\\n",
       "0                     NaN         196                  1          0   \n",
       "1                    15.0         196                  1          1   \n",
       "2                    21.0         196                  1          1   \n",
       "3                    29.0         196                  1          1   \n",
       "4                    28.0         196                  1          1   \n",
       "\n",
       "  product_name  aisle_id  department_id  prices _merge    price_range_loc  \\\n",
       "0         Soda        77              7     9.0   both  Mid-range product   \n",
       "1         Soda        77              7     9.0   both  Mid-range product   \n",
       "2         Soda        77              7     9.0   both  Mid-range product   \n",
       "3         Soda        77              7     9.0   both  Mid-range product   \n",
       "4         Soda        77              7     9.0   both  Mid-range product   \n",
       "\n",
       "      busiest_day       busiest_days busiest_period_of_day  max_order  \\\n",
       "0  Regularly busy  Regular busy days        Average orders         10   \n",
       "1  Regularly busy       Slowest days        Average orders         10   \n",
       "2  Regularly busy       Slowest days           Most orders         10   \n",
       "3      Least busy       Slowest days        Average orders         10   \n",
       "4      Least busy       Slowest days           Most orders         10   \n",
       "\n",
       "   loyalty_flag  avg_price_order spending_flag  median_freq  \\\n",
       "0  New customer         6.367797   Low spender         20.5   \n",
       "1  New customer         6.367797   Low spender         20.5   \n",
       "2  New customer         6.367797   Low spender         20.5   \n",
       "3  New customer         6.367797   Low spender         20.5   \n",
       "4  New customer         6.367797   Low spender         20.5   \n",
       "\n",
       "          frequency_flag First Name Last Name  Gender    State  Age  \\\n",
       "0  Non-frequent customer      Linda    Nguyen  Female  Alabama   31   \n",
       "1  Non-frequent customer      Linda    Nguyen  Female  Alabama   31   \n",
       "2  Non-frequent customer      Linda    Nguyen  Female  Alabama   31   \n",
       "3  Non-frequent customer      Linda    Nguyen  Female  Alabama   31   \n",
       "4  Non-frequent customer      Linda    Nguyen  Female  Alabama   31   \n",
       "\n",
       "  date_joined  n_dependants marital_status  income  \n",
       "0   2/17/2019             3        married   40423  \n",
       "1   2/17/2019             3        married   40423  \n",
       "2   2/17/2019             3        married   40423  \n",
       "3   2/17/2019             3        married   40423  \n",
       "4   2/17/2019             3        married   40423  "
      ]
     },
     "execution_count": 10,
     "metadata": {},
     "output_type": "execute_result"
    }
   ],
   "source": [
    "# perform head()\n",
    "df_project.head()"
   ]
  },
  {
   "cell_type": "markdown",
   "id": "47c84cda",
   "metadata": {},
   "source": [
    "## Bar Chart"
   ]
  },
  {
   "cell_type": "code",
   "execution_count": 7,
   "id": "9c8415dc",
   "metadata": {},
   "outputs": [
    {
     "data": {
      "text/plain": [
       "<AxesSubplot:>"
      ]
     },
     "execution_count": 7,
     "metadata": {},
     "output_type": "execute_result"
    },
    {
     "data": {
      "image/png": "[encoded data removed]",
      "text/plain": [
       "<Figure size 432x288 with 1 Axes>"
      ]
     },
     "metadata": {
      "needs_background": "light"
     },
     "output_type": "display_data"
    }
   ],
   "source": [
    "# create bar chart for order_day_of_week column\n",
    "df_project['order_day_of_week'].value_counts().plot.bar()"
   ]
  },
  {
   "cell_type": "code",
   "execution_count": 8,
   "id": "f1ca0a39",
   "metadata": {},
   "outputs": [
    {
     "data": {
      "text/plain": [
       "<AxesSubplot:>"
      ]
     },
     "execution_count": 8,
     "metadata": {},
     "output_type": "execute_result"
    },
    {
     "data": {
      "image/png": "[encoded data removed]",
      "text/plain": [
       "<Figure size 432x288 with 1 Axes>"
      ]
     },
     "metadata": {
      "needs_background": "light"
     },
     "output_type": "display_data"
    }
   ],
   "source": [
    "# sort based on index\n",
    "df_project['order_day_of_week'].value_counts().sort_index().plot.bar()"
   ]
  },
  {
   "cell_type": "markdown",
   "id": "47bc883c",
   "metadata": {},
   "source": [
    "## Histogram & Scatterplot"
   ]
  },
  {
   "cell_type": "code",
   "execution_count": 11,
   "id": "bc633435",
   "metadata": {},
   "outputs": [
    {
     "data": {
      "text/plain": [
       "<AxesSubplot:ylabel='Frequency'>"
      ]
     },
     "execution_count": 11,
     "metadata": {},
     "output_type": "execute_result"
    },
    {
     "data": {
      "image/png": "[encoded data removed]",
      "text/plain": [
       "<Figure size 432x288 with 1 Axes>"
      ]
     },
     "metadata": {
      "needs_background": "light"
     },
     "output_type": "display_data"
    }
   ],
   "source": [
    "# create histogram\n",
    "df_project['prices'].plot.hist(bins=25)"
   ]
  },
  {
   "cell_type": "code",
   "execution_count": 12,
   "id": "f9690495",
   "metadata": {},
   "outputs": [
    {
     "data": {
      "text/plain": [
       "count    3.240486e+07\n",
       "mean     1.198023e+01\n",
       "std      4.956554e+02\n",
       "min      1.000000e+00\n",
       "25%      4.200000e+00\n",
       "50%      7.400000e+00\n",
       "75%      1.130000e+01\n",
       "max      9.999900e+04\n",
       "Name: prices, dtype: float64"
      ]
     },
     "execution_count": 12,
     "metadata": {},
     "output_type": "execute_result"
    }
   ],
   "source": [
    "# data checking for prices column as we should have gotten 25 bars\n",
    "df_project['prices'].describe()"
   ]
  },
  {
   "cell_type": "code",
   "execution_count": 13,
   "id": "2d8c0a0f",
   "metadata": {},
   "outputs": [
    {
     "data": {
      "text/plain": [
       "<AxesSubplot:xlabel='prices', ylabel='prices'>"
      ]
     },
     "execution_count": 13,
     "metadata": {},
     "output_type": "execute_result"
    },
    {
     "data": {
      "image/png": "[encoded data removed]",
      "text/plain": [
       "<Figure size 432x288 with 1 Axes>"
      ]
     },
     "metadata": {
      "needs_background": "light"
     },
     "output_type": "display_data"
    }
   ],
   "source": [
    "# create scatterplot to visualize the distribution of price data points \n",
    "sns.scatterplot(x = 'prices', y = 'prices', data = df_project)\n",
    "\n",
    "# two outliers are identified, prices near 20,000 and even 100,000"
   ]
  },
  {
   "cell_type": "code",
   "execution_count": 14,
   "id": "3a59e240",
   "metadata": {
    "scrolled": true
   },
   "outputs": [
    {
     "data": {
      "text/html": [
       "<div>\n",
       "<style scoped>\n",
       "    .dataframe tbody tr th:only-of-type {\n",
       "        vertical-align: middle;\n",
       "    }\n",
       "\n",
       "    .dataframe tbody tr th {\n",
       "        vertical-align: top;\n",
       "    }\n",
       "\n",
       "    .dataframe thead th {\n",
       "        text-align: right;\n",
       "    }\n",
       "</style>\n",
       "<table border=\"1\" class=\"dataframe\">\n",
       "  <thead>\n",
       "    <tr style=\"text-align: right;\">\n",
       "      <th></th>\n",
       "      <th>order_id</th>\n",
       "      <th>user_id</th>\n",
       "      <th>order_number</th>\n",
       "      <th>order_day_of_week</th>\n",
       "      <th>order_hour_of_day</th>\n",
       "      <th>days_since_prior_order</th>\n",
       "      <th>product_id</th>\n",
       "      <th>add_to_cart_order</th>\n",
       "      <th>reordered</th>\n",
       "      <th>product_name</th>\n",
       "      <th>aisle_id</th>\n",
       "      <th>department_id</th>\n",
       "      <th>prices</th>\n",
       "      <th>_merge</th>\n",
       "      <th>price_range_loc</th>\n",
       "      <th>busiest_day</th>\n",
       "      <th>busiest_days</th>\n",
       "      <th>busiest_period_of_day</th>\n",
       "      <th>max_order</th>\n",
       "      <th>loyalty_flag</th>\n",
       "      <th>avg_price_order</th>\n",
       "      <th>spending_flag</th>\n",
       "      <th>median_freq</th>\n",
       "      <th>frequency_flag</th>\n",
       "      <th>First Name</th>\n",
       "      <th>Last Name</th>\n",
       "      <th>Gender</th>\n",
       "      <th>State</th>\n",
       "      <th>Age</th>\n",
       "      <th>date_joined</th>\n",
       "      <th>n_dependants</th>\n",
       "      <th>marital_status</th>\n",
       "      <th>income</th>\n",
       "    </tr>\n",
       "  </thead>\n",
       "  <tbody>\n",
       "    <tr>\n",
       "      <th>10030345</th>\n",
       "      <td>912404</td>\n",
       "      <td>17</td>\n",
       "      <td>12</td>\n",
       "      <td>2</td>\n",
       "      <td>14</td>\n",
       "      <td>5.0</td>\n",
       "      <td>21553</td>\n",
       "      <td>5</td>\n",
       "      <td>0</td>\n",
       "      <td>Lowfat 2% Milkfat Cottage Cheese</td>\n",
       "      <td>108</td>\n",
       "      <td>16</td>\n",
       "      <td>14900.0</td>\n",
       "      <td>both</td>\n",
       "      <td>Higher-range product</td>\n",
       "      <td>Regularly busy</td>\n",
       "      <td>Regular busy days</td>\n",
       "      <td>Most orders</td>\n",
       "      <td>40</td>\n",
       "      <td>Regular customer</td>\n",
       "      <td>108.648299</td>\n",
       "      <td>High spender</td>\n",
       "      <td>5.0</td>\n",
       "      <td>Frequent customer</td>\n",
       "      <td>Barbara</td>\n",
       "      <td>Chang</td>\n",
       "      <td>Female</td>\n",
       "      <td>Kansas</td>\n",
       "      <td>39</td>\n",
       "      <td>9/16/2018</td>\n",
       "      <td>3</td>\n",
       "      <td>married</td>\n",
       "      <td>150659</td>\n",
       "    </tr>\n",
       "    <tr>\n",
       "      <th>10030346</th>\n",
       "      <td>603376</td>\n",
       "      <td>17</td>\n",
       "      <td>22</td>\n",
       "      <td>6</td>\n",
       "      <td>16</td>\n",
       "      <td>4.0</td>\n",
       "      <td>21553</td>\n",
       "      <td>3</td>\n",
       "      <td>1</td>\n",
       "      <td>Lowfat 2% Milkfat Cottage Cheese</td>\n",
       "      <td>108</td>\n",
       "      <td>16</td>\n",
       "      <td>14900.0</td>\n",
       "      <td>both</td>\n",
       "      <td>Higher-range product</td>\n",
       "      <td>Regularly busy</td>\n",
       "      <td>Regular busy days</td>\n",
       "      <td>Most orders</td>\n",
       "      <td>40</td>\n",
       "      <td>Regular customer</td>\n",
       "      <td>108.648299</td>\n",
       "      <td>High spender</td>\n",
       "      <td>5.0</td>\n",
       "      <td>Frequent customer</td>\n",
       "      <td>Barbara</td>\n",
       "      <td>Chang</td>\n",
       "      <td>Female</td>\n",
       "      <td>Kansas</td>\n",
       "      <td>39</td>\n",
       "      <td>9/16/2018</td>\n",
       "      <td>3</td>\n",
       "      <td>married</td>\n",
       "      <td>150659</td>\n",
       "    </tr>\n",
       "    <tr>\n",
       "      <th>10030347</th>\n",
       "      <td>3264360</td>\n",
       "      <td>135</td>\n",
       "      <td>2</td>\n",
       "      <td>2</td>\n",
       "      <td>21</td>\n",
       "      <td>13.0</td>\n",
       "      <td>21553</td>\n",
       "      <td>6</td>\n",
       "      <td>0</td>\n",
       "      <td>Lowfat 2% Milkfat Cottage Cheese</td>\n",
       "      <td>108</td>\n",
       "      <td>16</td>\n",
       "      <td>14900.0</td>\n",
       "      <td>both</td>\n",
       "      <td>Higher-range product</td>\n",
       "      <td>Regularly busy</td>\n",
       "      <td>Regular busy days</td>\n",
       "      <td>Average orders</td>\n",
       "      <td>4</td>\n",
       "      <td>New customer</td>\n",
       "      <td>1154.792308</td>\n",
       "      <td>High spender</td>\n",
       "      <td>12.0</td>\n",
       "      <td>Regular customer</td>\n",
       "      <td>nan</td>\n",
       "      <td>Chen</td>\n",
       "      <td>Female</td>\n",
       "      <td>Maryland</td>\n",
       "      <td>30</td>\n",
       "      <td>3/19/2017</td>\n",
       "      <td>3</td>\n",
       "      <td>married</td>\n",
       "      <td>120635</td>\n",
       "    </tr>\n",
       "    <tr>\n",
       "      <th>10030348</th>\n",
       "      <td>892534</td>\n",
       "      <td>135</td>\n",
       "      <td>3</td>\n",
       "      <td>0</td>\n",
       "      <td>8</td>\n",
       "      <td>12.0</td>\n",
       "      <td>21553</td>\n",
       "      <td>3</td>\n",
       "      <td>1</td>\n",
       "      <td>Lowfat 2% Milkfat Cottage Cheese</td>\n",
       "      <td>108</td>\n",
       "      <td>16</td>\n",
       "      <td>14900.0</td>\n",
       "      <td>both</td>\n",
       "      <td>Higher-range product</td>\n",
       "      <td>Busiest day</td>\n",
       "      <td>Busiest days</td>\n",
       "      <td>Average orders</td>\n",
       "      <td>4</td>\n",
       "      <td>New customer</td>\n",
       "      <td>1154.792308</td>\n",
       "      <td>High spender</td>\n",
       "      <td>12.0</td>\n",
       "      <td>Regular customer</td>\n",
       "      <td>nan</td>\n",
       "      <td>Chen</td>\n",
       "      <td>Female</td>\n",
       "      <td>Maryland</td>\n",
       "      <td>30</td>\n",
       "      <td>3/19/2017</td>\n",
       "      <td>3</td>\n",
       "      <td>married</td>\n",
       "      <td>120635</td>\n",
       "    </tr>\n",
       "    <tr>\n",
       "      <th>10030349</th>\n",
       "      <td>229704</td>\n",
       "      <td>342</td>\n",
       "      <td>8</td>\n",
       "      <td>1</td>\n",
       "      <td>19</td>\n",
       "      <td>30.0</td>\n",
       "      <td>21553</td>\n",
       "      <td>9</td>\n",
       "      <td>0</td>\n",
       "      <td>Lowfat 2% Milkfat Cottage Cheese</td>\n",
       "      <td>108</td>\n",
       "      <td>16</td>\n",
       "      <td>14900.0</td>\n",
       "      <td>both</td>\n",
       "      <td>Higher-range product</td>\n",
       "      <td>Regularly busy</td>\n",
       "      <td>Busiest days</td>\n",
       "      <td>Average orders</td>\n",
       "      <td>16</td>\n",
       "      <td>Regular customer</td>\n",
       "      <td>114.426619</td>\n",
       "      <td>High spender</td>\n",
       "      <td>23.0</td>\n",
       "      <td>Non-frequent customer</td>\n",
       "      <td>Ruby</td>\n",
       "      <td>Bates</td>\n",
       "      <td>Female</td>\n",
       "      <td>Minnesota</td>\n",
       "      <td>56</td>\n",
       "      <td>8/23/2018</td>\n",
       "      <td>2</td>\n",
       "      <td>married</td>\n",
       "      <td>187328</td>\n",
       "    </tr>\n",
       "    <tr>\n",
       "      <th>...</th>\n",
       "      <td>...</td>\n",
       "      <td>...</td>\n",
       "      <td>...</td>\n",
       "      <td>...</td>\n",
       "      <td>...</td>\n",
       "      <td>...</td>\n",
       "      <td>...</td>\n",
       "      <td>...</td>\n",
       "      <td>...</td>\n",
       "      <td>...</td>\n",
       "      <td>...</td>\n",
       "      <td>...</td>\n",
       "      <td>...</td>\n",
       "      <td>...</td>\n",
       "      <td>...</td>\n",
       "      <td>...</td>\n",
       "      <td>...</td>\n",
       "      <td>...</td>\n",
       "      <td>...</td>\n",
       "      <td>...</td>\n",
       "      <td>...</td>\n",
       "      <td>...</td>\n",
       "      <td>...</td>\n",
       "      <td>...</td>\n",
       "      <td>...</td>\n",
       "      <td>...</td>\n",
       "      <td>...</td>\n",
       "      <td>...</td>\n",
       "      <td>...</td>\n",
       "      <td>...</td>\n",
       "      <td>...</td>\n",
       "      <td>...</td>\n",
       "      <td>...</td>\n",
       "    </tr>\n",
       "    <tr>\n",
       "      <th>29166209</th>\n",
       "      <td>2249946</td>\n",
       "      <td>204099</td>\n",
       "      <td>29</td>\n",
       "      <td>0</td>\n",
       "      <td>8</td>\n",
       "      <td>4.0</td>\n",
       "      <td>33664</td>\n",
       "      <td>1</td>\n",
       "      <td>0</td>\n",
       "      <td>2 % Reduced Fat  Milk</td>\n",
       "      <td>84</td>\n",
       "      <td>16</td>\n",
       "      <td>99999.0</td>\n",
       "      <td>both</td>\n",
       "      <td>Higher-range product</td>\n",
       "      <td>Busiest day</td>\n",
       "      <td>Busiest days</td>\n",
       "      <td>Average orders</td>\n",
       "      <td>39</td>\n",
       "      <td>Regular customer</td>\n",
       "      <td>1106.743956</td>\n",
       "      <td>High spender</td>\n",
       "      <td>4.0</td>\n",
       "      <td>Frequent customer</td>\n",
       "      <td>Gary</td>\n",
       "      <td>Wilson</td>\n",
       "      <td>Male</td>\n",
       "      <td>Washington</td>\n",
       "      <td>48</td>\n",
       "      <td>9/8/2019</td>\n",
       "      <td>3</td>\n",
       "      <td>married</td>\n",
       "      <td>536156</td>\n",
       "    </tr>\n",
       "    <tr>\n",
       "      <th>29166210</th>\n",
       "      <td>2363282</td>\n",
       "      <td>204099</td>\n",
       "      <td>31</td>\n",
       "      <td>0</td>\n",
       "      <td>9</td>\n",
       "      <td>2.0</td>\n",
       "      <td>33664</td>\n",
       "      <td>1</td>\n",
       "      <td>1</td>\n",
       "      <td>2 % Reduced Fat  Milk</td>\n",
       "      <td>84</td>\n",
       "      <td>16</td>\n",
       "      <td>99999.0</td>\n",
       "      <td>both</td>\n",
       "      <td>Higher-range product</td>\n",
       "      <td>Busiest day</td>\n",
       "      <td>Busiest days</td>\n",
       "      <td>Most orders</td>\n",
       "      <td>39</td>\n",
       "      <td>Regular customer</td>\n",
       "      <td>1106.743956</td>\n",
       "      <td>High spender</td>\n",
       "      <td>4.0</td>\n",
       "      <td>Frequent customer</td>\n",
       "      <td>Gary</td>\n",
       "      <td>Wilson</td>\n",
       "      <td>Male</td>\n",
       "      <td>Washington</td>\n",
       "      <td>48</td>\n",
       "      <td>9/8/2019</td>\n",
       "      <td>3</td>\n",
       "      <td>married</td>\n",
       "      <td>536156</td>\n",
       "    </tr>\n",
       "    <tr>\n",
       "      <th>29166211</th>\n",
       "      <td>3181945</td>\n",
       "      <td>204395</td>\n",
       "      <td>13</td>\n",
       "      <td>3</td>\n",
       "      <td>15</td>\n",
       "      <td>8.0</td>\n",
       "      <td>33664</td>\n",
       "      <td>25</td>\n",
       "      <td>0</td>\n",
       "      <td>2 % Reduced Fat  Milk</td>\n",
       "      <td>84</td>\n",
       "      <td>16</td>\n",
       "      <td>99999.0</td>\n",
       "      <td>both</td>\n",
       "      <td>Higher-range product</td>\n",
       "      <td>Regularly busy</td>\n",
       "      <td>Slowest days</td>\n",
       "      <td>Most orders</td>\n",
       "      <td>15</td>\n",
       "      <td>Regular customer</td>\n",
       "      <td>451.153540</td>\n",
       "      <td>High spender</td>\n",
       "      <td>5.0</td>\n",
       "      <td>Frequent customer</td>\n",
       "      <td>Shirley</td>\n",
       "      <td>Ellis</td>\n",
       "      <td>Female</td>\n",
       "      <td>Missouri</td>\n",
       "      <td>78</td>\n",
       "      <td>11/9/2019</td>\n",
       "      <td>3</td>\n",
       "      <td>married</td>\n",
       "      <td>137004</td>\n",
       "    </tr>\n",
       "    <tr>\n",
       "      <th>29166212</th>\n",
       "      <td>2486215</td>\n",
       "      <td>205227</td>\n",
       "      <td>7</td>\n",
       "      <td>3</td>\n",
       "      <td>20</td>\n",
       "      <td>4.0</td>\n",
       "      <td>33664</td>\n",
       "      <td>8</td>\n",
       "      <td>0</td>\n",
       "      <td>2 % Reduced Fat  Milk</td>\n",
       "      <td>84</td>\n",
       "      <td>16</td>\n",
       "      <td>99999.0</td>\n",
       "      <td>both</td>\n",
       "      <td>Higher-range product</td>\n",
       "      <td>Regularly busy</td>\n",
       "      <td>Slowest days</td>\n",
       "      <td>Average orders</td>\n",
       "      <td>12</td>\n",
       "      <td>Regular customer</td>\n",
       "      <td>1178.381871</td>\n",
       "      <td>High spender</td>\n",
       "      <td>12.0</td>\n",
       "      <td>Regular customer</td>\n",
       "      <td>Victor</td>\n",
       "      <td>Rivers</td>\n",
       "      <td>Male</td>\n",
       "      <td>Arizona</td>\n",
       "      <td>78</td>\n",
       "      <td>8/9/2018</td>\n",
       "      <td>3</td>\n",
       "      <td>married</td>\n",
       "      <td>294898</td>\n",
       "    </tr>\n",
       "    <tr>\n",
       "      <th>29166213</th>\n",
       "      <td>2232716</td>\n",
       "      <td>205227</td>\n",
       "      <td>10</td>\n",
       "      <td>0</td>\n",
       "      <td>11</td>\n",
       "      <td>4.0</td>\n",
       "      <td>33664</td>\n",
       "      <td>23</td>\n",
       "      <td>1</td>\n",
       "      <td>2 % Reduced Fat  Milk</td>\n",
       "      <td>84</td>\n",
       "      <td>16</td>\n",
       "      <td>99999.0</td>\n",
       "      <td>both</td>\n",
       "      <td>Higher-range product</td>\n",
       "      <td>Busiest day</td>\n",
       "      <td>Busiest days</td>\n",
       "      <td>Most orders</td>\n",
       "      <td>12</td>\n",
       "      <td>Regular customer</td>\n",
       "      <td>1178.381871</td>\n",
       "      <td>High spender</td>\n",
       "      <td>12.0</td>\n",
       "      <td>Regular customer</td>\n",
       "      <td>Victor</td>\n",
       "      <td>Rivers</td>\n",
       "      <td>Male</td>\n",
       "      <td>Arizona</td>\n",
       "      <td>78</td>\n",
       "      <td>8/9/2018</td>\n",
       "      <td>3</td>\n",
       "      <td>married</td>\n",
       "      <td>294898</td>\n",
       "    </tr>\n",
       "  </tbody>\n",
       "</table>\n",
       "<p>5127 rows × 33 columns</p>\n",
       "</div>"
      ],
      "text/plain": [
       "          order_id user_id  order_number  order_day_of_week  \\\n",
       "10030345    912404      17            12                  2   \n",
       "10030346    603376      17            22                  6   \n",
       "10030347   3264360     135             2                  2   \n",
       "10030348    892534     135             3                  0   \n",
       "10030349    229704     342             8                  1   \n",
       "...            ...     ...           ...                ...   \n",
       "29166209   2249946  204099            29                  0   \n",
       "29166210   2363282  204099            31                  0   \n",
       "29166211   3181945  204395            13                  3   \n",
       "29166212   2486215  205227             7                  3   \n",
       "29166213   2232716  205227            10                  0   \n",
       "\n",
       "          order_hour_of_day  days_since_prior_order  product_id  \\\n",
       "10030345                 14                     5.0       21553   \n",
       "10030346                 16                     4.0       21553   \n",
       "10030347                 21                    13.0       21553   \n",
       "10030348                  8                    12.0       21553   \n",
       "10030349                 19                    30.0       21553   \n",
       "...                     ...                     ...         ...   \n",
       "29166209                  8                     4.0       33664   \n",
       "29166210                  9                     2.0       33664   \n",
       "29166211                 15                     8.0       33664   \n",
       "29166212                 20                     4.0       33664   \n",
       "29166213                 11                     4.0       33664   \n",
       "\n",
       "          add_to_cart_order  reordered                      product_name  \\\n",
       "10030345                  5          0  Lowfat 2% Milkfat Cottage Cheese   \n",
       "10030346                  3          1  Lowfat 2% Milkfat Cottage Cheese   \n",
       "10030347                  6          0  Lowfat 2% Milkfat Cottage Cheese   \n",
       "10030348                  3          1  Lowfat 2% Milkfat Cottage Cheese   \n",
       "10030349                  9          0  Lowfat 2% Milkfat Cottage Cheese   \n",
       "...                     ...        ...                               ...   \n",
       "29166209                  1          0             2 % Reduced Fat  Milk   \n",
       "29166210                  1          1             2 % Reduced Fat  Milk   \n",
       "29166211                 25          0             2 % Reduced Fat  Milk   \n",
       "29166212                  8          0             2 % Reduced Fat  Milk   \n",
       "29166213                 23          1             2 % Reduced Fat  Milk   \n",
       "\n",
       "          aisle_id  department_id   prices _merge       price_range_loc  \\\n",
       "10030345       108             16  14900.0   both  Higher-range product   \n",
       "10030346       108             16  14900.0   both  Higher-range product   \n",
       "10030347       108             16  14900.0   both  Higher-range product   \n",
       "10030348       108             16  14900.0   both  Higher-range product   \n",
       "10030349       108             16  14900.0   both  Higher-range product   \n",
       "...            ...            ...      ...    ...                   ...   \n",
       "29166209        84             16  99999.0   both  Higher-range product   \n",
       "29166210        84             16  99999.0   both  Higher-range product   \n",
       "29166211        84             16  99999.0   both  Higher-range product   \n",
       "29166212        84             16  99999.0   both  Higher-range product   \n",
       "29166213        84             16  99999.0   both  Higher-range product   \n",
       "\n",
       "             busiest_day       busiest_days busiest_period_of_day  max_order  \\\n",
       "10030345  Regularly busy  Regular busy days           Most orders         40   \n",
       "10030346  Regularly busy  Regular busy days           Most orders         40   \n",
       "10030347  Regularly busy  Regular busy days        Average orders          4   \n",
       "10030348     Busiest day       Busiest days        Average orders          4   \n",
       "10030349  Regularly busy       Busiest days        Average orders         16   \n",
       "...                  ...                ...                   ...        ...   \n",
       "29166209     Busiest day       Busiest days        Average orders         39   \n",
       "29166210     Busiest day       Busiest days           Most orders         39   \n",
       "29166211  Regularly busy       Slowest days           Most orders         15   \n",
       "29166212  Regularly busy       Slowest days        Average orders         12   \n",
       "29166213     Busiest day       Busiest days           Most orders         12   \n",
       "\n",
       "              loyalty_flag  avg_price_order spending_flag  median_freq  \\\n",
       "10030345  Regular customer       108.648299  High spender          5.0   \n",
       "10030346  Regular customer       108.648299  High spender          5.0   \n",
       "10030347      New customer      1154.792308  High spender         12.0   \n",
       "10030348      New customer      1154.792308  High spender         12.0   \n",
       "10030349  Regular customer       114.426619  High spender         23.0   \n",
       "...                    ...              ...           ...          ...   \n",
       "29166209  Regular customer      1106.743956  High spender          4.0   \n",
       "29166210  Regular customer      1106.743956  High spender          4.0   \n",
       "29166211  Regular customer       451.153540  High spender          5.0   \n",
       "29166212  Regular customer      1178.381871  High spender         12.0   \n",
       "29166213  Regular customer      1178.381871  High spender         12.0   \n",
       "\n",
       "                 frequency_flag First Name Last Name  Gender       State  Age  \\\n",
       "10030345      Frequent customer    Barbara     Chang  Female      Kansas   39   \n",
       "10030346      Frequent customer    Barbara     Chang  Female      Kansas   39   \n",
       "10030347       Regular customer        nan      Chen  Female    Maryland   30   \n",
       "10030348       Regular customer        nan      Chen  Female    Maryland   30   \n",
       "10030349  Non-frequent customer       Ruby     Bates  Female   Minnesota   56   \n",
       "...                         ...        ...       ...     ...         ...  ...   \n",
       "29166209      Frequent customer       Gary    Wilson    Male  Washington   48   \n",
       "29166210      Frequent customer       Gary    Wilson    Male  Washington   48   \n",
       "29166211      Frequent customer    Shirley     Ellis  Female    Missouri   78   \n",
       "29166212       Regular customer     Victor    Rivers    Male     Arizona   78   \n",
       "29166213       Regular customer     Victor    Rivers    Male     Arizona   78   \n",
       "\n",
       "         date_joined  n_dependants marital_status  income  \n",
       "10030345   9/16/2018             3        married  150659  \n",
       "10030346   9/16/2018             3        married  150659  \n",
       "10030347   3/19/2017             3        married  120635  \n",
       "10030348   3/19/2017             3        married  120635  \n",
       "10030349   8/23/2018             2        married  187328  \n",
       "...              ...           ...            ...     ...  \n",
       "29166209    9/8/2019             3        married  536156  \n",
       "29166210    9/8/2019             3        married  536156  \n",
       "29166211   11/9/2019             3        married  137004  \n",
       "29166212    8/9/2018             3        married  294898  \n",
       "29166213    8/9/2018             3        married  294898  \n",
       "\n",
       "[5127 rows x 33 columns]"
      ]
     },
     "execution_count": 14,
     "metadata": {},
     "output_type": "execute_result"
    }
   ],
   "source": [
    "# run exploratory checks\n",
    "df_project.loc[df_project['prices'] > 100]"
   ]
  },
  {
   "cell_type": "code",
   "execution_count": 15,
   "id": "d3a27b2d",
   "metadata": {},
   "outputs": [],
   "source": [
    "# mark these data as missing by turning into NaNs\n",
    "df_project.loc[df_project['prices']>100, 'prices'] = np.nan"
   ]
  },
  {
   "cell_type": "code",
   "execution_count": 17,
   "id": "861b5fa5",
   "metadata": {},
   "outputs": [
    {
     "data": {
      "text/plain": [
       "count    3.239973e+07\n",
       "mean     7.790994e+00\n",
       "std      4.241809e+00\n",
       "min      1.000000e+00\n",
       "25%      4.200000e+00\n",
       "50%      7.400000e+00\n",
       "75%      1.130000e+01\n",
       "max      2.500000e+01\n",
       "Name: prices, dtype: float64"
      ]
     },
     "execution_count": 17,
     "metadata": {},
     "output_type": "execute_result"
    }
   ],
   "source": [
    "# check\n",
    "df_project['prices'].describe()"
   ]
  },
  {
   "cell_type": "code",
   "execution_count": 58,
   "id": "51296b49",
   "metadata": {},
   "outputs": [],
   "source": [
    "# export the project file\n",
    "df_project.to_pickle(os.path.join(path, '02 Data', 'Prepared Data', 'project_file.pkl'))"
   ]
  },
  {
   "cell_type": "code",
   "execution_count": 19,
   "id": "edaaffe9",
   "metadata": {},
   "outputs": [
    {
     "data": {
      "image/png": "[encoded data removed]",
      "text/plain": [
       "<Figure size 432x288 with 1 Axes>"
      ]
     },
     "metadata": {
      "needs_background": "light"
     },
     "output_type": "display_data"
    }
   ],
   "source": [
    "# create the histogram\n",
    "hist = df_project['prices'].plot.hist(bins=25)"
   ]
  },
  {
   "cell_type": "markdown",
   "id": "de76d7f4",
   "metadata": {},
   "source": [
    "## Line Chart"
   ]
  },
  {
   "cell_type": "code",
   "execution_count": 20,
   "id": "f7ec16b9",
   "metadata": {},
   "outputs": [],
   "source": [
    "# sample data, using 70/30 split\n",
    "\n",
    "# set the seed for the random number generator\n",
    "np.random.seed(4)"
   ]
  },
  {
   "cell_type": "code",
   "execution_count": 22,
   "id": "8fe59531",
   "metadata": {},
   "outputs": [],
   "source": [
    "# generate random numbers for each row and check the condition (test = np.random.rand()<=0.7)\n",
    "new_list = np.random.rand(len(df_project)) <= 0.7"
   ]
  },
  {
   "cell_type": "code",
   "execution_count": 24,
   "id": "0080211b",
   "metadata": {},
   "outputs": [],
   "source": [
    "# create a dataframe big with generated new_list\n",
    "big = df_project[new_list]"
   ]
  },
  {
   "cell_type": "code",
   "execution_count": 26,
   "id": "9909f8a6",
   "metadata": {},
   "outputs": [],
   "source": [
    "# store 30% of the sample in the dataframe small\n",
    "small = df_project[~new_list]"
   ]
  },
  {
   "cell_type": "code",
   "execution_count": 29,
   "id": "c56bfb5a",
   "metadata": {},
   "outputs": [],
   "source": [
    "# reduce the samples to only those necessary columns\n",
    "df_sample = small[['order_day_of_week', 'prices']]"
   ]
  },
  {
   "cell_type": "code",
   "execution_count": 31,
   "id": "2be8447a",
   "metadata": {},
   "outputs": [
    {
     "data": {
      "image/png": "[encoded data removed]",
      "text/plain": [
       "<Figure size 432x288 with 1 Axes>"
      ]
     },
     "metadata": {
      "needs_background": "light"
     },
     "output_type": "display_data"
    }
   ],
   "source": [
    "# create line chart\n",
    "line = sns.lineplot(data = df_sample, x ='order_day_of_week', y ='prices')"
   ]
  },
  {
   "cell_type": "markdown",
   "id": "128f3977",
   "metadata": {},
   "source": [
    "# Q3: You need to provide the Instacart senior stakeholders with descriptive findings about sales. Create a histogram of the “order_hour_of_day” column.\n"
   ]
  },
  {
   "cell_type": "code",
   "execution_count": 33,
   "id": "9b089b10",
   "metadata": {
    "scrolled": true
   },
   "outputs": [
    {
     "data": {
      "image/png": "[encoded data removed]",
      "text/plain": [
       "<Figure size 432x288 with 1 Axes>"
      ]
     },
     "metadata": {
      "needs_background": "light"
     },
     "output_type": "display_data"
    }
   ],
   "source": [
    "# create a histogram with bins = 24\n",
    "hist_order = df_project['order_hour_of_day'].plot.hist(bins = 24)"
   ]
  },
  {
   "cell_type": "markdown",
   "id": "57723cc8",
   "metadata": {},
   "source": [
    "The histogram shows the frequency of purchases at different times of the day. Histogram distributions are left skewed by a relatively small order past midnight to early morning, peaking between 9am to 4pm."
   ]
  },
  {
   "cell_type": "code",
   "execution_count": 38,
   "id": "19c0d0c6",
   "metadata": {},
   "outputs": [],
   "source": [
    "# export the histogram\n",
    "hist_order.figure.savefig(os.path.join(path, '04 Analysis', 'Visualizations', 'hist_orders_hod.png'))"
   ]
  },
  {
   "cell_type": "markdown",
   "id": "e3ea51e9",
   "metadata": {},
   "source": [
    "# Q4: The marketing team is curious about the distribution of orders among customers in terms of loyalty. Create a bar chart from the “loyalty_flag” column."
   ]
  },
  {
   "cell_type": "code",
   "execution_count": 39,
   "id": "85d49346",
   "metadata": {},
   "outputs": [
    {
     "data": {
      "image/png": "[encoded data removed]",
      "text/plain": [
       "<Figure size 432x288 with 1 Axes>"
      ]
     },
     "metadata": {
      "needs_background": "light"
     },
     "output_type": "display_data"
    }
   ],
   "source": [
    "# create a bar chart from \"loyalty flag\"\n",
    "bar_loyalty = df_project['loyalty_flag'].value_counts().plot.bar()"
   ]
  },
  {
   "cell_type": "raw",
   "id": "86a01fb9",
   "metadata": {},
   "source": [
    "The bar chart shows the number of regular, loyal, and new customers using loyalty flag data. Regular customers account for the highest number of customers, while new customers account for the lowest number."
   ]
  },
  {
   "cell_type": "code",
   "execution_count": 40,
   "id": "c952ba0a",
   "metadata": {},
   "outputs": [],
   "source": [
    "# export the bar chart\n",
    "bar_loyalty.figure.savefig(os.path.join(path, '04 Analysis', 'Visualizations', 'bar_loyalty.png'))"
   ]
  },
  {
   "cell_type": "markdown",
   "id": "3eae6acb",
   "metadata": {},
   "source": [
    "# Q5: Check whether there’s a difference in expenditure (the “prices” column) depending on the hour of the day. (Hint: To check this, you need to use an accurate sample for your line chart!)"
   ]
  },
  {
   "cell_type": "code",
   "execution_count": 41,
   "id": "d6197d11",
   "metadata": {},
   "outputs": [],
   "source": [
    "# sample data using 70/30 split\n",
    "\n",
    "# set the seed for the random number generator\n",
    "np.random.seed(4)"
   ]
  },
  {
   "cell_type": "code",
   "execution_count": 43,
   "id": "6a70e636",
   "metadata": {},
   "outputs": [],
   "source": [
    "# generate random numbers for each row and check the condition (test = np.random.rand()<=0.7)\n",
    "list = np.random.rand(len(df_project)) <= 0.7"
   ]
  },
  {
   "cell_type": "code",
   "execution_count": 44,
   "id": "82453702",
   "metadata": {},
   "outputs": [],
   "source": [
    "# create a dataframe with generated list \n",
    "df_70 = df_project[list]"
   ]
  },
  {
   "cell_type": "code",
   "execution_count": 45,
   "id": "24e18437",
   "metadata": {},
   "outputs": [],
   "source": [
    "# create a dataframe to store the 30% of the sample\n",
    "df_30 = df_project[~list]"
   ]
  },
  {
   "cell_type": "code",
   "execution_count": 46,
   "id": "ff5cc44c",
   "metadata": {},
   "outputs": [
    {
     "data": {
      "text/plain": [
       "32404859"
      ]
     },
     "execution_count": 46,
     "metadata": {},
     "output_type": "execute_result"
    }
   ],
   "source": [
    "# check the length of the dataframe\n",
    "len(df_project)"
   ]
  },
  {
   "cell_type": "code",
   "execution_count": 47,
   "id": "d9d2a068",
   "metadata": {},
   "outputs": [
    {
     "data": {
      "text/plain": [
       "32404859"
      ]
     },
     "execution_count": 47,
     "metadata": {},
     "output_type": "execute_result"
    }
   ],
   "source": [
    "# check the length of df_70 and df_30\n",
    "len(df_70) + len (df_30)"
   ]
  },
  {
   "cell_type": "code",
   "execution_count": 49,
   "id": "840dc4dc",
   "metadata": {},
   "outputs": [],
   "source": [
    "# reduce the sample only to necessary column\n",
    "df_30_reduced = df_30[['prices', 'order_hour_of_day']]"
   ]
  },
  {
   "cell_type": "code",
   "execution_count": 51,
   "id": "0cd25e3e",
   "metadata": {},
   "outputs": [
    {
     "data": {
      "image/png": "[encoded data removed]",
      "text/plain": [
       "<Figure size 432x288 with 1 Axes>"
      ]
     },
     "metadata": {
      "needs_background": "light"
     },
     "output_type": "display_data"
    }
   ],
   "source": [
    "# create a line chart\n",
    "line_prices = sns.lineplot(data = df_30_reduced, x='order_hour_of_day', y='prices')"
   ]
  },
  {
   "cell_type": "code",
   "execution_count": 52,
   "id": "a41195ea",
   "metadata": {},
   "outputs": [
    {
     "data": {
      "image/png": "[encoded data removed]",
      "text/plain": [
       "<Figure size 432x288 with 1 Axes>"
      ]
     },
     "metadata": {
      "needs_background": "light"
     },
     "output_type": "display_data"
    }
   ],
   "source": [
    "# create a line chart from entire dataframe to compare\n",
    "df_reduced = df_project[['prices', 'order_hour_of_day']]\n",
    "line_prices_entiredf = sns.lineplot(data = df_reduced, x='order_hour_of_day', y ='prices')"
   ]
  },
  {
   "cell_type": "markdown",
   "id": "6a482b3e",
   "metadata": {},
   "source": [
    "The shape of entire dataframe differs slightly from the line chart of the sample, but it shows the same fluctuation pattern. We can see from the line chart that expenditures fluctuate with the hours of the day. We can see that the expenditures increase after midnight (1-4am) and then decrease until 10am, when they increase again and stabilize from 3pm to midnight time."
   ]
  },
  {
   "cell_type": "code",
   "execution_count": 53,
   "id": "6ca4a1c0",
   "metadata": {},
   "outputs": [],
   "source": [
    "# export the line chart\n",
    "line_prices.figure.savefig(os.path.join(path, '04 Analysis', 'Visualizations', 'line_prices_hod.png'))"
   ]
  },
  {
   "cell_type": "markdown",
   "id": "b3a9daa9",
   "metadata": {},
   "source": [
    "# Q6: Now that you have information about customers, you need to conduct some exploratory analysis of customer demographics to inform the targeted marketing campaigns. First, determine whether there’s a connection between age and family situation by creating a line chart exploring the connections between age and number of dependents:"
   ]
  },
  {
   "cell_type": "code",
   "execution_count": 56,
   "id": "3bc619f1",
   "metadata": {},
   "outputs": [
    {
     "data": {
      "image/png": "[encoded data removed]",
      "text/plain": [
       "<Figure size 432x288 with 1 Axes>"
      ]
     },
     "metadata": {
      "needs_background": "light"
     },
     "output_type": "display_data"
    }
   ],
   "source": [
    "# create a line chart from small sample df_30\n",
    "df_30_age_nod = df_30[['Age', 'n_dependants']]\n",
    "line_age_nod = sns.lineplot(data = df_30_age_nod, x='Age', y='n_dependants')"
   ]
  },
  {
   "cell_type": "markdown",
   "id": "69a4df91",
   "metadata": {},
   "source": [
    "No clear relationship is observed as the chart fluctuates without any visible pattern or trend. This may be due to the variability in the number of dependants at different age levels, which may be influenced by other factors beyond age, for example income level"
   ]
  },
  {
   "cell_type": "code",
   "execution_count": 57,
   "id": "d4eb9d1f",
   "metadata": {},
   "outputs": [],
   "source": [
    "# export the chart\n",
    "line_age_nod.figure.savefig(os.path.join(path, '04 Analysis', 'Visualizations', 'line_age_nod.png'))"
   ]
  },
  {
   "cell_type": "markdown",
   "id": "6d4b5a59",
   "metadata": {},
   "source": [
    "# Q7: You’ll also need to explore whether there’s a connection between age and spending power (income). To visualize this relationship, create a scatterplot using the sns.scatterplot() function."
   ]
  },
  {
   "cell_type": "code",
   "execution_count": 63,
   "id": "3ea798b3",
   "metadata": {},
   "outputs": [
    {
     "data": {
      "text/plain": [
       "count    3.240486e+07\n",
       "mean     9.943773e+04\n",
       "std      4.305727e+04\n",
       "min      2.590300e+04\n",
       "25%      6.700400e+04\n",
       "50%      9.661800e+04\n",
       "75%      1.279120e+05\n",
       "max      5.939010e+05\n",
       "Name: income, dtype: float64"
      ]
     },
     "execution_count": 63,
     "metadata": {},
     "output_type": "execute_result"
    }
   ],
   "source": [
    "df_project['income'].describe()"
   ]
  },
  {
   "cell_type": "code",
   "execution_count": 61,
   "id": "5e5d91fb",
   "metadata": {},
   "outputs": [
    {
     "data": {
      "image/png": "[encoded data removed]",
      "text/plain": [
       "<Figure size 432x288 with 1 Axes>"
      ]
     },
     "metadata": {
      "needs_background": "light"
     },
     "output_type": "display_data"
    }
   ],
   "source": [
    "# create scatterplot to visualize the relationship between age and spending power\n",
    "scatter_income = sns.scatterplot(x = 'Age', y = 'income', data = df_project)"
   ]
  },
  {
   "cell_type": "markdown",
   "id": "7200ecd3",
   "metadata": {},
   "source": [
    "There is a potential positive correlation betwen age and income in the above scatterplot. However, the presence of outliers, or individuals with exceptionally high income, is observed across different age groups.\n",
    "\n",
    "From age 20-40, incomes clustered between 25-200K, and then spread out between 200-400K, showing a few outliers with higher incomes than general population of the same age group. \n",
    "\n",
    "Between age 40-80, income clusters between 25-300K (the upper income limit increases) and then spreads out from $300-600K, indicating individuals with higher income."
   ]
  },
  {
   "cell_type": "code",
   "execution_count": 62,
   "id": "87df92bc",
   "metadata": {},
   "outputs": [],
   "source": [
    "# export the scatterplot\n",
    "scatter_income.figure.savefig(os.path.join(path, '04 Analysis', 'Visualizations', 'scatter_income.png'))"
   ]
  }
 ],
 "metadata": {
  "kernelspec": {
   "display_name": "Python 3 (ipykernel)",
   "language": "python",
   "name": "python3"
  },
  "language_info": {
   "codemirror_mode": {
    "name": "ipython",
    "version": 3
   },
   "file_extension": ".py",
   "mimetype": "text/x-python",
   "name": "python",
   "nbconvert_exporter": "python",
   "pygments_lexer": "ipython3",
   "version": "3.10.9"
  }
 },
 "nbformat": 4,
 "nbformat_minor": 5
}
