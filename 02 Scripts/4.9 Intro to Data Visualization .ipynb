{
 "cells": [
  {
   "cell_type": "markdown",
   "id": "42918283",
   "metadata": {},
   "source": [
    "# 01. Import Libraries"
   ]
  },
  {
   "cell_type": "code",
   "execution_count": 2,
   "id": "4729cbd0",
   "metadata": {},
   "outputs": [],
   "source": [
    "import pandas as pd\n",
    "import numpy as np\n",
    "import os\n",
    "import matplotlib.pyplot as plt\n",
    "import seaborn as sns\n",
    "import scipy"
   ]
  },
  {
   "cell_type": "markdown",
   "id": "7c76b74f",
   "metadata": {},
   "source": [
    "# 02. Import Data"
   ]
  },
  {
   "cell_type": "code",
   "execution_count": 4,
   "id": "f4c11e46",
   "metadata": {},
   "outputs": [],
   "source": [
    "# path folder\n",
    "path = r'/Users/lavinia/Documents/04-2020 Instacart Basket Analysis'"
   ]
  },
  {
   "cell_type": "code",
   "execution_count": 5,
   "id": "47feca0b",
   "metadata": {},
   "outputs": [],
   "source": [
    "# import orders_products_merged_updated\n",
    "ords_prods_merge = pd.read_pickle(os.path.join(path, '02 Data', 'Prepared Data', 'orders_products_merged_updated_v2.pkl'))"
   ]
  },
  {
   "cell_type": "markdown",
   "id": "5a70e157",
   "metadata": {},
   "source": [
    "# 03. Create Visualizations "
   ]
  },
  {
   "cell_type": "markdown",
   "id": "f4a65e69",
   "metadata": {},
   "source": [
    "## Bar Charts\n",
    "Good for categorical data as it organize observations according to some category"
   ]
  },
  {
   "cell_type": "code",
   "execution_count": 44,
   "id": "7599808b",
   "metadata": {},
   "outputs": [
    {
     "data": {
      "text/html": [
       "<div>\n",
       "<style scoped>\n",
       "    .dataframe tbody tr th:only-of-type {\n",
       "        vertical-align: middle;\n",
       "    }\n",
       "\n",
       "    .dataframe tbody tr th {\n",
       "        vertical-align: top;\n",
       "    }\n",
       "\n",
       "    .dataframe thead th {\n",
       "        text-align: right;\n",
       "    }\n",
       "</style>\n",
       "<table border=\"1\" class=\"dataframe\">\n",
       "  <thead>\n",
       "    <tr style=\"text-align: right;\">\n",
       "      <th></th>\n",
       "      <th>order_id</th>\n",
       "      <th>user_id</th>\n",
       "      <th>order_number</th>\n",
       "      <th>order_day_of_week</th>\n",
       "      <th>order_hour_of_day</th>\n",
       "      <th>days_since_prior_order</th>\n",
       "      <th>product_id</th>\n",
       "      <th>add_to_cart_order</th>\n",
       "      <th>reordered</th>\n",
       "      <th>product_name</th>\n",
       "      <th>...</th>\n",
       "      <th>price_range_loc</th>\n",
       "      <th>busiest_day</th>\n",
       "      <th>busiest_days</th>\n",
       "      <th>busiest_period_of_day</th>\n",
       "      <th>max_order</th>\n",
       "      <th>loyalty_flag</th>\n",
       "      <th>avg_price_order</th>\n",
       "      <th>spending_flag</th>\n",
       "      <th>median_freq</th>\n",
       "      <th>frequency_flag</th>\n",
       "    </tr>\n",
       "  </thead>\n",
       "  <tbody>\n",
       "    <tr>\n",
       "      <th>0</th>\n",
       "      <td>2539329</td>\n",
       "      <td>1</td>\n",
       "      <td>1</td>\n",
       "      <td>2</td>\n",
       "      <td>8</td>\n",
       "      <td>NaN</td>\n",
       "      <td>196</td>\n",
       "      <td>1</td>\n",
       "      <td>0</td>\n",
       "      <td>Soda</td>\n",
       "      <td>...</td>\n",
       "      <td>Mid-range product</td>\n",
       "      <td>Regularly busy</td>\n",
       "      <td>Regular busy days</td>\n",
       "      <td>Average orders</td>\n",
       "      <td>10</td>\n",
       "      <td>New customer</td>\n",
       "      <td>6.367797</td>\n",
       "      <td>Low spender</td>\n",
       "      <td>20.5</td>\n",
       "      <td>Non-frequent customer</td>\n",
       "    </tr>\n",
       "    <tr>\n",
       "      <th>1</th>\n",
       "      <td>2398795</td>\n",
       "      <td>1</td>\n",
       "      <td>2</td>\n",
       "      <td>3</td>\n",
       "      <td>7</td>\n",
       "      <td>15.0</td>\n",
       "      <td>196</td>\n",
       "      <td>1</td>\n",
       "      <td>1</td>\n",
       "      <td>Soda</td>\n",
       "      <td>...</td>\n",
       "      <td>Mid-range product</td>\n",
       "      <td>Regularly busy</td>\n",
       "      <td>Slowest days</td>\n",
       "      <td>Average orders</td>\n",
       "      <td>10</td>\n",
       "      <td>New customer</td>\n",
       "      <td>6.367797</td>\n",
       "      <td>Low spender</td>\n",
       "      <td>20.5</td>\n",
       "      <td>Non-frequent customer</td>\n",
       "    </tr>\n",
       "    <tr>\n",
       "      <th>2</th>\n",
       "      <td>473747</td>\n",
       "      <td>1</td>\n",
       "      <td>3</td>\n",
       "      <td>3</td>\n",
       "      <td>12</td>\n",
       "      <td>21.0</td>\n",
       "      <td>196</td>\n",
       "      <td>1</td>\n",
       "      <td>1</td>\n",
       "      <td>Soda</td>\n",
       "      <td>...</td>\n",
       "      <td>Mid-range product</td>\n",
       "      <td>Regularly busy</td>\n",
       "      <td>Slowest days</td>\n",
       "      <td>Most orders</td>\n",
       "      <td>10</td>\n",
       "      <td>New customer</td>\n",
       "      <td>6.367797</td>\n",
       "      <td>Low spender</td>\n",
       "      <td>20.5</td>\n",
       "      <td>Non-frequent customer</td>\n",
       "    </tr>\n",
       "    <tr>\n",
       "      <th>3</th>\n",
       "      <td>2254736</td>\n",
       "      <td>1</td>\n",
       "      <td>4</td>\n",
       "      <td>4</td>\n",
       "      <td>7</td>\n",
       "      <td>29.0</td>\n",
       "      <td>196</td>\n",
       "      <td>1</td>\n",
       "      <td>1</td>\n",
       "      <td>Soda</td>\n",
       "      <td>...</td>\n",
       "      <td>Mid-range product</td>\n",
       "      <td>Least busy</td>\n",
       "      <td>Slowest days</td>\n",
       "      <td>Average orders</td>\n",
       "      <td>10</td>\n",
       "      <td>New customer</td>\n",
       "      <td>6.367797</td>\n",
       "      <td>Low spender</td>\n",
       "      <td>20.5</td>\n",
       "      <td>Non-frequent customer</td>\n",
       "    </tr>\n",
       "    <tr>\n",
       "      <th>4</th>\n",
       "      <td>431534</td>\n",
       "      <td>1</td>\n",
       "      <td>5</td>\n",
       "      <td>4</td>\n",
       "      <td>15</td>\n",
       "      <td>28.0</td>\n",
       "      <td>196</td>\n",
       "      <td>1</td>\n",
       "      <td>1</td>\n",
       "      <td>Soda</td>\n",
       "      <td>...</td>\n",
       "      <td>Mid-range product</td>\n",
       "      <td>Least busy</td>\n",
       "      <td>Slowest days</td>\n",
       "      <td>Most orders</td>\n",
       "      <td>10</td>\n",
       "      <td>New customer</td>\n",
       "      <td>6.367797</td>\n",
       "      <td>Low spender</td>\n",
       "      <td>20.5</td>\n",
       "      <td>Non-frequent customer</td>\n",
       "    </tr>\n",
       "  </tbody>\n",
       "</table>\n",
       "<p>5 rows × 24 columns</p>\n",
       "</div>"
      ],
      "text/plain": [
       "   order_id  user_id  order_number  order_day_of_week  order_hour_of_day  \\\n",
       "0   2539329        1             1                  2                  8   \n",
       "1   2398795        1             2                  3                  7   \n",
       "2    473747        1             3                  3                 12   \n",
       "3   2254736        1             4                  4                  7   \n",
       "4    431534        1             5                  4                 15   \n",
       "\n",
       "   days_since_prior_order  product_id  add_to_cart_order  reordered  \\\n",
       "0                     NaN         196                  1          0   \n",
       "1                    15.0         196                  1          1   \n",
       "2                    21.0         196                  1          1   \n",
       "3                    29.0         196                  1          1   \n",
       "4                    28.0         196                  1          1   \n",
       "\n",
       "  product_name  ...    price_range_loc     busiest_day       busiest_days  \\\n",
       "0         Soda  ...  Mid-range product  Regularly busy  Regular busy days   \n",
       "1         Soda  ...  Mid-range product  Regularly busy       Slowest days   \n",
       "2         Soda  ...  Mid-range product  Regularly busy       Slowest days   \n",
       "3         Soda  ...  Mid-range product      Least busy       Slowest days   \n",
       "4         Soda  ...  Mid-range product      Least busy       Slowest days   \n",
       "\n",
       "  busiest_period_of_day max_order  loyalty_flag avg_price_order spending_flag  \\\n",
       "0        Average orders        10  New customer        6.367797   Low spender   \n",
       "1        Average orders        10  New customer        6.367797   Low spender   \n",
       "2           Most orders        10  New customer        6.367797   Low spender   \n",
       "3        Average orders        10  New customer        6.367797   Low spender   \n",
       "4           Most orders        10  New customer        6.367797   Low spender   \n",
       "\n",
       "   median_freq         frequency_flag  \n",
       "0         20.5  Non-frequent customer  \n",
       "1         20.5  Non-frequent customer  \n",
       "2         20.5  Non-frequent customer  \n",
       "3         20.5  Non-frequent customer  \n",
       "4         20.5  Non-frequent customer  \n",
       "\n",
       "[5 rows x 24 columns]"
      ]
     },
     "execution_count": 44,
     "metadata": {},
     "output_type": "execute_result"
    }
   ],
   "source": [
    "# display the first 5 rows of dataframe\n",
    "ords_prods_merge.head()"
   ]
  },
  {
   "cell_type": "code",
   "execution_count": 8,
   "id": "bbf31a7b",
   "metadata": {},
   "outputs": [
    {
     "data": {
      "text/plain": [
       "<AxesSubplot:>"
      ]
     },
     "execution_count": 8,
     "metadata": {},
     "output_type": "execute_result"
    },
    {
     "data": {
      "image/png": "[encoded data removed]",
      "text/plain": [
       "<Figure size 432x288 with 1 Axes>"
      ]
     },
     "metadata": {
      "needs_background": "light"
     },
     "output_type": "display_data"
    }
   ],
   "source": [
    "# create bar chart for order_day_of_week column\n",
    "ords_prods_merge['order_day_of_week'].value_counts().plot.bar()\n",
    "\n",
    "# the observations are ordered from largest to smallest"
   ]
  },
  {
   "cell_type": "code",
   "execution_count": 9,
   "id": "7f1dd3a5",
   "metadata": {},
   "outputs": [
    {
     "data": {
      "text/plain": [
       "<AxesSubplot:>"
      ]
     },
     "execution_count": 9,
     "metadata": {},
     "output_type": "execute_result"
    },
    {
     "data": {
      "image/png": "[encoded data removed]",
      "text/plain": [
       "<Figure size 432x288 with 1 Axes>"
      ]
     },
     "metadata": {
      "needs_background": "light"
     },
     "output_type": "display_data"
    }
   ],
   "source": [
    "# to change the order based on the index order\n",
    "ords_prods_merge['order_day_of_week'].value_counts().sort_index().plot.bar()"
   ]
  },
  {
   "cell_type": "code",
   "execution_count": 10,
   "id": "4a7a92e4",
   "metadata": {},
   "outputs": [
    {
     "data": {
      "text/plain": [
       "<AxesSubplot:>"
      ]
     },
     "execution_count": 10,
     "metadata": {},
     "output_type": "execute_result"
    },
    {
     "data": {
      "image/png": "[encoded data removed]",
      "text/plain": [
       "<Figure size 432x288 with 1 Axes>"
      ]
     },
     "metadata": {
      "needs_background": "light"
     },
     "output_type": "display_data"
    }
   ],
   "source": [
    "# create bar chart with colour\n",
    "# there are many other argument to add to plot.bar() function to change and tweak the final output of the chart\n",
    "ords_prods_merge['order_day_of_week'].value_counts().plot.bar(color=['purple', 'red', 'pink', 'orange', 'yellow', 'green', 'blue'])"
   ]
  },
  {
   "cell_type": "code",
   "execution_count": 12,
   "id": "6a85ae88",
   "metadata": {},
   "outputs": [
    {
     "data": {
      "image/png": "[encoded data removed]",
      "text/plain": [
       "<Figure size 432x288 with 1 Axes>"
      ]
     },
     "metadata": {
      "needs_background": "light"
     },
     "output_type": "display_data"
    }
   ],
   "source": [
    "# save the bar chart within the bar object\n",
    "bar = ords_prods_merge['order_day_of_week'].value_counts().plot.bar(color=['purple', 'red', 'pink', 'orange', 'yellow', 'green', 'blue'])\n",
    "\n",
    "# to access its we can call bar.figure"
   ]
  },
  {
   "cell_type": "code",
   "execution_count": 14,
   "id": "2b06d63d",
   "metadata": {},
   "outputs": [],
   "source": [
    "# export outside Jupiter\n",
    "bar.figure.savefig(os.path.join(path, '04 Analysis', 'Visualizations', 'bar_orders_dow.png'))"
   ]
  },
  {
   "cell_type": "markdown",
   "id": "c9ef7186",
   "metadata": {},
   "source": [
    "## Histograms & Scatterplot\n",
    "- Histogram is good for continuous data as it shows the density of continuous variable\n",
    "- Scatterplot to investigate the relationship between 2 variables / to visualize the distribution of data points in order to identify any outliers"
   ]
  },
  {
   "cell_type": "code",
   "execution_count": 15,
   "id": "dc4093bc",
   "metadata": {},
   "outputs": [
    {
     "data": {
      "text/plain": [
       "<AxesSubplot:ylabel='Frequency'>"
      ]
     },
     "execution_count": 15,
     "metadata": {},
     "output_type": "execute_result"
    },
    {
     "data": {
      "image/png": "[encoded data removed]",
      "text/plain": [
       "<Figure size 432x288 with 1 Axes>"
      ]
     },
     "metadata": {
      "needs_background": "light"
     },
     "output_type": "display_data"
    }
   ],
   "source": [
    "# create histogram for prices column\n",
    "ords_prods_merge['prices'].plot.hist(bins=25)"
   ]
  },
  {
   "cell_type": "code",
   "execution_count": 17,
   "id": "f2683f9f",
   "metadata": {},
   "outputs": [
    {
     "data": {
      "text/plain": [
       "count    3.240486e+07\n",
       "mean     1.198023e+01\n",
       "std      4.956554e+02\n",
       "min      1.000000e+00\n",
       "25%      4.200000e+00\n",
       "50%      7.400000e+00\n",
       "75%      1.130000e+01\n",
       "max      9.999900e+04\n",
       "Name: prices, dtype: float64"
      ]
     },
     "execution_count": 17,
     "metadata": {},
     "output_type": "execute_result"
    }
   ],
   "source": [
    "# Check the prices column using describe as we should have gotten 25 bars (one for each bin)\n",
    "ords_prods_merge['prices'].describe()"
   ]
  },
  {
   "cell_type": "code",
   "execution_count": 18,
   "id": "42927127",
   "metadata": {},
   "outputs": [
    {
     "data": {
      "text/plain": [
       "11.980225638467232"
      ]
     },
     "execution_count": 18,
     "metadata": {},
     "output_type": "execute_result"
    }
   ],
   "source": [
    "# check mean\n",
    "ords_prods_merge['prices'].mean()"
   ]
  },
  {
   "cell_type": "code",
   "execution_count": 19,
   "id": "b37555c4",
   "metadata": {},
   "outputs": [
    {
     "data": {
      "text/plain": [
       "7.4"
      ]
     },
     "execution_count": 19,
     "metadata": {},
     "output_type": "execute_result"
    }
   ],
   "source": [
    "# check median\n",
    "ords_prods_merge['prices'].median()"
   ]
  },
  {
   "cell_type": "code",
   "execution_count": 20,
   "id": "d5564f0a",
   "metadata": {},
   "outputs": [
    {
     "data": {
      "text/plain": [
       "99999.0"
      ]
     },
     "execution_count": 20,
     "metadata": {},
     "output_type": "execute_result"
    }
   ],
   "source": [
    "# check max value\n",
    "ords_prods_merge['prices'].max()\n",
    "\n",
    "# the max value yields a strange result as how could an item cost $99,999?\n",
    "# this must be due to data corruption or special balue within the data, causing a breaking in the histogram that having most values between 7 and 12\n",
    "# This extreme value force the histogram to push all the small values into one bar and the extreme value in another bar, but since it is so tiny, we can't see"
   ]
  },
  {
   "cell_type": "code",
   "execution_count": null,
   "id": "c783809a",
   "metadata": {},
   "outputs": [],
   "source": [
    "# create scatterplots using 'matplotlib'\n",
    "def scatterplot(x_data, y_data, x_label = \"\", y_label = \"\", title = \"\", color = \"r\", yscale_log = False)\n",
    "\n",
    "# create the plot object\n",
    "_, ax = plt.subplots()\n",
    "\n",
    "# plot the data, set the size(s), color and transperancy (alpha)\n",
    "# of the points\n",
    "ax.scatter(x_data, y_data, s=10, color = cp;pr, alpha = 0/75)\n",
    "\n",
    "if yscale_log == True\n",
    "    ax.set_yscale('log')\n",
    "\n",
    "# Label the axes and provide a title\n",
    "ax.set_title(title)\n",
    "ax.set_xlabel(x_label)\n",
    "ax.set_ylabel(y_label)\n",
    "\n",
    "https://towardsdatascience.com/5-quick-and-easy-data-visualizations-in-python-with-code-a2284bae952f"
   ]
  },
  {
   "cell_type": "markdown",
   "id": "838d83f1",
   "metadata": {},
   "source": [
    "x_data: the x-axis data.\n",
    "y_data: the y-axis data.\n",
    "x_label: the label for the x-axis (optional, defaults to an empty string).\n",
    "y_label: the label for the y-axis (optional, defaults to an empty string).\n",
    "title: the title of the plot (optional, defaults to an empty string).\n",
    "color: the color of the points in the plot (optional, defaults to \"r\", which is short for red).\n",
    "yscale_log: whether or not to use a logarithmic scale on the y-axis (optional, defaults to False)."
   ]
  },
  {
   "cell_type": "code",
   "execution_count": 21,
   "id": "d3a7eb5f",
   "metadata": {},
   "outputs": [
    {
     "data": {
      "text/plain": [
       "<AxesSubplot:xlabel='prices', ylabel='prices'>"
      ]
     },
     "execution_count": 21,
     "metadata": {},
     "output_type": "execute_result"
    },
    {
     "data": {
      "image/png": "[encoded data removed]",
      "text/plain": [
       "<Figure size 432x288 with 1 Axes>"
      ]
     },
     "metadata": {
      "needs_background": "light"
     },
     "output_type": "display_data"
    }
   ],
   "source": [
    "# use scatterplots to plot \"prices\" column against itself to reveal whether any outliers present\n",
    "# scatterplots are created using scatterplot() function which is included in seaborn library (imported as sns)\n",
    "sns.scatterplot(x = 'prices', y = 'prices', data = ords_prods_merge)\n",
    "\n",
    "# The mean of the prices is around 12, so you would expect the data points to be distributed somewhere around this number.\n",
    "# Howver, there are two data points that far beyond values that we would expect, values closed to 20,000 and even 100,000"
   ]
  },
  {
   "cell_type": "code",
   "execution_count": 37,
   "id": "065c3afd",
   "metadata": {},
   "outputs": [
    {
     "data": {
      "text/html": [
       "<div>\n",
       "<style scoped>\n",
       "    .dataframe tbody tr th:only-of-type {\n",
       "        vertical-align: middle;\n",
       "    }\n",
       "\n",
       "    .dataframe tbody tr th {\n",
       "        vertical-align: top;\n",
       "    }\n",
       "\n",
       "    .dataframe thead th {\n",
       "        text-align: right;\n",
       "    }\n",
       "</style>\n",
       "<table border=\"1\" class=\"dataframe\">\n",
       "  <thead>\n",
       "    <tr style=\"text-align: right;\">\n",
       "      <th></th>\n",
       "      <th>order_id</th>\n",
       "      <th>user_id</th>\n",
       "      <th>product_id</th>\n",
       "      <th>product_name</th>\n",
       "      <th>prices</th>\n",
       "    </tr>\n",
       "  </thead>\n",
       "  <tbody>\n",
       "    <tr>\n",
       "      <th>10030345</th>\n",
       "      <td>912404</td>\n",
       "      <td>17</td>\n",
       "      <td>21553</td>\n",
       "      <td>Lowfat 2% Milkfat Cottage Cheese</td>\n",
       "      <td>14900.0</td>\n",
       "    </tr>\n",
       "    <tr>\n",
       "      <th>10030346</th>\n",
       "      <td>603376</td>\n",
       "      <td>17</td>\n",
       "      <td>21553</td>\n",
       "      <td>Lowfat 2% Milkfat Cottage Cheese</td>\n",
       "      <td>14900.0</td>\n",
       "    </tr>\n",
       "    <tr>\n",
       "      <th>10030347</th>\n",
       "      <td>3264360</td>\n",
       "      <td>135</td>\n",
       "      <td>21553</td>\n",
       "      <td>Lowfat 2% Milkfat Cottage Cheese</td>\n",
       "      <td>14900.0</td>\n",
       "    </tr>\n",
       "    <tr>\n",
       "      <th>10030348</th>\n",
       "      <td>892534</td>\n",
       "      <td>135</td>\n",
       "      <td>21553</td>\n",
       "      <td>Lowfat 2% Milkfat Cottage Cheese</td>\n",
       "      <td>14900.0</td>\n",
       "    </tr>\n",
       "    <tr>\n",
       "      <th>10030349</th>\n",
       "      <td>229704</td>\n",
       "      <td>342</td>\n",
       "      <td>21553</td>\n",
       "      <td>Lowfat 2% Milkfat Cottage Cheese</td>\n",
       "      <td>14900.0</td>\n",
       "    </tr>\n",
       "    <tr>\n",
       "      <th>...</th>\n",
       "      <td>...</td>\n",
       "      <td>...</td>\n",
       "      <td>...</td>\n",
       "      <td>...</td>\n",
       "      <td>...</td>\n",
       "    </tr>\n",
       "    <tr>\n",
       "      <th>29166209</th>\n",
       "      <td>2249946</td>\n",
       "      <td>204099</td>\n",
       "      <td>33664</td>\n",
       "      <td>2 % Reduced Fat  Milk</td>\n",
       "      <td>99999.0</td>\n",
       "    </tr>\n",
       "    <tr>\n",
       "      <th>29166210</th>\n",
       "      <td>2363282</td>\n",
       "      <td>204099</td>\n",
       "      <td>33664</td>\n",
       "      <td>2 % Reduced Fat  Milk</td>\n",
       "      <td>99999.0</td>\n",
       "    </tr>\n",
       "    <tr>\n",
       "      <th>29166211</th>\n",
       "      <td>3181945</td>\n",
       "      <td>204395</td>\n",
       "      <td>33664</td>\n",
       "      <td>2 % Reduced Fat  Milk</td>\n",
       "      <td>99999.0</td>\n",
       "    </tr>\n",
       "    <tr>\n",
       "      <th>29166212</th>\n",
       "      <td>2486215</td>\n",
       "      <td>205227</td>\n",
       "      <td>33664</td>\n",
       "      <td>2 % Reduced Fat  Milk</td>\n",
       "      <td>99999.0</td>\n",
       "    </tr>\n",
       "    <tr>\n",
       "      <th>29166213</th>\n",
       "      <td>2232716</td>\n",
       "      <td>205227</td>\n",
       "      <td>33664</td>\n",
       "      <td>2 % Reduced Fat  Milk</td>\n",
       "      <td>99999.0</td>\n",
       "    </tr>\n",
       "  </tbody>\n",
       "</table>\n",
       "<p>5127 rows × 5 columns</p>\n",
       "</div>"
      ],
      "text/plain": [
       "          order_id  user_id  product_id                      product_name  \\\n",
       "10030345    912404       17       21553  Lowfat 2% Milkfat Cottage Cheese   \n",
       "10030346    603376       17       21553  Lowfat 2% Milkfat Cottage Cheese   \n",
       "10030347   3264360      135       21553  Lowfat 2% Milkfat Cottage Cheese   \n",
       "10030348    892534      135       21553  Lowfat 2% Milkfat Cottage Cheese   \n",
       "10030349    229704      342       21553  Lowfat 2% Milkfat Cottage Cheese   \n",
       "...            ...      ...         ...                               ...   \n",
       "29166209   2249946   204099       33664             2 % Reduced Fat  Milk   \n",
       "29166210   2363282   204099       33664             2 % Reduced Fat  Milk   \n",
       "29166211   3181945   204395       33664             2 % Reduced Fat  Milk   \n",
       "29166212   2486215   205227       33664             2 % Reduced Fat  Milk   \n",
       "29166213   2232716   205227       33664             2 % Reduced Fat  Milk   \n",
       "\n",
       "           prices  \n",
       "10030345  14900.0  \n",
       "10030346  14900.0  \n",
       "10030347  14900.0  \n",
       "10030348  14900.0  \n",
       "10030349  14900.0  \n",
       "...           ...  \n",
       "29166209  99999.0  \n",
       "29166210  99999.0  \n",
       "29166211  99999.0  \n",
       "29166212  99999.0  \n",
       "29166213  99999.0  \n",
       "\n",
       "[5127 rows x 5 columns]"
      ]
     },
     "execution_count": 37,
     "metadata": {},
     "output_type": "execute_result"
    }
   ],
   "source": [
    "# run exploratory checks\n",
    "# first, determine any values above certain treshold in the data\n",
    "ords_prods_merge.loc[ords_prods_merge['prices'] > 100,['order_id','user_id','product_id', 'product_name','prices']]\n",
    "\n",
    "# from the output, you can see there are 5,127 rows with outlier observations (price > $100)\n",
    "# at the top of prices column, we can see another off value of $14,900, which correspondence to the second unexplainable point in the scatterplot\n",
    "# we can assume that it's the $14,900 and $99,999 values are skewing the charts "
   ]
  },
  {
   "cell_type": "code",
   "execution_count": 38,
   "id": "824edd66",
   "metadata": {},
   "outputs": [],
   "source": [
    "# mark the outliers as missing since they don't make sense in terms of the other values in the column\n",
    "ords_prods_merge.loc[ords_prods_merge['prices'] > 100, 'prices'] = np.nan"
   ]
  },
  {
   "cell_type": "code",
   "execution_count": 39,
   "id": "296439c5",
   "metadata": {},
   "outputs": [
    {
     "data": {
      "text/plain": [
       "25.0"
      ]
     },
     "execution_count": 39,
     "metadata": {},
     "output_type": "execute_result"
    }
   ],
   "source": [
    "# check the max value of 'prices' column\n",
    "ords_prods_merge['prices'].max()"
   ]
  },
  {
   "cell_type": "code",
   "execution_count": 41,
   "id": "d7424952",
   "metadata": {},
   "outputs": [
    {
     "data": {
      "image/png": "[encoded data removed]",
      "text/plain": [
       "<Figure size 432x288 with 1 Axes>"
      ]
     },
     "metadata": {
      "needs_background": "light"
     },
     "output_type": "display_data"
    }
   ],
   "source": [
    "# retry the histogram\n",
    "hist = ords_prods_merge['prices'].plot.hist(bins=25)\n",
    "\n",
    "# the result makes more sense as most products are between $1 and $15, while a few are higher priced at $15 to $25 "
   ]
  },
  {
   "cell_type": "code",
   "execution_count": 42,
   "id": "96ee27ee",
   "metadata": {},
   "outputs": [
    {
     "data": {
      "image/png": "[encoded data removed]",
      "text/plain": [
       "<Figure size 432x288 with 1 Axes>"
      ]
     },
     "metadata": {
      "needs_background": "light"
     },
     "output_type": "display_data"
    }
   ],
   "source": [
    "# increase the level of granularity to bins = 70\n",
    "hist_2 = ords_prods_merge['prices'].plot.hist(bins=70)"
   ]
  },
  {
   "cell_type": "code",
   "execution_count": 43,
   "id": "5b494dfa",
   "metadata": {},
   "outputs": [],
   "source": [
    "# export outside Jupiter\n",
    "hist.figure.savefig(os.path.join(path, '04 Analysis', 'Visualizations', 'hist_orders_dow.png'))"
   ]
  },
  {
   "cell_type": "markdown",
   "id": "67e11456",
   "metadata": {},
   "source": [
    "## Line Charts\n",
    "Line charts are traditionally used to visualize the development of a characteristic over time."
   ]
  },
  {
   "cell_type": "markdown",
   "id": "429cf1c9",
   "metadata": {},
   "source": [
    "## Sampling Data"
   ]
  },
  {
   "cell_type": "code",
   "execution_count": 45,
   "id": "675ea8ae",
   "metadata": {},
   "outputs": [],
   "source": [
    "# create random samples\n",
    "# split the dataframe into two samples with the same distribution, for instance an 80/20 or 70/30 split.\n",
    "# in a 70/30 split, the 30 percent sample would statistically resemble the 70 percent sample but contain less rows\n",
    "# create list of random floating numbers between 0 and 1 (with 1 representing 100 percent of the dataframe)\n",
    "# any rows who assigned number is less than 0.7 are placed in one sample, while any rows who assigned number is greater than 0.7 are placed in the other, effectively splitting dataframe into two dataframes at a 70/30 ratio.\n",
    "\n",
    "# set the seed for the random number generator\n",
    "np.random.seed(4)"
   ]
  },
  {
   "cell_type": "code",
   "execution_count": null,
   "id": "b6a18e1e",
   "metadata": {},
   "outputs": [],
   "source": [
    "# create a list holding True/False values to the test np.random.rand() <= 0.7\n",
    "dev = np.random.rand(len(ords_prods_merge)) <= 0.7"
   ]
  },
  {
   "cell_type": "code",
   "execution_count": 46,
   "id": "0c4ce90e",
   "metadata": {},
   "outputs": [],
   "source": [
    "# split the dataframe into two samples\n",
    "# strore 70% of the sample in the dataframe big\n",
    "big = ords_prods_merge[dev]"
   ]
  },
  {
   "cell_type": "code",
   "execution_count": null,
   "id": "3a4c7e7b",
   "metadata": {},
   "outputs": [],
   "source": [
    "# store 30% of the sample in dataframe small\n",
    "small = ords_prods_merge[~dev]"
   ]
  },
  {
   "cell_type": "code",
   "execution_count": 47,
   "id": "9bb828a6",
   "metadata": {},
   "outputs": [
    {
     "data": {
      "text/plain": [
       "32404859"
      ]
     },
     "execution_count": 47,
     "metadata": {},
     "output_type": "execute_result"
    }
   ],
   "source": [
    "# check the number of rows for dataframe \n",
    "len(ords_prods_merge)"
   ]
  },
  {
   "cell_type": "code",
   "execution_count": 48,
   "id": "3678fe2d",
   "metadata": {},
   "outputs": [
    {
     "data": {
      "text/plain": [
       "32404859"
      ]
     },
     "execution_count": 48,
     "metadata": {},
     "output_type": "execute_result"
    }
   ],
   "source": [
    "# check the number of rows for dataframe \n",
    "len(big) + len(small)"
   ]
  },
  {
   "cell_type": "code",
   "execution_count": 49,
   "id": "d31dba28",
   "metadata": {},
   "outputs": [],
   "source": [
    "# reduce the samples to only those necessary columns\n",
    "df_2 = small [['order_day_of_week', 'prices']]"
   ]
  },
  {
   "cell_type": "code",
   "execution_count": 52,
   "id": "73a90caa",
   "metadata": {},
   "outputs": [
    {
     "data": {
      "image/png": "[encoded data removed]",
      "text/plain": [
       "<Figure size 432x288 with 1 Axes>"
      ]
     },
     "metadata": {
      "needs_background": "light"
     },
     "output_type": "display_data"
    }
   ],
   "source": [
    "# create line chart\n",
    "line = sns.lineplot(data = df_2, x = 'order_day_of_week', y ='prices')\n",
    "\n",
    "# The blue line represents how prices differ depending on the day of the week. \n",
    "# The peaks on days zero and six mean that most money is spent on Saturday and Sunday. \n",
    "# This makes sense as people usually stock up on things over the weekend."
   ]
  },
  {
   "cell_type": "code",
   "execution_count": 53,
   "id": "9f7b6f02",
   "metadata": {},
   "outputs": [],
   "source": [
    "# create line chart from entire dataframe, reducing the column to only order_day_of_week and prices\n",
    "df_4 = ords_prods_merge[['order_day_of_week', 'prices']]"
   ]
  },
  {
   "cell_type": "code",
   "execution_count": 54,
   "id": "25553f18",
   "metadata": {},
   "outputs": [
    {
     "data": {
      "image/png": "[encoded data removed]",
      "text/plain": [
       "<Figure size 432x288 with 1 Axes>"
      ]
     },
     "metadata": {
      "needs_background": "light"
     },
     "output_type": "display_data"
    }
   ],
   "source": [
    "line_2 = sns.lineplot(data = df_4, x = 'order_day_of_week', y = 'prices')\n",
    "\n",
    "# the line chart looks very similar to the shape of the line chart of the subset. \n",
    "# Therefore, we can conclude that the subset is an accurate representation of the entire dataframe"
   ]
  },
  {
   "cell_type": "code",
   "execution_count": 55,
   "id": "c135dafb",
   "metadata": {},
   "outputs": [],
   "source": [
    "# export outside Jupiter\n",
    "line_2.figure.savefig(os.path.join(path, '04 Analysis', 'Visualizations', 'line_orders_dow.png'))"
   ]
  },
  {
   "cell_type": "code",
   "execution_count": null,
   "id": "5ae13526",
   "metadata": {},
   "outputs": [],
   "source": []
  }
 ],
 "metadata": {
  "kernelspec": {
   "display_name": "Python 3 (ipykernel)",
   "language": "python",
   "name": "python3"
  },
  "language_info": {
   "codemirror_mode": {
    "name": "ipython",
    "version": 3
   },
   "file_extension": ".py",
   "mimetype": "text/x-python",
   "name": "python",
   "nbconvert_exporter": "python",
   "pygments_lexer": "ipython3",
   "version": "3.10.9"
  }
 },
 "nbformat": 4,
 "nbformat_minor": 5
}
